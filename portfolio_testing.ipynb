{
 "cells": [
  {
   "cell_type": "code",
   "execution_count": 19,
   "id": "c826c89e",
   "metadata": {},
   "outputs": [],
   "source": [
    "from datetime import datetime\n",
    "from portfolio.equity_portfolio import EquityPortfolio\n",
    "from analyzer.analyzer import Analyzer as a\n",
    "import pandas as pd\n",
    "import matplotlib.pyplot as plt"
   ]
  },
  {
   "cell_type": "code",
   "execution_count": 20,
   "id": "5052332c",
   "metadata": {},
   "outputs": [],
   "source": [
    "start = datetime(2017,1,1)\n",
    "end = datetime(2021,1,1)"
   ]
  },
  {
   "cell_type": "code",
   "execution_count": 21,
   "id": "749a7203",
   "metadata": {},
   "outputs": [],
   "source": [
    "ep = EquityPortfolio(start,end,\"portfolio\",seats=10,strats=\n",
    "                    {\n",
    "                        \"rolling_percent\":{\"params\":{\"timeframe\":\"daily\"\n",
    "                ,\"requirement\":5\n",
    "                ,\"days\":100\n",
    "                ,\"value\":False\n",
    "                ,\"currency\":\"prices\"}},\n",
    "                            \"progress_report\":{\"params\":{\"timeframe\":\"quarterly\"\n",
    "                    ,\"requirement\":10}},\n",
    "                    \"financial_predict\":{\"params\":{}},\n",
    "                    })"
   ]
  },
  {
   "cell_type": "code",
   "execution_count": 22,
   "id": "39d6ca89",
   "metadata": {},
   "outputs": [
    {
     "data": {
      "text/plain": [
       "{'rolling_percent': {'params': {'timeframe': 'daily',\n",
       "   'requirement': 5,\n",
       "   'days': 100,\n",
       "   'value': False,\n",
       "   'currency': 'prices'}},\n",
       " 'progress_report': {'params': {'timeframe': 'quarterly', 'requirement': 10}},\n",
       " 'financial_predict': {'params': {}}}"
      ]
     },
     "execution_count": 22,
     "metadata": {},
     "output_type": "execute_result"
    }
   ],
   "source": [
    "ep.strats"
   ]
  },
  {
   "cell_type": "code",
   "execution_count": 23,
   "id": "44c34a0a",
   "metadata": {},
   "outputs": [
    {
     "name": "stderr",
     "output_type": "stream",
     "text": [
      "100%|███████████████████████████████████████████████████████████████████████████████████████████████████████| 3/3 [00:08<00:00,  2.74s/it]\n"
     ]
    }
   ],
   "source": [
    "ep.load()"
   ]
  },
  {
   "cell_type": "code",
   "execution_count": 6,
   "id": "ca9e1933",
   "metadata": {},
   "outputs": [
    {
     "name": "stderr",
     "output_type": "stream",
     "text": [
      "100%|███████████████████████████████████████████████████████████████████████████████████████████████████████| 3/3 [00:00<00:00,  6.82it/s]\n"
     ]
    }
   ],
   "source": [
    "ep.transform()"
   ]
  },
  {
   "cell_type": "code",
   "execution_count": 7,
   "id": "58e5da06",
   "metadata": {
    "scrolled": true
   },
   "outputs": [
    {
     "name": "stderr",
     "output_type": "stream",
     "text": [
      "100%|███████████████████████████████████████████████████████████████████████████████████████████████████████| 3/3 [00:13<00:00,  4.60s/it]\n"
     ]
    }
   ],
   "source": [
    "ep.sim()"
   ]
  },
  {
   "cell_type": "code",
   "execution_count": 24,
   "id": "7996a236",
   "metadata": {
    "scrolled": true
   },
   "outputs": [
    {
     "name": "stderr",
     "output_type": "stream",
     "text": [
      "  0%|                                                                                                               | 0/3 [00:00<?, ?it/s]\n",
      "backtesting_seats:   0%|                                                                                           | 0/10 [00:00<?, ?it/s]\u001b[A"
     ]
    },
    {
     "name": "stdout",
     "output_type": "stream",
     "text": [
      "Cannot convert tz-naive Timestamp, use tz_localize to localize\n",
      "Cannot convert tz-naive Timestamp, use tz_localize to localize\n",
      "Cannot convert tz-naive Timestamp, use tz_localize to localize\n",
      "Cannot convert tz-naive Timestamp, use tz_localize to localize\n",
      "Cannot convert tz-naive Timestamp, use tz_localize to localize\n",
      "Cannot convert tz-naive Timestamp, use tz_localize to localize\n",
      "Cannot convert tz-naive Timestamp, use tz_localize to localize\n",
      "Cannot convert tz-naive Timestamp, use tz_localize to localize\n",
      "Cannot convert tz-naive Timestamp, use tz_localize to localize\n",
      "Cannot convert tz-naive Timestamp, use tz_localize to localize\n",
      "Cannot convert tz-naive Timestamp, use tz_localize to localize\n",
      "Cannot convert tz-naive Timestamp, use tz_localize to localize\n",
      "Cannot convert tz-naive Timestamp, use tz_localize to localize\n",
      "Cannot convert tz-naive Timestamp, use tz_localize to localize\n"
     ]
    },
    {
     "name": "stderr",
     "output_type": "stream",
     "text": [
      "\n",
      "backtesting_seats:  10%|████████▎                                                                          | 1/10 [00:04<00:37,  4.11s/it]\u001b[A"
     ]
    },
    {
     "name": "stdout",
     "output_type": "stream",
     "text": [
      "Cannot convert tz-naive Timestamp, use tz_localize to localize\n",
      "Cannot convert tz-naive Timestamp, use tz_localize to localize\n",
      "Cannot convert tz-naive Timestamp, use tz_localize to localize\n",
      "Cannot convert tz-naive Timestamp, use tz_localize to localize\n",
      "Cannot convert tz-naive Timestamp, use tz_localize to localize\n",
      "Cannot convert tz-naive Timestamp, use tz_localize to localize\n",
      "Cannot convert tz-naive Timestamp, use tz_localize to localize\n"
     ]
    },
    {
     "name": "stderr",
     "output_type": "stream",
     "text": [
      "\n",
      "backtesting_seats:  20%|████████████████▌                                                                  | 2/10 [00:08<00:36,  4.55s/it]\u001b[A"
     ]
    },
    {
     "name": "stdout",
     "output_type": "stream",
     "text": [
      "Cannot convert tz-naive Timestamp, use tz_localize to localize\n",
      "Cannot convert tz-naive Timestamp, use tz_localize to localize\n",
      "Cannot convert tz-naive Timestamp, use tz_localize to localize\n",
      "Cannot convert tz-naive Timestamp, use tz_localize to localize\n"
     ]
    },
    {
     "name": "stderr",
     "output_type": "stream",
     "text": [
      "\n",
      "backtesting_seats:  30%|████████████████████████▉                                                          | 3/10 [00:16<00:41,  5.88s/it]\u001b[A"
     ]
    },
    {
     "name": "stdout",
     "output_type": "stream",
     "text": [
      "Cannot convert tz-naive Timestamp, use tz_localize to localize\n",
      "Cannot convert tz-naive Timestamp, use tz_localize to localize\n",
      "Cannot convert tz-naive Timestamp, use tz_localize to localize\n",
      "Cannot convert tz-naive Timestamp, use tz_localize to localize\n",
      "Cannot convert tz-naive Timestamp, use tz_localize to localize\n",
      "Cannot convert tz-naive Timestamp, use tz_localize to localize\n"
     ]
    },
    {
     "name": "stderr",
     "output_type": "stream",
     "text": [
      "\n",
      "backtesting_seats:  40%|█████████████████████████████████▏                                                 | 4/10 [00:21<00:33,  5.50s/it]\u001b[A"
     ]
    },
    {
     "name": "stdout",
     "output_type": "stream",
     "text": [
      "Cannot convert tz-naive Timestamp, use tz_localize to localize\n",
      "Cannot convert tz-naive Timestamp, use tz_localize to localize\n",
      "Cannot convert tz-naive Timestamp, use tz_localize to localize\n",
      "Cannot convert tz-naive Timestamp, use tz_localize to localize\n",
      "Cannot convert tz-naive Timestamp, use tz_localize to localize\n"
     ]
    },
    {
     "name": "stderr",
     "output_type": "stream",
     "text": [
      "\n",
      "backtesting_seats:  50%|█████████████████████████████████████████▌                                         | 5/10 [00:30<00:33,  6.72s/it]\u001b[A"
     ]
    },
    {
     "name": "stdout",
     "output_type": "stream",
     "text": [
      "Cannot convert tz-naive Timestamp, use tz_localize to localize\n",
      "Cannot convert tz-naive Timestamp, use tz_localize to localize\n",
      "Cannot convert tz-naive Timestamp, use tz_localize to localize\n",
      "Cannot convert tz-naive Timestamp, use tz_localize to localize\n",
      "Cannot convert tz-naive Timestamp, use tz_localize to localize\n",
      "Cannot convert tz-naive Timestamp, use tz_localize to localize\n",
      "Cannot convert tz-naive Timestamp, use tz_localize to localize\n",
      "Cannot convert tz-naive Timestamp, use tz_localize to localize\n",
      "Cannot convert tz-naive Timestamp, use tz_localize to localize\n",
      "Cannot convert tz-naive Timestamp, use tz_localize to localize\n",
      "Cannot convert tz-naive Timestamp, use tz_localize to localize\n",
      "Cannot convert tz-naive Timestamp, use tz_localize to localize\n",
      "Cannot convert tz-naive Timestamp, use tz_localize to localize\n",
      "Cannot convert tz-naive Timestamp, use tz_localize to localize\n",
      "Cannot convert tz-naive Timestamp, use tz_localize to localize\n"
     ]
    },
    {
     "name": "stderr",
     "output_type": "stream",
     "text": [
      "\n"
     ]
    },
    {
     "name": "stdout",
     "output_type": "stream",
     "text": [
      "Cannot convert tz-naive Timestamp, use tz_localize to localize\n",
      "Cannot convert tz-naive Timestamp, use tz_localize to localize\n"
     ]
    },
    {
     "name": "stderr",
     "output_type": "stream",
     "text": [
      "backtesting_seats:  60%|█████████████████████████████████████████████████▊                                 | 6/10 [00:36<00:25,  6.46s/it]\u001b[A"
     ]
    },
    {
     "name": "stdout",
     "output_type": "stream",
     "text": [
      "Cannot convert tz-naive Timestamp, use tz_localize to localize\n",
      "Cannot convert tz-naive Timestamp, use tz_localize to localize\n",
      "Cannot convert tz-naive Timestamp, use tz_localize to localize\n",
      "Cannot convert tz-naive Timestamp, use tz_localize to localize\n",
      "Cannot convert tz-naive Timestamp, use tz_localize to localize\n",
      "Cannot convert tz-naive Timestamp, use tz_localize to localize\n",
      "Cannot convert tz-naive Timestamp, use tz_localize to localize\n",
      "Cannot convert tz-naive Timestamp, use tz_localize to localize\n",
      "Cannot convert tz-naive Timestamp, use tz_localize to localize\n"
     ]
    },
    {
     "name": "stderr",
     "output_type": "stream",
     "text": [
      "\n",
      "backtesting_seats:  70%|██████████████████████████████████████████████████████████                         | 7/10 [00:43<00:20,  6.81s/it]\u001b[A"
     ]
    },
    {
     "name": "stdout",
     "output_type": "stream",
     "text": [
      "Cannot convert tz-naive Timestamp, use tz_localize to localize\n",
      "Cannot convert tz-naive Timestamp, use tz_localize to localize\n",
      "Cannot convert tz-naive Timestamp, use tz_localize to localize\n",
      "Cannot convert tz-naive Timestamp, use tz_localize to localize\n",
      "Cannot convert tz-naive Timestamp, use tz_localize to localize\n",
      "Cannot convert tz-naive Timestamp, use tz_localize to localize\n",
      "Cannot convert tz-naive Timestamp, use tz_localize to localize\n",
      "Cannot convert tz-naive Timestamp, use tz_localize to localize\n",
      "Cannot convert tz-naive Timestamp, use tz_localize to localize\n",
      "Cannot convert tz-naive Timestamp, use tz_localize to localize\n",
      "Cannot convert tz-naive Timestamp, use tz_localize to localize\n",
      "Cannot convert tz-naive Timestamp, use tz_localize to localize\n",
      "Cannot convert tz-naive Timestamp, use tz_localize to localize\n",
      "Cannot convert tz-naive Timestamp, use tz_localize to localize\n",
      "Cannot convert tz-naive Timestamp, use tz_localize to localize\n",
      "Cannot convert tz-naive Timestamp, use tz_localize to localize\n",
      "Cannot convert tz-naive Timestamp, use tz_localize to localize\n",
      "Cannot convert tz-naive Timestamp, use tz_localize to localize\n",
      "Cannot convert tz-naive Timestamp, use tz_localize to localize"
     ]
    },
    {
     "name": "stderr",
     "output_type": "stream",
     "text": [
      "\n",
      "backtesting_seats:  80%|██████████████████████████████████████████████████████████████████▍                | 8/10 [00:53<00:15,  7.73s/it]\u001b[A"
     ]
    },
    {
     "name": "stdout",
     "output_type": "stream",
     "text": [
      "\n",
      "Cannot convert tz-naive Timestamp, use tz_localize to localize\n",
      "Cannot convert tz-naive Timestamp, use tz_localize to localize\n",
      "Cannot convert tz-naive Timestamp, use tz_localize to localize\n",
      "Cannot convert tz-naive Timestamp, use tz_localize to localize\n",
      "Cannot convert tz-naive Timestamp, use tz_localize to localize\n",
      "Cannot convert tz-naive Timestamp, use tz_localize to localize\n"
     ]
    },
    {
     "name": "stderr",
     "output_type": "stream",
     "text": [
      "\n",
      "backtesting_seats:  90%|██████████████████████████████████████████████████████████████████████████▋        | 9/10 [00:58<00:06,  6.92s/it]\u001b[A"
     ]
    },
    {
     "name": "stdout",
     "output_type": "stream",
     "text": [
      "Cannot convert tz-naive Timestamp, use tz_localize to localize\n",
      "Cannot convert tz-naive Timestamp, use tz_localize to localize\n",
      "Cannot convert tz-naive Timestamp, use tz_localize to localize\n",
      "Cannot convert tz-naive Timestamp, use tz_localize to localize\n",
      "Cannot convert tz-naive Timestamp, use tz_localize to localize\n",
      "Cannot convert tz-naive Timestamp, use tz_localize to localize\n",
      "Cannot convert tz-naive Timestamp, use tz_localize to localize\n",
      "Cannot convert tz-naive Timestamp, use tz_localize to localize\n",
      "Cannot convert tz-naive Timestamp, use tz_localize to localize\n",
      "Cannot convert tz-naive Timestamp, use tz_localize to localize\n",
      "Cannot convert tz-naive Timestamp, use tz_localize to localize\n",
      "Cannot convert tz-naive Timestamp, use tz_localize to localize\n",
      "Cannot convert tz-naive Timestamp, use tz_localize to localize\n",
      "Cannot convert tz-naive Timestamp, use tz_localize to localize\n"
     ]
    },
    {
     "name": "stderr",
     "output_type": "stream",
     "text": [
      "\n",
      "backtesting_seats: 100%|██████████████████████████████████████████████████████████████████████████████████| 10/10 [01:04<00:00,  6.42s/it]\u001b[A\n",
      " 33%|██████████████████████████████████▎                                                                    | 1/3 [01:08<02:16, 68.19s/it]"
     ]
    },
    {
     "name": "stdout",
     "output_type": "stream",
     "text": [
      "Cannot convert tz-naive Timestamp, use tz_localize to localize\n"
     ]
    },
    {
     "name": "stderr",
     "output_type": "stream",
     "text": [
      "\n",
      "backtesting_seats:   0%|                                                                                           | 0/10 [00:00<?, ?it/s]\u001b[A"
     ]
    },
    {
     "name": "stdout",
     "output_type": "stream",
     "text": [
      "single positional indexer is out-of-bounds\n"
     ]
    },
    {
     "name": "stderr",
     "output_type": "stream",
     "text": [
      "\n",
      "backtesting_seats:  10%|████████▎                                                                          | 1/10 [00:02<00:24,  2.74s/it]\u001b[A"
     ]
    },
    {
     "name": "stdout",
     "output_type": "stream",
     "text": [
      "single positional indexer is out-of-bounds\n",
      "single positional indexer is out-of-bounds\n",
      "single positional indexer is out-of-bounds\n",
      "single positional indexer is out-of-bounds\n",
      "single positional indexer is out-of-bounds\n",
      "single positional indexer is out-of-bounds\n",
      "single positional indexer is out-of-bounds\n",
      "single positional indexer is out-of-bounds\n",
      "single positional indexer is out-of-bounds\n",
      "single positional indexer is out-of-bounds\n",
      "single positional indexer is out-of-bounds\n",
      "single positional indexer is out-of-bounds\n",
      "single positional indexer is out-of-bounds\n",
      "single positional indexer is out-of-bounds\n",
      "single positional indexer is out-of-bounds\n"
     ]
    },
    {
     "name": "stderr",
     "output_type": "stream",
     "text": [
      "\n",
      "backtesting_seats:  20%|████████████████▌                                                                  | 2/10 [00:11<00:51,  6.48s/it]\u001b[A"
     ]
    },
    {
     "name": "stdout",
     "output_type": "stream",
     "text": [
      "single positional indexer is out-of-bounds\n",
      "single positional indexer is out-of-bounds\n",
      "single positional indexer is out-of-bounds\n",
      "single positional indexer is out-of-bounds\n",
      "single positional indexer is out-of-bounds\n",
      "single positional indexer is out-of-bounds\n",
      "single positional indexer is out-of-bounds\n",
      "single positional indexer is out-of-bounds\n",
      "single positional indexer is out-of-bounds\n",
      "single positional indexer is out-of-bounds\n",
      "single positional indexer is out-of-bounds\n",
      "single positional indexer is out-of-bounds\n",
      "single positional indexer is out-of-bounds\n",
      "single positional indexer is out-of-bounds\n",
      "single positional indexer is out-of-bounds\n"
     ]
    },
    {
     "name": "stderr",
     "output_type": "stream",
     "text": [
      "\n",
      "backtesting_seats:  30%|████████████████████████▉                                                          | 3/10 [00:20<00:53,  7.60s/it]\u001b[A"
     ]
    },
    {
     "name": "stdout",
     "output_type": "stream",
     "text": [
      "single positional indexer is out-of-bounds\n",
      "single positional indexer is out-of-bounds\n",
      "single positional indexer is out-of-bounds\n",
      "single positional indexer is out-of-bounds\n",
      "single positional indexer is out-of-bounds\n",
      "single positional indexer is out-of-bounds\n",
      "single positional indexer is out-of-bounds\n",
      "single positional indexer is out-of-bounds\n",
      "single positional indexer is out-of-bounds\n",
      "single positional indexer is out-of-bounds\n",
      "single positional indexer is out-of-bounds\n",
      "single positional indexer is out-of-bounds\n",
      "single positional indexer is out-of-bounds\n",
      "single positional indexer is out-of-bounds\n",
      "single positional indexer is out-of-bounds\n"
     ]
    },
    {
     "name": "stderr",
     "output_type": "stream",
     "text": [
      "\n",
      "backtesting_seats:  40%|█████████████████████████████████▏                                                 | 4/10 [00:28<00:46,  7.74s/it]\u001b[A"
     ]
    },
    {
     "name": "stdout",
     "output_type": "stream",
     "text": [
      "single positional indexer is out-of-bounds\n",
      "single positional indexer is out-of-bounds\n",
      "single positional indexer is out-of-bounds\n",
      "single positional indexer is out-of-bounds\n",
      "single positional indexer is out-of-bounds\n",
      "single positional indexer is out-of-bounds\n",
      "single positional indexer is out-of-bounds\n",
      "single positional indexer is out-of-bounds\n",
      "single positional indexer is out-of-bounds\n",
      "single positional indexer is out-of-bounds\n",
      "single positional indexer is out-of-bounds\n",
      "single positional indexer is out-of-bounds\n",
      "single positional indexer is out-of-bounds\n",
      "single positional indexer is out-of-bounds\n",
      "single positional indexer is out-of-bounds\n",
      "single positional indexer is out-of-bounds\n",
      "single positional indexer is out-of-bounds\n",
      "single positional indexer is out-of-bounds\n",
      "single positional indexer is out-of-bounds\n",
      "single positional indexer is out-of-bounds\n",
      "single positional indexer is out-of-bounds\n",
      "single positional indexer is out-of-bounds\n",
      "single positional indexer is out-of-bounds\n"
     ]
    },
    {
     "name": "stderr",
     "output_type": "stream",
     "text": [
      "\n",
      "backtesting_seats:  50%|█████████████████████████████████████████▌                                         | 5/10 [00:40<00:45,  9.07s/it]\u001b[A"
     ]
    },
    {
     "name": "stdout",
     "output_type": "stream",
     "text": [
      "single positional indexer is out-of-bounds\n",
      "single positional indexer is out-of-bounds\n",
      "single positional indexer is out-of-bounds\n",
      "single positional indexer is out-of-bounds\n",
      "single positional indexer is out-of-bounds\n",
      "single positional indexer is out-of-bounds\n",
      "single positional indexer is out-of-bounds\n",
      "single positional indexer is out-of-bounds\n",
      "single positional indexer is out-of-bounds\n",
      "single positional indexer is out-of-bounds\n",
      "single positional indexer is out-of-bounds\n",
      "single positional indexer is out-of-bounds\n",
      "single positional indexer is out-of-bounds\n",
      "single positional indexer is out-of-bounds\n",
      "single positional indexer is out-of-bounds\n",
      "single positional indexer is out-of-bounds\n",
      "single positional indexer is out-of-bounds\n"
     ]
    },
    {
     "name": "stderr",
     "output_type": "stream",
     "text": [
      "\n",
      "backtesting_seats:  60%|█████████████████████████████████████████████████▊                                 | 6/10 [00:45<00:31,  7.92s/it]\u001b[A"
     ]
    },
    {
     "name": "stdout",
     "output_type": "stream",
     "text": [
      "single positional indexer is out-of-bounds\n",
      "single positional indexer is out-of-bounds\n",
      "single positional indexer is out-of-bounds\n",
      "single positional indexer is out-of-bounds\n",
      "single positional indexer is out-of-bounds\n",
      "single positional indexer is out-of-bounds\n",
      "single positional indexer is out-of-bounds\n"
     ]
    },
    {
     "name": "stderr",
     "output_type": "stream",
     "text": [
      "\n",
      "backtesting_seats:  70%|██████████████████████████████████████████████████████████                         | 7/10 [00:51<00:21,  7.27s/it]\u001b[A"
     ]
    },
    {
     "name": "stdout",
     "output_type": "stream",
     "text": [
      "single positional indexer is out-of-bounds\n",
      "single positional indexer is out-of-bounds\n",
      "single positional indexer is out-of-bounds\n",
      "single positional indexer is out-of-bounds\n",
      "single positional indexer is out-of-bounds\n",
      "single positional indexer is out-of-bounds\n",
      "single positional indexer is out-of-bounds\n",
      "single positional indexer is out-of-bounds\n",
      "single positional indexer is out-of-bounds\n",
      "single positional indexer is out-of-bounds\n",
      "single positional indexer is out-of-bounds\n",
      "single positional indexer is out-of-bounds\n",
      "single positional indexer is out-of-bounds\n",
      "single positional indexer is out-of-bounds\n",
      "single positional indexer is out-of-bounds\n",
      "single positional indexer is out-of-bounds\n",
      "single positional indexer is out-of-bounds\n",
      "single positional indexer is out-of-bounds\n",
      "single positional indexer is out-of-bounds\n",
      "single positional indexer is out-of-bounds\n"
     ]
    },
    {
     "name": "stderr",
     "output_type": "stream",
     "text": [
      "\n",
      "backtesting_seats:  80%|██████████████████████████████████████████████████████████████████▍                | 8/10 [01:01<00:15,  7.95s/it]\u001b[A"
     ]
    },
    {
     "name": "stdout",
     "output_type": "stream",
     "text": [
      "single positional indexer is out-of-bounds\n",
      "single positional indexer is out-of-bounds\n",
      "single positional indexer is out-of-bounds\n",
      "single positional indexer is out-of-bounds\n",
      "single positional indexer is out-of-bounds\n",
      "single positional indexer is out-of-bounds\n",
      "single positional indexer is out-of-bounds\n",
      "single positional indexer is out-of-bounds\n",
      "single positional indexer is out-of-bounds\n",
      "single positional indexer is out-of-bounds\n",
      "single positional indexer is out-of-bounds\n",
      "single positional indexer is out-of-bounds\n",
      "single positional indexer is out-of-bounds\n",
      "single positional indexer is out-of-bounds\n",
      "single positional indexer is out-of-bounds\n",
      "single positional indexer is out-of-bounds\n",
      "single positional indexer is out-of-bounds\n",
      "single positional indexer is out-of-bounds\n",
      "single positional indexer is out-of-bounds\n",
      "single positional indexer is out-of-bounds\n"
     ]
    },
    {
     "name": "stderr",
     "output_type": "stream",
     "text": [
      "\n",
      "backtesting_seats:  90%|██████████████████████████████████████████████████████████████████████████▋        | 9/10 [01:11<00:08,  8.76s/it]\u001b[A"
     ]
    },
    {
     "name": "stdout",
     "output_type": "stream",
     "text": [
      "single positional indexer is out-of-bounds\n",
      "single positional indexer is out-of-bounds\n",
      "single positional indexer is out-of-bounds\n",
      "single positional indexer is out-of-bounds\n",
      "single positional indexer is out-of-bounds\n",
      "single positional indexer is out-of-bounds\n",
      "single positional indexer is out-of-bounds\n",
      "single positional indexer is out-of-bounds\n",
      "single positional indexer is out-of-bounds\n",
      "single positional indexer is out-of-bounds\n",
      "single positional indexer is out-of-bounds\n",
      "single positional indexer is out-of-bounds\n",
      "single positional indexer is out-of-bounds\n",
      "single positional indexer is out-of-bounds\n",
      "single positional indexer is out-of-bounds\n",
      "single positional indexer is out-of-bounds\n",
      "single positional indexer is out-of-bounds\n",
      "single positional indexer is out-of-bounds\n",
      "single positional indexer is out-of-bounds\n",
      "single positional indexer is out-of-bounds\n"
     ]
    },
    {
     "name": "stderr",
     "output_type": "stream",
     "text": [
      "\n",
      "backtesting_seats: 100%|██████████████████████████████████████████████████████████████████████████████████| 10/10 [01:21<00:00,  8.15s/it]\u001b[A"
     ]
    },
    {
     "name": "stdout",
     "output_type": "stream",
     "text": [
      "single positional indexer is out-of-bounds\n",
      "single positional indexer is out-of-bounds\n"
     ]
    },
    {
     "name": "stderr",
     "output_type": "stream",
     "text": [
      "\n",
      " 67%|████████████████████████████████████████████████████████████████████▋                                  | 2/3 [02:33<01:18, 78.24s/it]\n",
      "backtesting_seats:   0%|                                                                                           | 0/10 [00:00<?, ?it/s]\u001b[A\n",
      "backtesting_seats:  10%|████████▎                                                                          | 1/10 [00:01<00:15,  1.71s/it]\u001b[A"
     ]
    },
    {
     "name": "stdout",
     "output_type": "stream",
     "text": [
      "single positional indexer is out-of-bounds\n"
     ]
    },
    {
     "name": "stderr",
     "output_type": "stream",
     "text": [
      "\n",
      "backtesting_seats:  20%|████████████████▌                                                                  | 2/10 [00:03<00:15,  1.90s/it]\u001b[A\n",
      "backtesting_seats:  30%|████████████████████████▉                                                          | 3/10 [00:04<00:10,  1.48s/it]\u001b[A\n",
      "backtesting_seats:  40%|█████████████████████████████████▏                                                 | 4/10 [00:06<00:10,  1.75s/it]\u001b[A"
     ]
    },
    {
     "name": "stdout",
     "output_type": "stream",
     "text": [
      "single positional indexer is out-of-bounds\n",
      "single positional indexer is out-of-bounds\n"
     ]
    },
    {
     "name": "stderr",
     "output_type": "stream",
     "text": [
      "\n",
      "backtesting_seats:  50%|█████████████████████████████████████████▌                                         | 5/10 [00:09<00:09,  1.90s/it]\u001b[A\n",
      "backtesting_seats:  60%|█████████████████████████████████████████████████▊                                 | 6/10 [00:11<00:08,  2.04s/it]\u001b[A\n",
      "backtesting_seats:  70%|██████████████████████████████████████████████████████████                         | 7/10 [00:12<00:05,  1.85s/it]\u001b[A\n",
      "backtesting_seats:  80%|██████████████████████████████████████████████████████████████████▍                | 8/10 [00:13<00:02,  1.44s/it]\u001b[A"
     ]
    },
    {
     "name": "stdout",
     "output_type": "stream",
     "text": [
      "single positional indexer is out-of-bounds\n"
     ]
    },
    {
     "name": "stderr",
     "output_type": "stream",
     "text": [
      "\n",
      "backtesting_seats:  90%|██████████████████████████████████████████████████████████████████████████▋        | 9/10 [00:16<00:02,  2.08s/it]\u001b[A\n",
      "backtesting_seats: 100%|██████████████████████████████████████████████████████████████████████████████████| 10/10 [00:17<00:00,  1.72s/it]\u001b[A\n",
      "100%|███████████████████████████████████████████████████████████████████████████████████████████████████████| 3/3 [02:57<00:00, 59.22s/it]\n"
     ]
    }
   ],
   "source": [
    "trades = ep.backtest()"
   ]
  },
  {
   "cell_type": "code",
   "execution_count": 25,
   "id": "e7fb1592",
   "metadata": {},
   "outputs": [],
   "source": [
    "pva = a.pv_analysis(ep)\n",
    "iva = a.industry_analysis(ep)"
   ]
  },
  {
   "cell_type": "code",
   "execution_count": 26,
   "id": "67625a76",
   "metadata": {},
   "outputs": [
    {
     "data": {
      "text/plain": [
       "<matplotlib.legend.Legend at 0x2077a880280>"
      ]
     },
     "execution_count": 26,
     "metadata": {},
     "output_type": "execute_result"
    },
    {
     "data": {
      "image/png": "[encoded data removed]",
      "text/plain": [
       "<Figure size 432x288 with 1 Axes>"
      ]
     },
     "metadata": {
      "needs_background": "light"
     },
     "output_type": "display_data"
    }
   ],
   "source": [
    "plt.plot(pva[\"date\"],pva[\"progress_report\"])\n",
    "plt.plot(pva[\"date\"],pva[\"rolling_percent\"])\n",
    "plt.plot(pva[\"date\"],pva[\"financial_predict\"])\n",
    "plt.legend([x for x in pva.columns if x != \"date\"])"
   ]
  },
  {
   "cell_type": "code",
   "execution_count": 27,
   "id": "37b6f7e7",
   "metadata": {},
   "outputs": [
    {
     "data": {
      "text/html": [
       "<div>\n",
       "<style scoped>\n",
       "    .dataframe tbody tr th:only-of-type {\n",
       "        vertical-align: middle;\n",
       "    }\n",
       "\n",
       "    .dataframe tbody tr th {\n",
       "        vertical-align: top;\n",
       "    }\n",
       "\n",
       "    .dataframe thead th {\n",
       "        text-align: right;\n",
       "    }\n",
       "</style>\n",
       "<table border=\"1\" class=\"dataframe\">\n",
       "  <thead>\n",
       "    <tr style=\"text-align: right;\">\n",
       "      <th>strategy</th>\n",
       "      <th>date</th>\n",
       "      <th>financial_predict</th>\n",
       "      <th>progress_report</th>\n",
       "      <th>rolling_percent</th>\n",
       "      <th>total</th>\n",
       "    </tr>\n",
       "  </thead>\n",
       "  <tbody>\n",
       "    <tr>\n",
       "      <th>0</th>\n",
       "      <td>2017-01-03</td>\n",
       "      <td>36.666667</td>\n",
       "      <td>33.333333</td>\n",
       "      <td>35.000000</td>\n",
       "      <td>105.000000</td>\n",
       "    </tr>\n",
       "    <tr>\n",
       "      <th>1</th>\n",
       "      <td>2017-01-06</td>\n",
       "      <td>36.666667</td>\n",
       "      <td>71.872219</td>\n",
       "      <td>35.175000</td>\n",
       "      <td>143.713886</td>\n",
       "    </tr>\n",
       "    <tr>\n",
       "      <th>2</th>\n",
       "      <td>2017-01-09</td>\n",
       "      <td>36.666667</td>\n",
       "      <td>65.191377</td>\n",
       "      <td>35.175000</td>\n",
       "      <td>137.033044</td>\n",
       "    </tr>\n",
       "    <tr>\n",
       "      <th>3</th>\n",
       "      <td>2017-01-10</td>\n",
       "      <td>36.666667</td>\n",
       "      <td>56.733607</td>\n",
       "      <td>35.350000</td>\n",
       "      <td>128.750273</td>\n",
       "    </tr>\n",
       "    <tr>\n",
       "      <th>4</th>\n",
       "      <td>2017-01-11</td>\n",
       "      <td>36.666667</td>\n",
       "      <td>50.889884</td>\n",
       "      <td>35.525000</td>\n",
       "      <td>123.081551</td>\n",
       "    </tr>\n",
       "    <tr>\n",
       "      <th>...</th>\n",
       "      <td>...</td>\n",
       "      <td>...</td>\n",
       "      <td>...</td>\n",
       "      <td>...</td>\n",
       "      <td>...</td>\n",
       "    </tr>\n",
       "    <tr>\n",
       "      <th>313</th>\n",
       "      <td>2020-12-14</td>\n",
       "      <td>83.522129</td>\n",
       "      <td>154.904638</td>\n",
       "      <td>114.607457</td>\n",
       "      <td>353.034224</td>\n",
       "    </tr>\n",
       "    <tr>\n",
       "      <th>314</th>\n",
       "      <td>2020-12-15</td>\n",
       "      <td>83.522129</td>\n",
       "      <td>156.170471</td>\n",
       "      <td>115.327781</td>\n",
       "      <td>355.020380</td>\n",
       "    </tr>\n",
       "    <tr>\n",
       "      <th>315</th>\n",
       "      <td>2020-12-16</td>\n",
       "      <td>83.522129</td>\n",
       "      <td>158.209107</td>\n",
       "      <td>116.715259</td>\n",
       "      <td>358.446495</td>\n",
       "    </tr>\n",
       "    <tr>\n",
       "      <th>316</th>\n",
       "      <td>2020-12-21</td>\n",
       "      <td>83.522129</td>\n",
       "      <td>158.209107</td>\n",
       "      <td>117.116363</td>\n",
       "      <td>358.847599</td>\n",
       "    </tr>\n",
       "    <tr>\n",
       "      <th>317</th>\n",
       "      <td>2020-12-29</td>\n",
       "      <td>83.522129</td>\n",
       "      <td>158.209107</td>\n",
       "      <td>117.653879</td>\n",
       "      <td>359.385115</td>\n",
       "    </tr>\n",
       "  </tbody>\n",
       "</table>\n",
       "<p>318 rows × 5 columns</p>\n",
       "</div>"
      ],
      "text/plain": [
       "strategy       date  financial_predict  progress_report  rolling_percent  \\\n",
       "0        2017-01-03          36.666667        33.333333        35.000000   \n",
       "1        2017-01-06          36.666667        71.872219        35.175000   \n",
       "2        2017-01-09          36.666667        65.191377        35.175000   \n",
       "3        2017-01-10          36.666667        56.733607        35.350000   \n",
       "4        2017-01-11          36.666667        50.889884        35.525000   \n",
       "..              ...                ...              ...              ...   \n",
       "313      2020-12-14          83.522129       154.904638       114.607457   \n",
       "314      2020-12-15          83.522129       156.170471       115.327781   \n",
       "315      2020-12-16          83.522129       158.209107       116.715259   \n",
       "316      2020-12-21          83.522129       158.209107       117.116363   \n",
       "317      2020-12-29          83.522129       158.209107       117.653879   \n",
       "\n",
       "strategy       total  \n",
       "0         105.000000  \n",
       "1         143.713886  \n",
       "2         137.033044  \n",
       "3         128.750273  \n",
       "4         123.081551  \n",
       "..               ...  \n",
       "313       353.034224  \n",
       "314       355.020380  \n",
       "315       358.446495  \n",
       "316       358.847599  \n",
       "317       359.385115  \n",
       "\n",
       "[318 rows x 5 columns]"
      ]
     },
     "execution_count": 27,
     "metadata": {},
     "output_type": "execute_result"
    }
   ],
   "source": [
    "pva[\"total\"] = [sum([row[1][x] for x in pva.columns if x not in [\"date\"]]) for row in pva.iterrows()]\n",
    "pva"
   ]
  },
  {
   "cell_type": "code",
   "execution_count": 29,
   "id": "05965839",
   "metadata": {},
   "outputs": [
    {
     "data": {
      "text/html": [
       "<div>\n",
       "<style scoped>\n",
       "    .dataframe tbody tr th:only-of-type {\n",
       "        vertical-align: middle;\n",
       "    }\n",
       "\n",
       "    .dataframe tbody tr th {\n",
       "        vertical-align: top;\n",
       "    }\n",
       "\n",
       "    .dataframe thead th {\n",
       "        text-align: right;\n",
       "    }\n",
       "</style>\n",
       "<table border=\"1\" class=\"dataframe\">\n",
       "  <thead>\n",
       "    <tr style=\"text-align: right;\">\n",
       "      <th></th>\n",
       "      <th>year</th>\n",
       "      <th>quarter</th>\n",
       "      <th>strategy</th>\n",
       "      <th>GICS Sector</th>\n",
       "      <th>delta</th>\n",
       "    </tr>\n",
       "  </thead>\n",
       "  <tbody>\n",
       "    <tr>\n",
       "      <th>0</th>\n",
       "      <td>2018</td>\n",
       "      <td>1</td>\n",
       "      <td>financial_predict</td>\n",
       "      <td>Consumer Discretionary</td>\n",
       "      <td>0.1</td>\n",
       "    </tr>\n",
       "    <tr>\n",
       "      <th>1</th>\n",
       "      <td>2019</td>\n",
       "      <td>3</td>\n",
       "      <td>financial_predict</td>\n",
       "      <td>Communication Services</td>\n",
       "      <td>0.1</td>\n",
       "    </tr>\n",
       "    <tr>\n",
       "      <th>2</th>\n",
       "      <td>2019</td>\n",
       "      <td>1</td>\n",
       "      <td>progress_report</td>\n",
       "      <td>Consumer Discretionary</td>\n",
       "      <td>0.1</td>\n",
       "    </tr>\n",
       "    <tr>\n",
       "      <th>3</th>\n",
       "      <td>2019</td>\n",
       "      <td>1</td>\n",
       "      <td>progress_report</td>\n",
       "      <td>Health Care</td>\n",
       "      <td>0.1</td>\n",
       "    </tr>\n",
       "    <tr>\n",
       "      <th>4</th>\n",
       "      <td>2019</td>\n",
       "      <td>3</td>\n",
       "      <td>progress_report</td>\n",
       "      <td>Information Technology</td>\n",
       "      <td>0.1</td>\n",
       "    </tr>\n",
       "    <tr>\n",
       "      <th>5</th>\n",
       "      <td>2018</td>\n",
       "      <td>3</td>\n",
       "      <td>progress_report</td>\n",
       "      <td>Consumer Discretionary</td>\n",
       "      <td>0.1</td>\n",
       "    </tr>\n",
       "    <tr>\n",
       "      <th>6</th>\n",
       "      <td>2019</td>\n",
       "      <td>1</td>\n",
       "      <td>financial_predict</td>\n",
       "      <td>Energy</td>\n",
       "      <td>0.1</td>\n",
       "    </tr>\n",
       "    <tr>\n",
       "      <th>7</th>\n",
       "      <td>2020</td>\n",
       "      <td>3</td>\n",
       "      <td>financial_predict</td>\n",
       "      <td>Industrials</td>\n",
       "      <td>0.1</td>\n",
       "    </tr>\n",
       "    <tr>\n",
       "      <th>8</th>\n",
       "      <td>2017</td>\n",
       "      <td>3</td>\n",
       "      <td>progress_report</td>\n",
       "      <td>Consumer Discretionary</td>\n",
       "      <td>0.1</td>\n",
       "    </tr>\n",
       "    <tr>\n",
       "      <th>9</th>\n",
       "      <td>2017</td>\n",
       "      <td>4</td>\n",
       "      <td>financial_predict</td>\n",
       "      <td>Information Technology</td>\n",
       "      <td>0.1</td>\n",
       "    </tr>\n",
       "  </tbody>\n",
       "</table>\n",
       "</div>"
      ],
      "text/plain": [
       "   year  quarter           strategy             GICS Sector  delta\n",
       "0  2018        1  financial_predict  Consumer Discretionary    0.1\n",
       "1  2019        3  financial_predict  Communication Services    0.1\n",
       "2  2019        1    progress_report  Consumer Discretionary    0.1\n",
       "3  2019        1    progress_report             Health Care    0.1\n",
       "4  2019        3    progress_report  Information Technology    0.1\n",
       "5  2018        3    progress_report  Consumer Discretionary    0.1\n",
       "6  2019        1  financial_predict                  Energy    0.1\n",
       "7  2020        3  financial_predict             Industrials    0.1\n",
       "8  2017        3    progress_report  Consumer Discretionary    0.1\n",
       "9  2017        4  financial_predict  Information Technology    0.1"
      ]
     },
     "execution_count": 29,
     "metadata": {},
     "output_type": "execute_result"
    }
   ],
   "source": [
    "iva"
   ]
  }
 ],
 "metadata": {
  "kernelspec": {
   "display_name": "Python 3 (ipykernel)",
   "language": "python",
   "name": "python3"
  },
  "language_info": {
   "codemirror_mode": {
    "name": "ipython",
    "version": 3
   },
   "file_extension": ".py",
   "mimetype": "text/x-python",
   "name": "python",
   "nbconvert_exporter": "python",
   "pygments_lexer": "ipython3",
   "version": "3.10.0"
  }
 },
 "nbformat": 4,
 "nbformat_minor": 5
}
