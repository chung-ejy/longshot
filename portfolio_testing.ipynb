{
 "cells": [
  {
   "cell_type": "code",
   "execution_count": 1,
   "id": "be5fd7f3",
   "metadata": {},
   "outputs": [],
   "source": [
    "from datetime import datetime, timedelta\n",
    "from strategy.stratfact import StratFact\n",
    "from backtester.backtester import Backtester\n",
    "from portfolio.equity_portfolio import EquityPortfolio\n",
    "from processor.processor import Processor as p\n",
    "from tqdm import tqdm\n",
    "import pytz\n",
    "import pandas as pd\n",
    "import numpy as np\n",
    "import matplotlib.pyplot as plt"
   ]
  },
  {
   "cell_type": "code",
   "execution_count": 2,
   "id": "d898af98",
   "metadata": {},
   "outputs": [],
   "source": [
    "start = datetime(2016,1,1)\n",
    "end = datetime(2022,1,1)\n",
    "seats = 10"
   ]
  },
  {
   "cell_type": "code",
   "execution_count": 3,
   "id": "f06ab242",
   "metadata": {},
   "outputs": [],
   "source": [
    "# port = EquityPortfolio(start,end,\"portfolio\",strats = {\"rolling_percent\":{\"modeling_params\":{\"days\":100,\"currency\":\"prices\"},\n",
    "#                         \"trading_params\":{\"requirement\":5,\"value\":True}},\n",
    "# \"progress_report\":{\"modeling_params\":{}\n",
    "#                    ,\"trading_params\":{\"value\":True,\"requirement\":5}},\n",
    "# \"financial_predict\":{\"modeling_params\":{\"score_requirement\":70,\"categories\":4,\"model_training_year\":4},\n",
    "#                     \"trading_params\":{\"requirement\":10,\"value\":True}},\n",
    "# \"speculation\":{\"modeling_params\":{\"number_of_training_weeks\":14,\"categories\":4\n",
    "#                                   ,\"model_training_year\":1,\"score_requirement\":70},\n",
    "#                \"trading_params\":{\"score_requirement\":70,\"requirement\":5,\"value\":True}},\n",
    "# \"competition\":{\"modeling_params\":{\"categories\":4,\"model_training_year\":1,\"score_requirement\":70},\n",
    "#                 \"trading_params\":{\"score_requirement\":70,\"requirement\":5,\"value\":True}}})"
   ]
  },
  {
   "cell_type": "code",
   "execution_count": 3,
   "id": "c1616a1b",
   "metadata": {},
   "outputs": [],
   "source": [
    "port = EquityPortfolio(start,end,\"industry_price_portfolio\",strats = \n",
    "{\"rolling_percent\":{\"modeling_params\":{\"days\":100,\"currency\":\"prices\"},\n",
    "                        \"trading_params\":{\"requirement\":5,\"value\":True}},\n",
    "\"progress_report\":{\"modeling_params\":{}\n",
    "                   ,\"trading_params\":{\"value\":True,\"requirement\":5}},\n",
    "\"financial_predict\":{\"modeling_params\":{\"score_requirement\":70,\"categories\":3,\"model_training_year\":4},\n",
    "                    \"trading_params\":{\"requirement\":10,\"value\":True}},\n",
    "\"speculation\":{\"modeling_params\":{\"number_of_training_weeks\":14,\"categories\":3\n",
    "                                  ,\"model_training_year\":4,\"score_requirement\":70},\n",
    "               \"trading_params\":{\"score_requirement\":70,\"requirement\":5,\"value\":True}},\n",
    "\"competition\":{\"modeling_params\":{\"categories\":3,\"model_training_year\":4,\"score_requirement\":70},\n",
    "                \"trading_params\":{\"score_requirement\":70,\"requirement\":5,\"value\":True}}})"
   ]
  },
  {
   "cell_type": "code",
   "execution_count": 4,
   "id": "9ddd3a86",
   "metadata": {},
   "outputs": [
    {
     "name": "stderr",
     "output_type": "stream",
     "text": [
      "100%|██████████████████████████████████████████████████████████████████████████████████████████████| 5/5 [00:23<00:00,  4.72s/it]\n"
     ]
    }
   ],
   "source": [
    "port.load()"
   ]
  },
  {
   "cell_type": "code",
   "execution_count": 5,
   "id": "3e667ee3",
   "metadata": {
    "scrolled": false
   },
   "outputs": [
    {
     "name": "stderr",
     "output_type": "stream",
     "text": [
      "100%|██████████████████████████████████████████████████████████████████████████████████████████████| 5/5 [00:16<00:00,  3.21s/it]\n"
     ]
    }
   ],
   "source": [
    "port.transform()"
   ]
  },
  {
   "cell_type": "code",
   "execution_count": null,
   "id": "e37321a1",
   "metadata": {},
   "outputs": [],
   "source": [
    "port."
   ]
  },
  {
   "cell_type": "code",
   "execution_count": 8,
   "id": "761a66f2",
   "metadata": {},
   "outputs": [],
   "source": [
    "port.strats[\"speculation\"][\"class\"].db.connect()\n",
    "port.strats[\"speculation\"][\"class\"].db.delete(\"sim\",{\"categories\":3})\n",
    "port.strats[\"speculation\"][\"class\"].db.disconnect()"
   ]
  },
  {
   "cell_type": "code",
   "execution_count": null,
   "id": "69c246eb",
   "metadata": {
    "scrolled": true
   },
   "outputs": [
    {
     "name": "stderr",
     "output_type": "stream",
     "text": [
      " 60%|████████████████████████████████████████████████████████▍                                     | 3/5 [00:17<00:12,  6.48s/it]\n",
      "speculation_sim_year:   0%|                                                                                | 0/7 [00:00<?, ?it/s]\u001b[A"
     ]
    },
    {
     "name": "stdout",
     "output_type": "stream",
     "text": [
      "200Communication Services list index out of range\n"
     ]
    }
   ],
   "source": [
    "port.sim()"
   ]
  },
  {
   "cell_type": "code",
   "execution_count": null,
   "id": "5747ae69",
   "metadata": {
    "scrolled": true
   },
   "outputs": [],
   "source": [
    "port.strats[\"rolling_percent\"]"
   ]
  },
  {
   "cell_type": "code",
   "execution_count": null,
   "id": "0d4e6116",
   "metadata": {
    "scrolled": true
   },
   "outputs": [],
   "source": [
    "trades = port.backtest()"
   ]
  },
  {
   "cell_type": "code",
   "execution_count": null,
   "id": "51ac3cb5",
   "metadata": {},
   "outputs": [],
   "source": [
    "at = trades\n",
    "strats = trades[\"strategy\"].unique()\n",
    "all_analysis = []\n",
    "for strat in strats:\n",
    "    strat_trades = at[at[\"strategy\"]==strat]\n",
    "    cash = []\n",
    "    stuff = []\n",
    "    total_cash = 100\n",
    "    number_of_strats=1\n",
    "    for seat in range(seats):\n",
    "        initial = float(total_cash / number_of_strats / seats )\n",
    "        seat_trades = strat_trades[strat_trades[\"seat\"]==seat]\n",
    "        for delta in seat_trades[\"delta\"]:\n",
    "            initial = initial * (1+delta)\n",
    "            cash.append(initial)\n",
    "    strat_trades[\"pv\"] = cash\n",
    "    stuff.append(strat_trades)\n",
    "    analysis = pd.concat(stuff).pivot_table(index=[\"sell_date\"],columns=\"seat\",values=\"pv\").fillna(method=\"ffill\").fillna(float(total_cash / number_of_strats / seats )).reset_index()\n",
    "    analysis[\"pv\"] = [sum([row[1][i] for i in range(seats)]) for row in analysis.iterrows()]\n",
    "    analysis[\"strategy\"] = strat\n",
    "    all_analysis.append(analysis)\n",
    "    plt.plot(analysis[\"sell_date\"],analysis[\"pv\"])\n",
    "plt.legend(strats)\n",
    "plt.show()"
   ]
  },
  {
   "cell_type": "code",
   "execution_count": null,
   "id": "7e0fa65c",
   "metadata": {},
   "outputs": [],
   "source": [
    "hl = pd.concat(all_analysis)\n",
    "hl"
   ]
  },
  {
   "cell_type": "code",
   "execution_count": null,
   "id": "4d4d7add",
   "metadata": {},
   "outputs": [],
   "source": [
    "hl.pivot_table(index=\"sell_date\",columns=\"strategy\",values=\"pv\").fillna(method=\"ffill\").fillna(100)"
   ]
  }
 ],
 "metadata": {
  "kernelspec": {
   "display_name": "Python 3 (ipykernel)",
   "language": "python",
   "name": "python3"
  },
  "language_info": {
   "codemirror_mode": {
    "name": "ipython",
    "version": 3
   },
   "file_extension": ".py",
   "mimetype": "text/x-python",
   "name": "python",
   "nbconvert_exporter": "python",
   "pygments_lexer": "ipython3",
   "version": "3.10.1"
  }
 },
 "nbformat": 4,
 "nbformat_minor": 5
}
