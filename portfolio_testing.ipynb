{
 "cells": [
  {
   "cell_type": "code",
   "execution_count": 1,
   "id": "c826c89e",
   "metadata": {},
   "outputs": [],
   "source": [
    "from datetime import datetime\n",
    "from portfolio.equity_portfolio import EquityPortfolio\n",
    "from analyzer.analyzer import Analyzer as a\n",
    "import pandas as pd\n",
    "import matplotlib.pyplot as plt"
   ]
  },
  {
   "cell_type": "code",
   "execution_count": 2,
   "id": "5052332c",
   "metadata": {},
   "outputs": [],
   "source": [
    "start = datetime(2017,1,1)\n",
    "end = datetime(2020,1,1)"
   ]
  },
  {
   "cell_type": "code",
   "execution_count": 3,
   "id": "749a7203",
   "metadata": {},
   "outputs": [],
   "source": [
    "ep = EquityPortfolio(start,end,\"portfolio\",seats=10,strats=\n",
    "                    {\n",
    "                        \"rolling_percent\":{\"params\":{\"timeframe\":\"daily\"\n",
    "                ,\"requirement\":5\n",
    "                ,\"days\":100\n",
    "                ,\"value\":False\n",
    "                ,\"currency\":\"prices\"}},\n",
    "                            \"progress_report\":{\"params\":{\"timeframe\":\"quarterly\"\n",
    "                    ,\"requirement\":5}},\n",
    "                    \"financial_predict\":{\"params\":{}},\n",
    "                      \"speculation\":{\"params\":{}},})"
   ]
  },
  {
   "cell_type": "code",
   "execution_count": 4,
   "id": "39d6ca89",
   "metadata": {},
   "outputs": [
    {
     "data": {
      "text/plain": [
       "{'rolling_percent': {'params': {'timeframe': 'daily',\n",
       "   'requirement': 5,\n",
       "   'days': 100,\n",
       "   'value': False,\n",
       "   'currency': 'prices'}},\n",
       " 'progress_report': {'params': {'timeframe': 'quarterly', 'requirement': 5}},\n",
       " 'financial_predict': {'params': {}},\n",
       " 'speculation': {'params': {}}}"
      ]
     },
     "execution_count": 4,
     "metadata": {},
     "output_type": "execute_result"
    }
   ],
   "source": [
    "ep.strats"
   ]
  },
  {
   "cell_type": "code",
   "execution_count": 5,
   "id": "44c34a0a",
   "metadata": {},
   "outputs": [
    {
     "name": "stderr",
     "output_type": "stream",
     "text": [
      " 75%|█████████████████████████████████████████████████████████████████████████████████████████████████████▎                                 | 3/4 [00:23<00:08,  8.48s/it]\n",
      "  0%|                                                                                                                                               | 0/2 [00:00<?, ?it/s]\u001b[A\n",
      " 50%|███████████████████████████████████████████████████████████████████▌                                                                   | 1/2 [00:23<00:23, 23.03s/it]\u001b[A\n",
      "100%|███████████████████████████████████████████████████████████████████████████████████████████████████████████████████████████████████████| 2/2 [00:23<00:00, 11.70s/it]\u001b[A\n",
      "100%|███████████████████████████████████████████████████████████████████████████████████████████████████████████████████████████████████████| 4/4 [00:46<00:00, 11.71s/it]\n"
     ]
    }
   ],
   "source": [
    "ep.load()"
   ]
  },
  {
   "cell_type": "code",
   "execution_count": 6,
   "id": "ca9e1933",
   "metadata": {},
   "outputs": [
    {
     "name": "stderr",
     "output_type": "stream",
     "text": [
      " 50%|███████████████████████████████████████████████████████████████████▌                                                                   | 2/4 [00:00<00:00, 10.64it/s]\n"
     ]
    },
    {
     "ename": "AttributeError",
     "evalue": "'NoneType' object has no attribute 'drop'",
     "output_type": "error",
     "traceback": [
      "\u001b[1;31m---------------------------------------------------------------------------\u001b[0m",
      "\u001b[1;31mAttributeError\u001b[0m                            Traceback (most recent call last)",
      "\u001b[1;32m~\\AppData\\Local\\Temp/ipykernel_14992/997258634.py\u001b[0m in \u001b[0;36m<module>\u001b[1;34m\u001b[0m\n\u001b[1;32m----> 1\u001b[1;33m \u001b[0mep\u001b[0m\u001b[1;33m.\u001b[0m\u001b[0mtransform\u001b[0m\u001b[1;33m(\u001b[0m\u001b[1;33m)\u001b[0m\u001b[1;33m\u001b[0m\u001b[1;33m\u001b[0m\u001b[0m\n\u001b[0m",
      "\u001b[1;32mD:\\projects\\longshot\\portfolio\\equity_portfolio.py\u001b[0m in \u001b[0;36mtransform\u001b[1;34m(self)\u001b[0m\n\u001b[0;32m     50\u001b[0m             \u001b[0mstrat_class\u001b[0m \u001b[1;33m=\u001b[0m \u001b[0mself\u001b[0m\u001b[1;33m.\u001b[0m\u001b[0mstrats\u001b[0m\u001b[1;33m[\u001b[0m\u001b[0mstrat\u001b[0m\u001b[1;33m]\u001b[0m\u001b[1;33m[\u001b[0m\u001b[1;34m\"class\"\u001b[0m\u001b[1;33m]\u001b[0m\u001b[1;33m\u001b[0m\u001b[1;33m\u001b[0m\u001b[0m\n\u001b[0;32m     51\u001b[0m             \u001b[1;32mif\u001b[0m \u001b[0mstrat_class\u001b[0m\u001b[1;33m.\u001b[0m\u001b[0mai\u001b[0m\u001b[1;33m:\u001b[0m\u001b[1;33m\u001b[0m\u001b[1;33m\u001b[0m\u001b[0m\n\u001b[1;32m---> 52\u001b[1;33m                 \u001b[0mstrat_class\u001b[0m\u001b[1;33m.\u001b[0m\u001b[0minitial_transform\u001b[0m\u001b[1;33m(\u001b[0m\u001b[1;33m)\u001b[0m\u001b[1;33m\u001b[0m\u001b[1;33m\u001b[0m\u001b[0m\n\u001b[0m\u001b[0;32m     53\u001b[0m             \u001b[1;32melse\u001b[0m\u001b[1;33m:\u001b[0m\u001b[1;33m\u001b[0m\u001b[1;33m\u001b[0m\u001b[0m\n\u001b[0;32m     54\u001b[0m                 \u001b[1;32mcontinue\u001b[0m\u001b[1;33m\u001b[0m\u001b[1;33m\u001b[0m\u001b[0m\n",
      "\u001b[1;32mD:\\projects\\longshot\\strategy\\financialpredict.py\u001b[0m in \u001b[0;36minitial_transform\u001b[1;34m(self)\u001b[0m\n\u001b[0;32m     50\u001b[0m         \u001b[0msp5\u001b[0m \u001b[1;33m=\u001b[0m \u001b[0mself\u001b[0m\u001b[1;33m.\u001b[0m\u001b[0msubscriptions\u001b[0m\u001b[1;33m[\u001b[0m\u001b[1;34m\"market\"\u001b[0m\u001b[1;33m]\u001b[0m\u001b[1;33m[\u001b[0m\u001b[1;34m\"tables\"\u001b[0m\u001b[1;33m]\u001b[0m\u001b[1;33m[\u001b[0m\u001b[1;34m\"sp500\"\u001b[0m\u001b[1;33m]\u001b[0m\u001b[1;33m\u001b[0m\u001b[1;33m\u001b[0m\u001b[0m\n\u001b[0;32m     51\u001b[0m         \u001b[1;32mfor\u001b[0m \u001b[0mi\u001b[0m \u001b[1;32min\u001b[0m \u001b[0mrange\u001b[0m\u001b[1;33m(\u001b[0m\u001b[1;36m40\u001b[0m\u001b[1;33m)\u001b[0m\u001b[1;33m:\u001b[0m\u001b[1;33m\u001b[0m\u001b[1;33m\u001b[0m\u001b[0m\n\u001b[1;32m---> 52\u001b[1;33m             \u001b[0mfinancials\u001b[0m\u001b[1;33m.\u001b[0m\u001b[0mdrop\u001b[0m\u001b[1;33m(\u001b[0m\u001b[0mstr\u001b[0m\u001b[1;33m(\u001b[0m\u001b[0mi\u001b[0m\u001b[1;33m)\u001b[0m\u001b[1;33m,\u001b[0m\u001b[0minplace\u001b[0m\u001b[1;33m=\u001b[0m\u001b[1;32mTrue\u001b[0m\u001b[1;33m,\u001b[0m\u001b[0maxis\u001b[0m\u001b[1;33m=\u001b[0m\u001b[1;36m1\u001b[0m\u001b[1;33m,\u001b[0m\u001b[0merrors\u001b[0m\u001b[1;33m=\u001b[0m\u001b[1;34m\"ignore\"\u001b[0m\u001b[1;33m)\u001b[0m\u001b[1;33m\u001b[0m\u001b[1;33m\u001b[0m\u001b[0m\n\u001b[0m\u001b[0;32m     53\u001b[0m         \u001b[0mcats\u001b[0m \u001b[1;33m=\u001b[0m \u001b[0mcategories\u001b[0m\u001b[1;33m[\u001b[0m\u001b[1;34m\"prediction\"\u001b[0m\u001b[1;33m]\u001b[0m\u001b[1;33m.\u001b[0m\u001b[0munique\u001b[0m\u001b[1;33m(\u001b[0m\u001b[1;33m)\u001b[0m\u001b[1;33m\u001b[0m\u001b[1;33m\u001b[0m\u001b[0m\n\u001b[0;32m     54\u001b[0m         \u001b[0mcategories\u001b[0m\u001b[1;33m[\u001b[0m\u001b[1;34m\"prediction\"\u001b[0m\u001b[1;33m]\u001b[0m \u001b[1;33m=\u001b[0m \u001b[1;33m[\u001b[0m\u001b[0mx\u001b[0m \u001b[1;32mif\u001b[0m \u001b[0mx\u001b[0m \u001b[1;32min\u001b[0m \u001b[0mcats\u001b[0m \u001b[1;32melse\u001b[0m \u001b[1;34m\"None\"\u001b[0m \u001b[1;32mfor\u001b[0m \u001b[0mx\u001b[0m \u001b[1;32min\u001b[0m \u001b[0mcategories\u001b[0m\u001b[1;33m[\u001b[0m\u001b[1;34m\"prediction\"\u001b[0m\u001b[1;33m]\u001b[0m\u001b[1;33m]\u001b[0m\u001b[1;33m\u001b[0m\u001b[1;33m\u001b[0m\u001b[0m\n",
      "\u001b[1;31mAttributeError\u001b[0m: 'NoneType' object has no attribute 'drop'"
     ]
    }
   ],
   "source": [
    "ep.transform()"
   ]
  },
  {
   "cell_type": "code",
   "execution_count": 11,
   "id": "5a543294",
   "metadata": {},
   "outputs": [
    {
     "data": {
      "text/plain": [
       "{'market': {'preload': True,\n",
       "  'tables': {'prices': Empty DataFrame\n",
       "   Columns: []\n",
       "   Index: [0]},\n",
       "  'db': <database.market.Market at 0x2403af5ea10>}}"
      ]
     },
     "execution_count": 11,
     "metadata": {},
     "output_type": "execute_result"
    }
   ],
   "source": [
    "ep.strats[\"rolling_percent\"][\"class\"].subscriptions"
   ]
  },
  {
   "cell_type": "code",
   "execution_count": null,
   "id": "58e5da06",
   "metadata": {
    "scrolled": true
   },
   "outputs": [],
   "source": [
    "ep.sim()"
   ]
  },
  {
   "cell_type": "code",
   "execution_count": null,
   "id": "7996a236",
   "metadata": {
    "scrolled": true
   },
   "outputs": [],
   "source": [
    "trades = ep.backtest()"
   ]
  },
  {
   "cell_type": "code",
   "execution_count": null,
   "id": "a7bd27c3",
   "metadata": {},
   "outputs": [],
   "source": [
    "trades[\"strategy\"].unique()"
   ]
  },
  {
   "cell_type": "code",
   "execution_count": null,
   "id": "e7fb1592",
   "metadata": {},
   "outputs": [],
   "source": [
    "pva = a.pv_analysis(ep)\n",
    "iva = a.industry_analysis(ep)"
   ]
  },
  {
   "cell_type": "code",
   "execution_count": null,
   "id": "67625a76",
   "metadata": {},
   "outputs": [],
   "source": [
    "plt.plot(pva[\"date\"],pva[\"progress_report\"])\n",
    "plt.plot(pva[\"date\"],pva[\"rolling_percent\"])\n",
    "plt.plot(pva[\"date\"],pva[\"financial_predict\"])\n",
    "plt.plot(pva[\"date\"],pva[\"speculation\"])\n",
    "plt.legend([x for x in pva.columns if x != \"date\"])"
   ]
  },
  {
   "cell_type": "code",
   "execution_count": null,
   "id": "37b6f7e7",
   "metadata": {},
   "outputs": [],
   "source": [
    "ep.strats[\"speculation\"][\"class\"].ai"
   ]
  }
 ],
 "metadata": {
  "kernelspec": {
   "display_name": "Python 3 (ipykernel)",
   "language": "python",
   "name": "python3"
  },
  "language_info": {
   "codemirror_mode": {
    "name": "ipython",
    "version": 3
   },
   "file_extension": ".py",
   "mimetype": "text/x-python",
   "name": "python",
   "nbconvert_exporter": "python",
   "pygments_lexer": "ipython3",
   "version": "3.10.0"
  }
 },
 "nbformat": 4,
 "nbformat_minor": 5
}
