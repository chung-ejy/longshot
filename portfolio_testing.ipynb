{
 "cells": [
  {
   "cell_type": "code",
   "execution_count": 1,
   "id": "be5fd7f3",
   "metadata": {},
   "outputs": [],
   "source": [
    "from datetime import datetime, timedelta\n",
    "from strategy.stratfact import StratFact\n",
    "from backtester.backtester import Backtester\n",
    "from portfolio.equity_portfolio import EquityPortfolio\n",
    "from processor.processor import Processor as p\n",
    "from tqdm import tqdm\n",
    "import pytz\n",
    "import pandas as pd\n",
    "import numpy as np\n",
    "import matplotlib.pyplot as plt"
   ]
  },
  {
   "cell_type": "code",
   "execution_count": 2,
   "id": "d898af98",
   "metadata": {},
   "outputs": [],
   "source": [
    "start = datetime(2016,1,1)\n",
    "end = datetime(2022,1,1)\n",
    "seats = 10"
   ]
  },
  {
   "cell_type": "code",
   "execution_count": 3,
   "id": "f06ab242",
   "metadata": {},
   "outputs": [],
   "source": [
    "# port = EquityPortfolio(start,end,\"portfolio\",strats = {\"rolling_percent\":{\"modeling_params\":{\"days\":100,\"currency\":\"prices\"},\n",
    "#                         \"trading_params\":{\"requirement\":5,\"value\":True}},\n",
    "# \"progress_report\":{\"modeling_params\":{}\n",
    "#                    ,\"trading_params\":{\"value\":True,\"requirement\":5}},\n",
    "# \"financial_predict\":{\"modeling_params\":{\"score_requirement\":70,\"categories\":4,\"model_training_year\":4},\n",
    "#                     \"trading_params\":{\"requirement\":10,\"value\":True}},\n",
    "# \"speculation\":{\"modeling_params\":{\"number_of_training_weeks\":14,\"categories\":4\n",
    "#                                   ,\"model_training_year\":1,\"score_requirement\":70},\n",
    "#                \"trading_params\":{\"score_requirement\":70,\"requirement\":5,\"value\":True}},\n",
    "# \"competition\":{\"modeling_params\":{\"categories\":4,\"model_training_year\":1,\"score_requirement\":70},\n",
    "#                 \"trading_params\":{\"score_requirement\":70,\"requirement\":5,\"value\":True}}})"
   ]
  },
  {
   "cell_type": "code",
   "execution_count": 4,
   "id": "29178901",
   "metadata": {},
   "outputs": [],
   "source": [
    "port = EquityPortfolio(start,end,\"industry_price_portfolio\",strats = \n",
    "{\"rolling_percent\":{\"modeling_params\":{\"days\":100,\"currency\":\"prices\"},\n",
    "                        \"trading_params\":{\"requirement\":5,\"value\":True}},\n",
    "\"progress_report\":{\"modeling_params\":{}\n",
    "                   ,\"trading_params\":{\"value\":True,\"requirement\":5}},\n",
    "\"financial_predict\":{\"modeling_params\":{\"score_requirement\":70,\"categories\":3,\"model_training_year\":4},\n",
    "                    \"trading_params\":{\"requirement\":10,\"value\":True}},\n",
    "\"speculation\":{\"modeling_params\":{\"number_of_training_weeks\":14,\"categories\":3\n",
    "                                  ,\"model_training_year\":4,\"score_requirement\":70},\n",
    "               \"trading_params\":{\"score_requirement\":70,\"requirement\":5,\"value\":True}},\n",
    "\"competition\":{\"modeling_params\":{\"categories\":3,\"model_training_year\":4,\"score_requirement\":70},\n",
    "                \"trading_params\":{\"score_requirement\":70,\"requirement\":5,\"value\":True}}})"
   ]
  },
  {
   "cell_type": "code",
   "execution_count": 5,
   "id": "9ddd3a86",
   "metadata": {},
   "outputs": [
    {
     "name": "stderr",
     "output_type": "stream",
     "text": [
      "100%|██████████████████████████████████████████████████████████████████████████████████████████████████████████████| 5/5 [00:08<00:00,  1.69s/it]\n"
     ]
    }
   ],
   "source": [
    "port.load()"
   ]
  },
  {
   "cell_type": "code",
   "execution_count": 6,
   "id": "3e667ee3",
   "metadata": {
    "scrolled": false
   },
   "outputs": [
    {
     "name": "stderr",
     "output_type": "stream",
     "text": [
      " 80%|████████████████████████████████████████████████████████████████████████████████████████                      | 4/5 [00:10<00:03,  3.36s/it]\n",
      "  0%|                                                                                                                     | 0/31 [00:00<?, ?it/s]\u001b[A\n",
      "  3%|███▌                                                                                                         | 1/31 [00:10<05:27, 10.91s/it]\u001b[A\n",
      "  6%|███████                                                                                                      | 2/31 [00:17<04:11,  8.66s/it]\u001b[A\n",
      " 10%|██████████▌                                                                                                  | 3/31 [00:22<03:07,  6.70s/it]\u001b[A\n",
      " 13%|██████████████                                                                                               | 4/31 [00:30<03:18,  7.35s/it]\u001b[A\n",
      " 16%|█████████████████▌                                                                                           | 5/31 [00:37<03:02,  7.03s/it]\u001b[A\n",
      " 19%|█████████████████████                                                                                        | 6/31 [00:41<02:33,  6.15s/it]\u001b[A\n",
      " 23%|████████████████████████▌                                                                                    | 7/31 [00:52<03:01,  7.56s/it]\u001b[A\n",
      " 26%|████████████████████████████▏                                                                                | 8/31 [00:59<02:52,  7.52s/it]\u001b[A\n",
      " 29%|███████████████████████████████▋                                                                             | 9/31 [01:03<02:18,  6.28s/it]\u001b[A\n",
      " 32%|██████████████████████████████████▊                                                                         | 10/31 [01:05<01:47,  5.10s/it]\u001b[A\n",
      " 35%|██████████████████████████████████████▎                                                                     | 11/31 [01:13<01:59,  5.98s/it]\u001b[A\n",
      " 39%|█████████████████████████████████████████▊                                                                  | 12/31 [01:18<01:48,  5.73s/it]\u001b[A\n",
      " 42%|█████████████████████████████████████████████▎                                                              | 13/31 [01:21<01:25,  4.74s/it]\u001b[A\n",
      " 45%|████████████████████████████████████████████████▊                                                           | 14/31 [01:24<01:16,  4.47s/it]\u001b[A\n",
      " 48%|████████████████████████████████████████████████████▎                                                       | 15/31 [01:34<01:34,  5.89s/it]\u001b[A\n",
      " 52%|███████████████████████████████████████████████████████▋                                                    | 16/31 [01:37<01:17,  5.20s/it]\u001b[A\n",
      " 55%|███████████████████████████████████████████████████████████▏                                                | 17/31 [01:39<01:00,  4.29s/it]\u001b[A\n",
      " 58%|██████████████████████████████████████████████████████████████▋                                             | 18/31 [01:40<00:42,  3.28s/it]\u001b[A\n",
      " 61%|██████████████████████████████████████████████████████████████████▏                                         | 19/31 [01:44<00:40,  3.38s/it]\u001b[A\n",
      " 65%|█████████████████████████████████████████████████████████████████████▋                                      | 20/31 [01:46<00:32,  2.98s/it]\u001b[A\n",
      " 68%|█████████████████████████████████████████████████████████████████████████▏                                  | 21/31 [01:47<00:23,  2.38s/it]\u001b[A\n",
      " 71%|████████████████████████████████████████████████████████████████████████████▋                               | 22/31 [01:51<00:26,  2.96s/it]\u001b[A\n",
      " 74%|████████████████████████████████████████████████████████████████████████████████▏                           | 23/31 [01:52<00:17,  2.21s/it]\u001b[A\n",
      " 77%|███████████████████████████████████████████████████████████████████████████████████▌                        | 24/31 [01:56<00:19,  2.81s/it]\u001b[A\n",
      " 81%|███████████████████████████████████████████████████████████████████████████████████████                     | 25/31 [01:57<00:13,  2.20s/it]\u001b[A\n",
      " 84%|██████████████████████████████████████████████████████████████████████████████████████████▌                 | 26/31 [01:59<00:10,  2.09s/it]\u001b[A\n",
      " 87%|██████████████████████████████████████████████████████████████████████████████████████████████              | 27/31 [02:01<00:08,  2.21s/it]\u001b[A\n",
      " 90%|█████████████████████████████████████████████████████████████████████████████████████████████████▌          | 28/31 [02:02<00:05,  1.76s/it]\u001b[A\n",
      " 94%|█████████████████████████████████████████████████████████████████████████████████████████████████████       | 29/31 [02:02<00:02,  1.39s/it]\u001b[A\n",
      " 97%|████████████████████████████████████████████████████████████████████████████████████████████████████████▌   | 30/31 [02:04<00:01,  1.37s/it]\u001b[A\n",
      "100%|████████████████████████████████████████████████████████████████████████████████████████████████████████████| 31/31 [02:04<00:00,  4.02s/it]\u001b[A\n",
      "100%|██████████████████████████████████████████████████████████████████████████████████████████████████████████████| 5/5 [02:22<00:00, 28.42s/it]\n"
     ]
    }
   ],
   "source": [
    "port.transform()"
   ]
  },
  {
   "cell_type": "code",
   "execution_count": null,
   "id": "69c246eb",
   "metadata": {
    "scrolled": true
   },
   "outputs": [
    {
     "name": "stderr",
     "output_type": "stream",
     "text": [
      " 40%|████████████████████████████████████████████                                                                  | 2/5 [00:06<00:09,  3.18s/it]\n",
      "financial_predict_sim_year:   0%|                                                                                          | 0/7 [00:00<?, ?it/s]\u001b[A"
     ]
    },
    {
     "name": "stdout",
     "output_type": "stream",
     "text": [
      "Found array with 0 sample(s) (shape=(0, 4)) while a minimum of 1 is required.\n",
      "Cannot have number of splits n_splits=5 greater than the number of samples: n_samples=0.\n",
      "Cannot have number of splits n_splits=5 greater than the number of samples: n_samples=0.\n",
      "Found array with 0 sample(s) (shape=(0, 4)) while a minimum of 1 is required.\n",
      "Cannot have number of splits n_splits=5 greater than the number of samples: n_samples=0.\n",
      "Cannot have number of splits n_splits=5 greater than the number of samples: n_samples=0.\n",
      "Found array with 0 sample(s) (shape=(0, 4)) while a minimum of 1 is required.\n",
      "Cannot have number of splits n_splits=5 greater than the number of samples: n_samples=0.\n",
      "Cannot have number of splits n_splits=5 greater than the number of samples: n_samples=0.\n",
      "Found array with 0 sample(s) (shape=(0, 4)) while a minimum of 1 is required.\n",
      "Cannot have number of splits n_splits=5 greater than the number of samples: n_samples=0.\n",
      "Cannot have number of splits n_splits=5 greater than the number of samples: n_samples=0.\n",
      "Found array with 0 sample(s) (shape=(0, 4)) while a minimum of 1 is required.\n",
      "Cannot have number of splits n_splits=5 greater than the number of samples: n_samples=0.\n",
      "Cannot have number of splits n_splits=5 greater than the number of samples: n_samples=0.\n",
      "Found array with 0 sample(s) (shape=(0, 4)) while a minimum of 1 is required.\n",
      "Cannot have number of splits n_splits=5 greater than the number of samples: n_samples=0.\n",
      "Cannot have number of splits n_splits=5 greater than the number of samples: n_samples=0.\n",
      "Found array with 0 sample(s) (shape=(0, 4)) while a minimum of 1 is required.\n",
      "Cannot have number of splits n_splits=5 greater than the number of samples: n_samples=0.\n",
      "Cannot have number of splits n_splits=5 greater than the number of samples: n_samples=0.\n",
      "Found array with 0 sample(s) (shape=(0, 4)) while a minimum of 1 is required.\n",
      "Cannot have number of splits n_splits=5 greater than the number of samples: n_samples=0.\n",
      "Cannot have number of splits n_splits=5 greater than the number of samples: n_samples=0.\n"
     ]
    }
   ],
   "source": [
    "port.sim()"
   ]
  },
  {
   "cell_type": "code",
   "execution_count": null,
   "id": "5747ae69",
   "metadata": {
    "scrolled": true
   },
   "outputs": [],
   "source": [
    "port.strats[\"rolling_percent\"]"
   ]
  },
  {
   "cell_type": "code",
   "execution_count": null,
   "id": "0d4e6116",
   "metadata": {
    "scrolled": true
   },
   "outputs": [],
   "source": [
    "trades = port.backtest()"
   ]
  },
  {
   "cell_type": "code",
   "execution_count": null,
   "id": "51ac3cb5",
   "metadata": {},
   "outputs": [],
   "source": [
    "at = trades\n",
    "strats = trades[\"strategy\"].unique()\n",
    "all_analysis = []\n",
    "for strat in strats:\n",
    "    strat_trades = at[at[\"strategy\"]==strat]\n",
    "    cash = []\n",
    "    stuff = []\n",
    "    total_cash = 100\n",
    "    number_of_strats=1\n",
    "    for seat in range(seats):\n",
    "        initial = float(total_cash / number_of_strats / seats )\n",
    "        seat_trades = strat_trades[strat_trades[\"seat\"]==seat]\n",
    "        for delta in seat_trades[\"delta\"]:\n",
    "            initial = initial * (1+delta)\n",
    "            cash.append(initial)\n",
    "    strat_trades[\"pv\"] = cash\n",
    "    stuff.append(strat_trades)\n",
    "    analysis = pd.concat(stuff).pivot_table(index=[\"sell_date\"],columns=\"seat\",values=\"pv\").fillna(method=\"ffill\").fillna(float(total_cash / number_of_strats / seats )).reset_index()\n",
    "    analysis[\"pv\"] = [sum([row[1][i] for i in range(seats)]) for row in analysis.iterrows()]\n",
    "    analysis[\"strategy\"] = strat\n",
    "    all_analysis.append(analysis)\n",
    "    plt.plot(analysis[\"sell_date\"],analysis[\"pv\"])\n",
    "plt.legend(strats)\n",
    "plt.show()"
   ]
  },
  {
   "cell_type": "code",
   "execution_count": null,
   "id": "7e0fa65c",
   "metadata": {},
   "outputs": [],
   "source": [
    "hl = pd.concat(all_analysis)\n",
    "hl"
   ]
  },
  {
   "cell_type": "code",
   "execution_count": null,
   "id": "4d4d7add",
   "metadata": {},
   "outputs": [],
   "source": [
    "hl.pivot_table(index=\"sell_date\",columns=\"strategy\",values=\"pv\").fillna(method=\"ffill\").fillna(100)"
   ]
  }
 ],
 "metadata": {
  "kernelspec": {
   "display_name": "Python 3 (ipykernel)",
   "language": "python",
   "name": "python3"
  },
  "language_info": {
   "codemirror_mode": {
    "name": "ipython",
    "version": 3
   },
   "file_extension": ".py",
   "mimetype": "text/x-python",
   "name": "python",
   "nbconvert_exporter": "python",
   "pygments_lexer": "ipython3",
   "version": "3.10.1"
  }
 },
 "nbformat": 4,
 "nbformat_minor": 5
}
