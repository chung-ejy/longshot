{
 "cells": [
  {
   "cell_type": "code",
   "execution_count": 1,
   "id": "aa80f443",
   "metadata": {
    "scrolled": true
   },
   "outputs": [],
   "source": [
    "from datetime import datetime, timedelta\n",
    "import pytz\n",
    "import pandas as pd\n",
    "from tqdm import tqdm\n",
    "from modeler.modeler import Modeler as m\n",
    "from processor.processor import Processor as p\n",
    "from database.market import Market\n",
    "from database.adatabase import ADatabase\n",
    "import numpy as np\n",
    "import matplotlib.pyplot as plt\n",
    "import pickle"
   ]
  },
  {
   "cell_type": "code",
   "execution_count": 2,
   "id": "b38d4176",
   "metadata": {
    "scrolled": true
   },
   "outputs": [],
   "source": [
    "start_date = datetime(2016,1,1)\n",
    "end_date = datetime(2021,1,1)"
   ]
  },
  {
   "cell_type": "code",
   "execution_count": 3,
   "id": "e5adbebb",
   "metadata": {},
   "outputs": [],
   "source": [
    "market = Market()\n",
    "speculation_db = ADatabase(\"strategy_speculation\")"
   ]
  },
  {
   "cell_type": "code",
   "execution_count": 4,
   "id": "235a8676",
   "metadata": {},
   "outputs": [],
   "source": [
    "market.connect()\n",
    "prices = market.retrieve(\"prices\")\n",
    "sp5 = market.retrieve(\"sp500\")\n",
    "market.disconnect()"
   ]
  },
  {
   "cell_type": "code",
   "execution_count": 5,
   "id": "4a1d71da",
   "metadata": {},
   "outputs": [],
   "source": [
    "prices = p.column_date_processing(prices)"
   ]
  },
  {
   "cell_type": "code",
   "execution_count": 6,
   "id": "8bd7689f",
   "metadata": {},
   "outputs": [],
   "source": [
    "prices[\"year\"] = [x.year for x in prices[\"date\"]]\n",
    "prices[\"week\"] = [x.week for x in prices[\"date\"]]\n",
    "prices[\"quarter\"] = [x.quarter for x in prices[\"date\"]]"
   ]
  },
  {
   "cell_type": "code",
   "execution_count": 7,
   "id": "26526c95",
   "metadata": {},
   "outputs": [
    {
     "name": "stderr",
     "output_type": "stream",
     "text": [
      "100%|██████████████████████████████████████████████████████████████████████████████████████████████████████████████| 505/505 [02:00<00:00,  4.21it/s]\n"
     ]
    }
   ],
   "source": [
    "data = []\n",
    "for ticker in tqdm(sp5[\"Symbol\"]):\n",
    "    ticker_data = prices[prices[\"ticker\"]==ticker]\n",
    "    ticker_data.sort_values(\"date\",ascending=True)\n",
    "    ticker_data = ticker_data.groupby([\"year\",\"week\"]).mean().reset_index()\n",
    "    for i in range(14):\n",
    "        ticker_data[str(i)] = ticker_data[\"adjclose\"].shift(i)\n",
    "    ticker_data[\"d1\"] = ticker_data[\"adjclose\"].pct_change(periods=7)\n",
    "    ticker_data[\"d2\"] = ticker_data[\"d1\"].pct_change(periods=1)\n",
    "    ticker_data[\"d3\"] = ticker_data[\"d2\"].pct_change(periods=1)\n",
    "    ticker_data.dropna(inplace=True)\n",
    "    ticker_data[\"ticker\"] = ticker\n",
    "    data.append(ticker_data)\n",
    "    "
   ]
  },
  {
   "cell_type": "code",
   "execution_count": 8,
   "id": "5b2570a1",
   "metadata": {},
   "outputs": [],
   "source": [
    "final_data = pd.concat(data)"
   ]
  },
  {
   "cell_type": "code",
   "execution_count": 19,
   "id": "2e996bf8",
   "metadata": {
    "scrolled": true
   },
   "outputs": [
    {
     "name": "stdout",
     "output_type": "stream",
     "text": [
      "Input contains NaN, infinity or a value too large for dtype('float64').\n",
      "Input contains NaN, infinity or a value too large for dtype('float64').\n",
      "Input contains NaN, infinity or a value too large for dtype('float64').\n",
      "[11:44:18] C:/Users/Administrator/workspace/xgboost-win64_release_1.5.1/src/data/data.cc:981: Check failed: valid: Input data contains `inf` or `nan`\n"
     ]
    },
    {
     "name": "stderr",
     "output_type": "stream",
     "text": [
      "Custom logger is already specified. Specify more than one logger at same time is not thread safe."
     ]
    },
    {
     "name": "stdout",
     "output_type": "stream",
     "text": [
      "Input contains NaN, infinity or a value too large for dtype('float64').\n",
      "Input contains NaN, infinity or a value too large for dtype('float64').\n",
      "Input contains NaN, infinity or a value too large for dtype('float64').\n",
      "[11:44:51] C:/Users/Administrator/workspace/xgboost-win64_release_1.5.1/src/data/data.cc:981: Check failed: valid: Input data contains `inf` or `nan`\n",
      "Input contains NaN, infinity or a value too large for dtype('float64').\n",
      "Input contains NaN, infinity or a value too large for dtype('float64').\n",
      "Input contains NaN, infinity or a value too large for dtype('float64').\n",
      "[11:45:27] C:/Users/Administrator/workspace/xgboost-win64_release_1.5.1/src/data/data.cc:981: Check failed: valid: Input data contains `inf` or `nan`\n",
      "Input contains NaN, infinity or a value too large for dtype('float64').\n",
      "Input contains NaN, infinity or a value too large for dtype('float64').\n",
      "Input contains NaN, infinity or a value too large for dtype('float64').\n",
      "[11:46:05] C:/Users/Administrator/workspace/xgboost-win64_release_1.5.1/src/data/data.cc:981: Check failed: valid: Input data contains `inf` or `nan`\n",
      "Input contains NaN, infinity or a value too large for dtype('float64').\n",
      "Input contains NaN, infinity or a value too large for dtype('float64').\n",
      "Input contains NaN, infinity or a value too large for dtype('float64').\n",
      "[11:46:42] C:/Users/Administrator/workspace/xgboost-win64_release_1.5.1/src/data/data.cc:981: Check failed: valid: Input data contains `inf` or `nan`\n",
      "Input contains NaN, infinity or a value too large for dtype('float64').\n",
      "Input contains NaN, infinity or a value too large for dtype('float64').\n",
      "Input contains NaN, infinity or a value too large for dtype('float64').\n",
      "[11:47:19] C:/Users/Administrator/workspace/xgboost-win64_release_1.5.1/src/data/data.cc:981: Check failed: valid: Input data contains `inf` or `nan`\n"
     ]
    }
   ],
   "source": [
    "start_year = 2016\n",
    "end_year = 2022\n",
    "sim = []\n",
    "speculation_db.connect()\n",
    "for year in tqdm(range(start_year,end_year)):\n",
    "    try:\n",
    "        ticker_data = final_data.copy()\n",
    "        factors = [str(i) for i in range(14)]\n",
    "        factors.append(\"d1\")\n",
    "        factors.append(\"d2\")\n",
    "        factors.append(\"d3\")\n",
    "        training_data = ticker_data[(ticker_data[\"year\"]<year) & (ticker_data[\"year\"]>=year-5)].reset_index(drop=True)\n",
    "        training_data.dropna(inplace=True)\n",
    "        prediction_data = ticker_data[ticker_data[\"year\"]==year].dropna()\n",
    "        if training_data.index.size > 100:\n",
    "            refined_data = {\"X\":training_data[factors],\"y\":training_data[[\"adjclose\"]].rename(columns={\"adjclose\":\"y\"})}\n",
    "            models = m.regression(refined_data)\n",
    "            for row in models.iterrows():\n",
    "                try:\n",
    "                    model = row[1][\"model\"]\n",
    "                    api = row[1][\"api\"]\n",
    "                    score = row[1][\"score\"]\n",
    "                    prediction_data[f\"{api}_prediction\"] = model.predict(prediction_data[factors])\n",
    "                    prediction_data[f\"{api}_score\"] = score\n",
    "                except:\n",
    "                    continue\n",
    "            included_columns = [\"year\",\"week\",\"ticker\"]\n",
    "            included_columns.extend([x for x in prediction_data.columns if \"score\" in x or \"prediction\" in x])\n",
    "            sim.append(prediction_data[included_columns])\n",
    "        else:\n",
    "            continue\n",
    "    except Exception as e:\n",
    "        print(year,str(e))\n",
    "speculation_db.disconnect()"
   ]
  },
  {
   "cell_type": "code",
   "execution_count": 12,
   "id": "5e6f48f8",
   "metadata": {
    "scrolled": true
   },
   "outputs": [
    {
     "name": "stderr",
     "output_type": "stream",
     "text": [
      "100%|█████████████████████████████████████████████████████████████████████████████████████████████████████████████████████████████████████████████████████████████████████████████████████████████████████████████████████████████████| 505/505 [44:15<00:00,  5.26s/it]Custom logger is already specified. Specify more than one logger at same time is not thread safe.\n"
     ]
    }
   ],
   "source": [
    "start_year = 2022\n",
    "end_year = 2023\n",
    "speculation_db.connect()\n",
    "for year in range(start_year,end_year):\n",
    "    for ticker in tqdm(sp5[\"Symbol\"]):\n",
    "        try:\n",
    "            ticker_data = final_data[final_data[\"ticker\"]==ticker]\n",
    "            factors = [str(i) for i in range(14)]\n",
    "            training_data = ticker_data[(ticker_data[\"year\"]<year) & (ticker_data[\"year\"]>=year-5)].reset_index(drop=True)\n",
    "            prediction_data = ticker_data[ticker_data[\"year\"]==year]\n",
    "            if training_data.index.size > 100:\n",
    "                refined_data = {\"X\":training_data[factors],\"y\":training_data[[\"adjclose\"]].rename(columns={\"adjclose\":\"y\"})}\n",
    "                models = m.regression(refined_data)\n",
    "                models[\"model\"] = [pickle.dumps(x) for x in models[\"model\"]]\n",
    "                models[\"ticker\"] = ticker\n",
    "                models[\"year\"] = year\n",
    "                speculation_db.store(\"models\",models)\n",
    "            else:\n",
    "                continue\n",
    "        except Exception as e:\n",
    "            print(year,ticker,str(e))\n",
    "speculation_db.disconnect()"
   ]
  },
  {
   "cell_type": "code",
   "execution_count": 18,
   "id": "9f1a477f",
   "metadata": {},
   "outputs": [
    {
     "name": "stderr",
     "output_type": "stream",
     "text": [
      " 13%|██████████████████████████████▍                                                                                                                                                                                                   | 68/505 [00:03<00:23, 18.30it/s]"
     ]
    },
    {
     "name": "stdout",
     "output_type": "stream",
     "text": [
      "strategy_speculation predictions documents must be a non-empty list\n"
     ]
    },
    {
     "name": "stderr",
     "output_type": "stream",
     "text": [
      " 16%|█████████████████████████████████████▏                                                                                                                                                                                            | 83/505 [00:04<00:22, 18.98it/s]"
     ]
    },
    {
     "name": "stdout",
     "output_type": "stream",
     "text": [
      "strategy_speculation predictions documents must be a non-empty list\n"
     ]
    },
    {
     "name": "stderr",
     "output_type": "stream",
     "text": [
      " 99%|█████████████████████████████████████████████████████████████████████████████████████████████████████████████████████████████████████████████████████████████████████████████████████████████████████████████████████████████▉   | 498/505 [00:28<00:00, 17.77it/s]"
     ]
    },
    {
     "name": "stdout",
     "output_type": "stream",
     "text": [
      "2022 WLTW Found array with 0 sample(s) (shape=(0, 14)) while a minimum of 1 is required.\n"
     ]
    },
    {
     "name": "stderr",
     "output_type": "stream",
     "text": [
      "100%|█████████████████████████████████████████████████████████████████████████████████████████████████████████████████████████████████████████████████████████████████████████████████████████████████████████████████████████████████| 505/505 [00:28<00:00, 17.51it/s]"
     ]
    },
    {
     "name": "stdout",
     "output_type": "stream",
     "text": [
      "strategy_speculation predictions documents must be a non-empty list\n",
      "strategy_speculation predictions documents must be a non-empty list\n",
      "strategy_speculation predictions documents must be a non-empty list\n",
      "strategy_speculation predictions documents must be a non-empty list\n"
     ]
    },
    {
     "name": "stderr",
     "output_type": "stream",
     "text": [
      "\n"
     ]
    }
   ],
   "source": [
    "start_year = 2022\n",
    "end_year = 2023\n",
    "speculation_db.connect()\n",
    "models = speculation_db.retrieve(\"models\")\n",
    "models[\"model\"] = [pickle.loads(x) for x in models[\"model\"]]\n",
    "for year in range(start_year,end_year):\n",
    "    for ticker in tqdm(sp5[\"Symbol\"]):\n",
    "        try:\n",
    "            ticker_data = final_data[final_data[\"ticker\"]==ticker]\n",
    "            factors = [str(i) for i in range(14)]\n",
    "            prediction_data = ticker_data[ticker_data[\"year\"]==year]\n",
    "            ticker_model_data = models[(models[\"ticker\"]==ticker) & (models[\"year\"]==year)]\n",
    "            for row in ticker_model_data.iterrows():\n",
    "                model = row[1][\"model\"]\n",
    "                api = row[1][\"api\"]\n",
    "                score = row[1][\"score\"]\n",
    "                prediction_data[f\"{api}_prediction\"] = model.predict(prediction_data[factors])\n",
    "                prediction_data[f\"{api}_score\"] = score\n",
    "            included_columns = [\"year\",\"week\",\"ticker\"]\n",
    "            included_columns.extend([x for x in prediction_data.columns if \"score\" in x or \"prediction\" in x])\n",
    "            speculation_db.store(\"predictions\",prediction_data[included_columns].tail(1))\n",
    "        except Exception as e:\n",
    "            print(year,ticker,str(e))\n",
    "speculation_db.disconnect()"
   ]
  },
  {
   "cell_type": "code",
   "execution_count": 16,
   "id": "2af800d5",
   "metadata": {},
   "outputs": [
    {
     "data": {
      "text/html": [
       "<div>\n",
       "<style scoped>\n",
       "    .dataframe tbody tr th:only-of-type {\n",
       "        vertical-align: middle;\n",
       "    }\n",
       "\n",
       "    .dataframe tbody tr th {\n",
       "        vertical-align: top;\n",
       "    }\n",
       "\n",
       "    .dataframe thead th {\n",
       "        text-align: right;\n",
       "    }\n",
       "</style>\n",
       "<table border=\"1\" class=\"dataframe\">\n",
       "  <thead>\n",
       "    <tr style=\"text-align: right;\">\n",
       "      <th></th>\n",
       "      <th>year</th>\n",
       "      <th>week</th>\n",
       "      <th>ticker</th>\n",
       "      <th>skl_prediction</th>\n",
       "      <th>skl_score</th>\n",
       "      <th>xgb_prediction</th>\n",
       "      <th>xgb_score</th>\n",
       "      <th>cat_prediction</th>\n",
       "      <th>cat_score</th>\n",
       "    </tr>\n",
       "  </thead>\n",
       "  <tbody>\n",
       "    <tr>\n",
       "      <th>1461</th>\n",
       "      <td>2022</td>\n",
       "      <td>1</td>\n",
       "      <td>MMM</td>\n",
       "      <td>179.082000</td>\n",
       "      <td>1.0</td>\n",
       "      <td>180.043900</td>\n",
       "      <td>0.99604</td>\n",
       "      <td>177.845243</td>\n",
       "      <td>0.987569</td>\n",
       "    </tr>\n",
       "    <tr>\n",
       "      <th>1462</th>\n",
       "      <td>2022</td>\n",
       "      <td>2</td>\n",
       "      <td>MMM</td>\n",
       "      <td>178.399896</td>\n",
       "      <td>1.0</td>\n",
       "      <td>178.806824</td>\n",
       "      <td>0.99604</td>\n",
       "      <td>179.480933</td>\n",
       "      <td>0.987569</td>\n",
       "    </tr>\n",
       "    <tr>\n",
       "      <th>1463</th>\n",
       "      <td>2022</td>\n",
       "      <td>3</td>\n",
       "      <td>MMM</td>\n",
       "      <td>174.000778</td>\n",
       "      <td>1.0</td>\n",
       "      <td>174.082565</td>\n",
       "      <td>0.99604</td>\n",
       "      <td>175.938945</td>\n",
       "      <td>0.987569</td>\n",
       "    </tr>\n",
       "    <tr>\n",
       "      <th>1464</th>\n",
       "      <td>2022</td>\n",
       "      <td>4</td>\n",
       "      <td>MMM</td>\n",
       "      <td>168.136562</td>\n",
       "      <td>1.0</td>\n",
       "      <td>166.232437</td>\n",
       "      <td>0.99604</td>\n",
       "      <td>169.429983</td>\n",
       "      <td>0.987569</td>\n",
       "    </tr>\n",
       "    <tr>\n",
       "      <th>1465</th>\n",
       "      <td>2022</td>\n",
       "      <td>5</td>\n",
       "      <td>MMM</td>\n",
       "      <td>163.407963</td>\n",
       "      <td>1.0</td>\n",
       "      <td>163.679764</td>\n",
       "      <td>0.99604</td>\n",
       "      <td>166.373169</td>\n",
       "      <td>0.987569</td>\n",
       "    </tr>\n",
       "    <tr>\n",
       "      <th>1466</th>\n",
       "      <td>2022</td>\n",
       "      <td>6</td>\n",
       "      <td>MMM</td>\n",
       "      <td>159.699141</td>\n",
       "      <td>1.0</td>\n",
       "      <td>158.677170</td>\n",
       "      <td>0.99604</td>\n",
       "      <td>162.558508</td>\n",
       "      <td>0.987569</td>\n",
       "    </tr>\n",
       "    <tr>\n",
       "      <th>1467</th>\n",
       "      <td>2022</td>\n",
       "      <td>7</td>\n",
       "      <td>MMM</td>\n",
       "      <td>152.513130</td>\n",
       "      <td>1.0</td>\n",
       "      <td>154.194901</td>\n",
       "      <td>0.99604</td>\n",
       "      <td>157.158586</td>\n",
       "      <td>0.987569</td>\n",
       "    </tr>\n",
       "    <tr>\n",
       "      <th>1468</th>\n",
       "      <td>2022</td>\n",
       "      <td>8</td>\n",
       "      <td>MMM</td>\n",
       "      <td>146.335000</td>\n",
       "      <td>1.0</td>\n",
       "      <td>146.417267</td>\n",
       "      <td>0.99604</td>\n",
       "      <td>146.205010</td>\n",
       "      <td>0.987569</td>\n",
       "    </tr>\n",
       "    <tr>\n",
       "      <th>1469</th>\n",
       "      <td>2022</td>\n",
       "      <td>9</td>\n",
       "      <td>MMM</td>\n",
       "      <td>147.130000</td>\n",
       "      <td>1.0</td>\n",
       "      <td>146.067612</td>\n",
       "      <td>0.99604</td>\n",
       "      <td>147.094151</td>\n",
       "      <td>0.987569</td>\n",
       "    </tr>\n",
       "    <tr>\n",
       "      <th>1470</th>\n",
       "      <td>2022</td>\n",
       "      <td>10</td>\n",
       "      <td>MMM</td>\n",
       "      <td>144.034000</td>\n",
       "      <td>1.0</td>\n",
       "      <td>145.957657</td>\n",
       "      <td>0.99604</td>\n",
       "      <td>139.946004</td>\n",
       "      <td>0.987569</td>\n",
       "    </tr>\n",
       "    <tr>\n",
       "      <th>1471</th>\n",
       "      <td>2022</td>\n",
       "      <td>11</td>\n",
       "      <td>MMM</td>\n",
       "      <td>145.862000</td>\n",
       "      <td>1.0</td>\n",
       "      <td>145.211807</td>\n",
       "      <td>0.99604</td>\n",
       "      <td>140.651304</td>\n",
       "      <td>0.987569</td>\n",
       "    </tr>\n",
       "    <tr>\n",
       "      <th>1472</th>\n",
       "      <td>2022</td>\n",
       "      <td>12</td>\n",
       "      <td>MMM</td>\n",
       "      <td>149.128000</td>\n",
       "      <td>1.0</td>\n",
       "      <td>149.154526</td>\n",
       "      <td>0.99604</td>\n",
       "      <td>146.133719</td>\n",
       "      <td>0.987569</td>\n",
       "    </tr>\n",
       "    <tr>\n",
       "      <th>1473</th>\n",
       "      <td>2022</td>\n",
       "      <td>13</td>\n",
       "      <td>MMM</td>\n",
       "      <td>150.993333</td>\n",
       "      <td>1.0</td>\n",
       "      <td>149.794907</td>\n",
       "      <td>0.99604</td>\n",
       "      <td>148.170629</td>\n",
       "      <td>0.987569</td>\n",
       "    </tr>\n",
       "  </tbody>\n",
       "</table>\n",
       "</div>"
      ],
      "text/plain": [
       "      year  week ticker  skl_prediction  skl_score  xgb_prediction  xgb_score  \\\n",
       "1461  2022     1    MMM      179.082000        1.0      180.043900    0.99604   \n",
       "1462  2022     2    MMM      178.399896        1.0      178.806824    0.99604   \n",
       "1463  2022     3    MMM      174.000778        1.0      174.082565    0.99604   \n",
       "1464  2022     4    MMM      168.136562        1.0      166.232437    0.99604   \n",
       "1465  2022     5    MMM      163.407963        1.0      163.679764    0.99604   \n",
       "1466  2022     6    MMM      159.699141        1.0      158.677170    0.99604   \n",
       "1467  2022     7    MMM      152.513130        1.0      154.194901    0.99604   \n",
       "1468  2022     8    MMM      146.335000        1.0      146.417267    0.99604   \n",
       "1469  2022     9    MMM      147.130000        1.0      146.067612    0.99604   \n",
       "1470  2022    10    MMM      144.034000        1.0      145.957657    0.99604   \n",
       "1471  2022    11    MMM      145.862000        1.0      145.211807    0.99604   \n",
       "1472  2022    12    MMM      149.128000        1.0      149.154526    0.99604   \n",
       "1473  2022    13    MMM      150.993333        1.0      149.794907    0.99604   \n",
       "\n",
       "      cat_prediction  cat_score  \n",
       "1461      177.845243   0.987569  \n",
       "1462      179.480933   0.987569  \n",
       "1463      175.938945   0.987569  \n",
       "1464      169.429983   0.987569  \n",
       "1465      166.373169   0.987569  \n",
       "1466      162.558508   0.987569  \n",
       "1467      157.158586   0.987569  \n",
       "1468      146.205010   0.987569  \n",
       "1469      147.094151   0.987569  \n",
       "1470      139.946004   0.987569  \n",
       "1471      140.651304   0.987569  \n",
       "1472      146.133719   0.987569  \n",
       "1473      148.170629   0.987569  "
      ]
     },
     "execution_count": 16,
     "metadata": {},
     "output_type": "execute_result"
    }
   ],
   "source": [
    "prediction_data[included_columns]"
   ]
  },
  {
   "cell_type": "code",
   "execution_count": 20,
   "id": "5ccfd139",
   "metadata": {},
   "outputs": [],
   "source": [
    "simulation = pd.concat(sim).groupby([\"year\",\"week\",\"ticker\"]).mean().reset_index()\n",
    "simulation = prices.merge(simulation,on=[\"year\",\"week\",\"ticker\"]).dropna()"
   ]
  },
  {
   "cell_type": "code",
   "execution_count": 21,
   "id": "95c24d1c",
   "metadata": {},
   "outputs": [],
   "source": [
    "simulation[\"average_prediction\"] = [sum([row[1][col] for col in simulation.columns if \"prediction\" in col]) for row in simulation.iterrows()]"
   ]
  },
  {
   "cell_type": "code",
   "execution_count": 22,
   "id": "ea796aea",
   "metadata": {},
   "outputs": [],
   "source": [
    "simulation[\"average_prediction\"] = simulation[\"average_prediction\"] / 3\n",
    "simulation[\"delta\"] = (simulation[\"average_prediction\"] - simulation[\"close\"]) / simulation[\"close\"]"
   ]
  },
  {
   "cell_type": "code",
   "execution_count": 23,
   "id": "e285f570",
   "metadata": {},
   "outputs": [
    {
     "name": "stderr",
     "output_type": "stream",
     "text": [
      "  0%|                                                                                                                          | 0/1 [00:00<?, ?it/s]\n",
      "  0%|                                                                                                                          | 0/2 [00:00<?, ?it/s]\u001b[A\n",
      " 50%|█████████████████████████████████████████████████████████                                                         | 1/2 [00:40<00:40, 40.07s/it]\u001b[A\n",
      "100%|██████████████████████████████████████████████████████████████████████████████████████████████████████████████████| 2/2 [01:14<00:00, 37.07s/it]\u001b[A\n",
      "100%|██████████████████████████████████████████████████████████████████████████████████████████████████████████████████| 1/1 [01:14<00:00, 74.15s/it]\n"
     ]
    }
   ],
   "source": [
    "positions = 1\n",
    "start_date = simulation[\"date\"].min()\n",
    "end_date = simulation[\"date\"].max()\n",
    "reqs = [1,3]\n",
    "limit = 7\n",
    "values = [True]\n",
    "trades = []\n",
    "for value in tqdm(values):\n",
    "    for req in tqdm(reqs):\n",
    "        for position in range(positions):\n",
    "            date = start_date\n",
    "            iterration_sim = simulation.copy()\n",
    "            if not value:\n",
    "                iterration_sim[\"delta\"] = iterration_sim[\"delta\"] * -1\n",
    "            while date < end_date:\n",
    "                try:\n",
    "                    todays_recs = iterration_sim[iterration_sim[\"date\"]==date]\n",
    "                    todays_recs.sort_values(\"delta\",ascending=False,inplace=True)\n",
    "                    if todays_recs.index.size > 0:\n",
    "                        offering = todays_recs.iloc[position]\n",
    "                        if offering[\"delta\"] > req:\n",
    "                            trade = offering\n",
    "                            ticker = trade[\"ticker\"]\n",
    "                            buy_price = trade[\"close\"]\n",
    "                            exits = iterration_sim[(iterration_sim[\"ticker\"]==ticker) & (iterration_sim[\"date\"]>date)].iloc[:limit]\n",
    "                            exits[\"gains\"] = (exits[\"close\"] - buy_price) / buy_price\n",
    "                            exit = exits.sort_values(\"gains\",ascending=False).iloc[0]\n",
    "                            trade[\"sell_price\"] = exit[\"close\"]\n",
    "                            trade[\"sell_date\"] = exit[\"date\"]\n",
    "                            date = exit[\"date\"] + timedelta(days=1)\n",
    "                            trade[\"value\"] = value\n",
    "                            trade[\"req\"] = req\n",
    "                            trade[\"position\"] = position\n",
    "                            trades.append(trade)\n",
    "                        else:\n",
    "                            date = date + timedelta(days=1)\n",
    "                    else:\n",
    "                        date = date + timedelta(days=1)\n",
    "                except Exception as e:\n",
    "                    print(str(e))\n",
    "                    date = date+timedelta(days=1)"
   ]
  },
  {
   "cell_type": "code",
   "execution_count": 24,
   "id": "377f314c",
   "metadata": {},
   "outputs": [],
   "source": [
    "t = pd.DataFrame(trades)"
   ]
  },
  {
   "cell_type": "code",
   "execution_count": 25,
   "id": "3a5cb2d2",
   "metadata": {},
   "outputs": [],
   "source": [
    "t[\"delta\"] =  (t[\"sell_price\"] - t[\"close\"]) / t[\"close\"]"
   ]
  },
  {
   "cell_type": "code",
   "execution_count": 26,
   "id": "0e19fcc3",
   "metadata": {},
   "outputs": [
    {
     "name": "stderr",
     "output_type": "stream",
     "text": [
      "  0%|                                                                                                                          | 0/1 [00:00<?, ?it/s]\n",
      "100%|█████████████████████████████████████████████████████████████████████████████████████████████████████████████████| 2/2 [00:00<00:00, 142.83it/s]\u001b[A\n",
      "100%|██████████████████████████████████████████████████████████████████████████████████████████████████████████████████| 1/1 [00:00<00:00, 58.81it/s]\n"
     ]
    }
   ],
   "source": [
    "analysis = []\n",
    "for value in tqdm(values):\n",
    "    for req in tqdm(reqs):\n",
    "        for position in range(positions):\n",
    "            position_trades = t[(t[\"value\"]==value) & (t[\"req\"]==req) & (t[\"position\"]==position)].sort_values(\"date\")\n",
    "            position_trades[\"delta\"] = (position_trades[\"sell_price\"] - position_trades[\"close\"]) / position_trades[\"close\"]\n",
    "            initial = 100 / positions\n",
    "            for delta in position_trades[\"delta\"]:\n",
    "                initial = initial * (1+delta)\n",
    "            analysis.append({\n",
    "                \"value\":value,\n",
    "                \"req\":req,\n",
    "                \"position\":position,\n",
    "                \"pv\":initial\n",
    "            })"
   ]
  },
  {
   "cell_type": "code",
   "execution_count": 27,
   "id": "50fe4625",
   "metadata": {},
   "outputs": [],
   "source": [
    "complete = pd.DataFrame(analysis).pivot_table(index=[\"value\",\"req\"],columns=\"position\",values=\"pv\").reset_index()"
   ]
  },
  {
   "cell_type": "code",
   "execution_count": 28,
   "id": "ad4293a0",
   "metadata": {},
   "outputs": [],
   "source": [
    "complete[\"pv\"] = [sum([row[1][i] for i in range(5)]) for row in complete.iterrows()]"
   ]
  },
  {
   "cell_type": "code",
   "execution_count": 29,
   "id": "da313b8e",
   "metadata": {},
   "outputs": [
    {
     "data": {
      "text/html": [
       "<div>\n",
       "<style scoped>\n",
       "    .dataframe tbody tr th:only-of-type {\n",
       "        vertical-align: middle;\n",
       "    }\n",
       "\n",
       "    .dataframe tbody tr th {\n",
       "        vertical-align: top;\n",
       "    }\n",
       "\n",
       "    .dataframe thead th {\n",
       "        text-align: right;\n",
       "    }\n",
       "</style>\n",
       "<table border=\"1\" class=\"dataframe\">\n",
       "  <thead>\n",
       "    <tr style=\"text-align: right;\">\n",
       "      <th>position</th>\n",
       "      <th>value</th>\n",
       "      <th>req</th>\n",
       "      <th>0</th>\n",
       "      <th>1</th>\n",
       "      <th>2</th>\n",
       "      <th>3</th>\n",
       "      <th>4</th>\n",
       "      <th>pv</th>\n",
       "    </tr>\n",
       "  </thead>\n",
       "  <tbody>\n",
       "    <tr>\n",
       "      <th>0</th>\n",
       "      <td>True</td>\n",
       "      <td>1</td>\n",
       "      <td>2499.747713</td>\n",
       "      <td>45.625198</td>\n",
       "      <td>20.0</td>\n",
       "      <td>20.0</td>\n",
       "      <td>20.0</td>\n",
       "      <td>2605.372911</td>\n",
       "    </tr>\n",
       "    <tr>\n",
       "      <th>1</th>\n",
       "      <td>True</td>\n",
       "      <td>3</td>\n",
       "      <td>34.705322</td>\n",
       "      <td>20.000000</td>\n",
       "      <td>20.0</td>\n",
       "      <td>20.0</td>\n",
       "      <td>20.0</td>\n",
       "      <td>114.705322</td>\n",
       "    </tr>\n",
       "  </tbody>\n",
       "</table>\n",
       "</div>"
      ],
      "text/plain": [
       "position  value  req            0          1     2     3     4           pv\n",
       "0          True    1  2499.747713  45.625198  20.0  20.0  20.0  2605.372911\n",
       "1          True    3    34.705322  20.000000  20.0  20.0  20.0   114.705322"
      ]
     },
     "execution_count": 29,
     "metadata": {},
     "output_type": "execute_result"
    }
   ],
   "source": [
    "complete.sort_values(\"pv\",ascending=False)"
   ]
  },
  {
   "cell_type": "code",
   "execution_count": 36,
   "id": "f7761112",
   "metadata": {},
   "outputs": [
    {
     "data": {
      "text/plain": [
       "[<matplotlib.lines.Line2D at 0x1732b8785e0>]"
      ]
     },
     "execution_count": 36,
     "metadata": {},
     "output_type": "execute_result"
    },
    {
     "data": {
      "image/png": "[encoded data removed]",
      "text/plain": [
       "<Figure size 432x288 with 1 Axes>"
      ]
     },
     "metadata": {
      "needs_background": "light"
     },
     "output_type": "display_data"
    }
   ],
   "source": [
    "best_iteration = t[(t[\"value\"]==True) & (t[\"req\"]==1)].copy()\n",
    "pivoted = best_iteration.pivot_table(index=\"date\",columns=\"position\",values=\"delta\").fillna(0)\n",
    "for i in range(2):\n",
    "    pv = []\n",
    "    initial = 50\n",
    "    for delta in pivoted[i]:\n",
    "        initial = initial * (1+delta)\n",
    "        pv.append(initial)\n",
    "    pivoted[f\"pv_{i}\"] = pv\n",
    "pivoted[\"pv\"] = [sum([row[1][f\"pv_{i}\"] for i in range(2)]) for row in pivoted.iterrows()]\n",
    "pivoted.reset_index(inplace=True)\n",
    "window = pivoted[pivoted[\"date\"]>datetime(2020,1,1)]\n",
    "plt.plot(window[\"date\"],window[\"pv\"])"
   ]
  }
 ],
 "metadata": {
  "kernelspec": {
   "display_name": "Python 3 (ipykernel)",
   "language": "python",
   "name": "python3"
  },
  "language_info": {
   "codemirror_mode": {
    "name": "ipython",
    "version": 3
   },
   "file_extension": ".py",
   "mimetype": "text/x-python",
   "name": "python",
   "nbconvert_exporter": "python",
   "pygments_lexer": "ipython3",
   "version": "3.10.1"
  }
 },
 "nbformat": 4,
 "nbformat_minor": 5
}
