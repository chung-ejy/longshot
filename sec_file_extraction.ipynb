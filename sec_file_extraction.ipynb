{
 "cells": [
  {
   "cell_type": "code",
   "execution_count": 1,
   "metadata": {},
   "outputs": [],
   "source": [
    "from tqdm import tqdm\n",
    "from database.sec import SEC\n",
    "from transformer.sec_transformer import SECTransformer\n",
    "import pandas as pd\n",
    "from datetime import datetime"
   ]
  },
  {
   "cell_type": "code",
   "execution_count": 2,
   "metadata": {},
   "outputs": [],
   "source": [
    "sec = SEC()"
   ]
  },
  {
   "cell_type": "code",
   "execution_count": 3,
   "metadata": {},
   "outputs": [
    {
     "name": "stderr",
     "output_type": "stream",
     "text": [
      "  0%|                                                                                                                                             | 0/1 [00:00<?, ?it/s]C:\\Users\\ericj\\AppData\\Local\\Temp/ipykernel_11576/175360104.py:5: FutureWarning: The error_bad_lines argument has been deprecated and will be removed in a future version.\n",
      "\n",
      "\n",
      "  num = SECTransformer.transform(year,quarter,\"num\")\n",
      "C:\\Users\\ericj\\AppData\\Local\\Temp/ipykernel_11576/175360104.py:6: FutureWarning: The error_bad_lines argument has been deprecated and will be removed in a future version.\n",
      "\n",
      "\n",
      "  sub = SECTransformer.transform(year,quarter,\"sub\")\n"
     ]
    },
    {
     "name": "stdout",
     "output_type": "stream",
     "text": [
      "project_sec nums \n"
     ]
    },
    {
     "name": "stderr",
     "output_type": "stream",
     "text": [
      "100%|█████████████████████████████████████████████████████████████████████████████████████████████████████████████████████████████████████| 1/1 [00:50<00:00, 50.02s/it]\n"
     ]
    }
   ],
   "source": [
    "sec.connect()\n",
    "for year in tqdm(range(2021,2022)):\n",
    "    for quarter in range(3,4):\n",
    "        try:\n",
    "            num = SECTransformer.transform(year,quarter,\"num\")\n",
    "            sub = SECTransformer.transform(year,quarter,\"sub\")\n",
    "            sec.store(\"nums\",num)\n",
    "            sec.store(\"subs\",sub)\n",
    "        except Exception as e:\n",
    "            print(year,quarter,str(e))\n",
    "sec.disconnect()"
   ]
  }
 ],
 "metadata": {
  "kernelspec": {
   "display_name": "Python 3 (ipykernel)",
   "language": "python",
   "name": "python3"
  },
  "language_info": {
   "codemirror_mode": {
    "name": "ipython",
    "version": 3
   },
   "file_extension": ".py",
   "mimetype": "text/x-python",
   "name": "python",
   "nbconvert_exporter": "python",
   "pygments_lexer": "ipython3",
   "version": "3.9.6"
  }
 },
 "nbformat": 4,
 "nbformat_minor": 4
}
