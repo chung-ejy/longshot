{
 "cells": [
  {
   "cell_type": "code",
   "execution_count": 1,
   "id": "aa80f443",
   "metadata": {
    "scrolled": true
   },
   "outputs": [],
   "source": [
    "from product.stock_category import StockCategory\n",
    "from datetime import datetime, timedelta\n",
    "import pytz\n",
    "import pandas as pd\n",
    "from tqdm import tqdm\n",
    "import numpy as np"
   ]
  },
  {
   "cell_type": "markdown",
   "id": "3fa11e25",
   "metadata": {},
   "source": [
    "## Currently not modeling stock category due to low actual accuracy"
   ]
  },
  {
   "cell_type": "code",
   "execution_count": 2,
   "id": "b38d4176",
   "metadata": {
    "scrolled": true
   },
   "outputs": [
    {
     "name": "stderr",
     "output_type": "stream",
     "text": [
      "stock_category sim:  13%|████████████▊                                                                                     | 66/505 [00:06<00:38, 11.32it/s]"
     ]
    },
    {
     "name": "stdout",
     "output_type": "stream",
     "text": [
      "'date'\n"
     ]
    },
    {
     "name": "stderr",
     "output_type": "stream",
     "text": [
      "stock_category sim:  16%|███████████████▋                                                                                  | 81/505 [00:07<00:35, 11.81it/s]"
     ]
    },
    {
     "name": "stdout",
     "output_type": "stream",
     "text": [
      "'date'\n"
     ]
    },
    {
     "name": "stderr",
     "output_type": "stream",
     "text": [
      "stock_category sim: 100%|█████████████████████████████████████████████████████████████████████████████████████████████████| 505/505 [00:48<00:00, 10.42it/s]"
     ]
    },
    {
     "name": "stdout",
     "output_type": "stream",
     "text": [
      "'date'\n",
      "'date'\n",
      "'date'\n",
      "'date'\n"
     ]
    },
    {
     "name": "stderr",
     "output_type": "stream",
     "text": [
      "\n"
     ]
    }
   ],
   "source": [
    "params = {}\n",
    "product = StockCategory(params)\n",
    "product.subscribe()\n",
    "sim = product.create_sim()\n",
    "# product.load()\n",
    "# # product.transformed"
   ]
  },
  {
   "cell_type": "code",
   "execution_count": null,
   "id": "2371c512",
   "metadata": {},
   "outputs": [],
   "source": []
  },
  {
   "cell_type": "code",
   "execution_count": 3,
   "id": "8dd03001",
   "metadata": {},
   "outputs": [],
   "source": [
    "# ## ai code\n",
    "# year = 2018\n",
    "# params = {\"training_years\":4}\n",
    "# training_years = 5\n",
    "# transformed = product.initial_transform()\n",
    "# prediction_set = product.create_prediction_set(transformed,year,training_years,1)\n",
    "# training_set = product.create_training_set(transformed,year,training_years,1)"
   ]
  },
  {
   "cell_type": "code",
   "execution_count": null,
   "id": "bc8c3ced",
   "metadata": {
    "scrolled": false
   },
   "outputs": [],
   "source": []
  },
  {
   "cell_type": "code",
   "execution_count": null,
   "id": "492417be",
   "metadata": {},
   "outputs": [],
   "source": []
  }
 ],
 "metadata": {
  "kernelspec": {
   "display_name": "Python 3 (ipykernel)",
   "language": "python",
   "name": "python3"
  },
  "language_info": {
   "codemirror_mode": {
    "name": "ipython",
    "version": 3
   },
   "file_extension": ".py",
   "mimetype": "text/x-python",
   "name": "python",
   "nbconvert_exporter": "python",
   "pygments_lexer": "ipython3",
   "version": "3.10.0"
  }
 },
 "nbformat": 4,
 "nbformat_minor": 5
}
