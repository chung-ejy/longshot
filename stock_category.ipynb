{
 "cells": [
  {
   "cell_type": "code",
   "execution_count": 20,
   "id": "aa80f443",
   "metadata": {
    "scrolled": true
   },
   "outputs": [],
   "source": [
    "from product.stock_category import StockCategory\n",
    "from database.market import Market\n",
    "from database.sec import SEC\n",
    "from datetime import datetime, timedelta\n",
    "from processor.processor import Processor as p\n",
    "import pytz\n",
    "import pandas as pd\n",
    "from tqdm import tqdm\n",
    "import numpy as np\n",
    "from sklearn.decomposition import PCA\n",
    "from sklearn.cluster import KMeans"
   ]
  },
  {
   "cell_type": "code",
   "execution_count": 22,
   "id": "747955d2",
   "metadata": {},
   "outputs": [],
   "source": [
    "factors = ['AccumulatedOtherComprehensiveIncomeLossNetOfTax',\n",
    " 'Assets',\n",
    " 'AssetsCurrent',\n",
    " 'CashAndCashEquivalentsAtCarryingValue',\n",
    " 'EarningsPerShareBasic',\n",
    " 'EarningsPerShareDiluted',\n",
    " 'EntityCommonStockSharesOutstanding',\n",
    " 'Goodwill',\n",
    " 'IncomeTaxExpenseBenefit',\n",
    " 'LiabilitiesAndStockholdersEquity',\n",
    " 'LiabilitiesCurrent',\n",
    " 'OtherAssetsNoncurrent',\n",
    " 'PropertyPlantAndEquipmentNet',\n",
    " 'RetainedEarningsAccumulatedDeficit',\n",
    " 'filed',\n",
    " 'StockholdersEquity',\n",
    " 'NetIncomeLoss']"
   ]
  },
  {
   "cell_type": "code",
   "execution_count": 2,
   "id": "f6d63b8d",
   "metadata": {},
   "outputs": [],
   "source": [
    "market = Market()\n",
    "sec = SEC()"
   ]
  },
  {
   "cell_type": "markdown",
   "id": "3fa11e25",
   "metadata": {},
   "source": [
    "## Currently not modeling stock category due to low actual accuracy"
   ]
  },
  {
   "cell_type": "code",
   "execution_count": 17,
   "id": "b38d4176",
   "metadata": {
    "scrolled": true
   },
   "outputs": [],
   "source": [
    "params = {}\n",
    "product = StockCategory(params)\n",
    "product.subscribe()\n",
    "# sim = product.create_sim()\n",
    "# product.load()\n",
    "# # product.transformed"
   ]
  },
  {
   "cell_type": "code",
   "execution_count": 3,
   "id": "abd92acb",
   "metadata": {},
   "outputs": [],
   "source": [
    "market.connect()\n",
    "sp5 = market.retrieve(\"sp500\")\n",
    "market.disconnect()"
   ]
  },
  {
   "cell_type": "code",
   "execution_count": 11,
   "id": "707e3446",
   "metadata": {},
   "outputs": [],
   "source": [
    "centralized = ['assets',\n",
    " 'liabilitiesandstockholdersequity',\n",
    " 'netcashprovidedbyusedinfinancingactivities',\n",
    " 'netcashprovidedbyusedininvestingactivities',\"date\",\"ticker\"]"
   ]
  },
  {
   "cell_type": "code",
   "execution_count": 7,
   "id": "6e759217",
   "metadata": {},
   "outputs": [
    {
     "name": "stderr",
     "output_type": "stream",
     "text": [
      " 39%|████████████████▍                         | 197/505 [01:02<02:15,  2.28it/s]"
     ]
    },
    {
     "name": "stdout",
     "output_type": "stream",
     "text": [
      "FRC 'filed'\n"
     ]
    },
    {
     "name": "stderr",
     "output_type": "stream",
     "text": [
      " 83%|██████████████████████████████████▋       | 417/505 [02:09<00:36,  2.44it/s]"
     ]
    },
    {
     "name": "stdout",
     "output_type": "stream",
     "text": [
      "SBNY 'filed'\n"
     ]
    },
    {
     "name": "stderr",
     "output_type": "stream",
     "text": [
      "100%|██████████████████████████████████████████| 505/505 [02:36<00:00,  3.23it/s]\n"
     ]
    }
   ],
   "source": [
    "sec.connect()\n",
    "market.connect()\n",
    "ticker = \"MMM\"\n",
    "cik = sp5[sp5[\"Symbol\"]==ticker][\"CIK\"].item()\n",
    "filing = sec.retrieve_filing_data(cik)\n",
    "filing[\"ticker\"] = ticker\n",
    "filing[\"date\"] = [datetime.strptime(str(x),\"%Y%m%d\") for x in filing[\"filed\"]]\n",
    "filing = p.column_date_processing(filing)\n",
    "centralized = [x[:-1] if x[-1] == \"s\" else x for x in list(filing.columns)]\n",
    "for ticker in tqdm(sp5[\"Symbol\"]):\n",
    "    try:\n",
    "        cik = sp5[sp5[\"Symbol\"]==ticker][\"CIK\"].item()\n",
    "        filing = sec.retrieve_filing_data(cik)\n",
    "        filing[\"ticker\"] = ticker\n",
    "        filing[\"date\"] = [datetime.strptime(str(x),\"%Y%m%d\") for x in filing[\"filed\"]]\n",
    "        filing = p.column_date_processing(filing)\n",
    "        current_columns = [x[:-1] if x[-1] == \"s\" else x for x in list(filing.columns)]\n",
    "        if filing.index.size > 40:\n",
    "            initial = [x for x in current_columns if x in centralized]\n",
    "            centralized = [x for x in centralized if x in initial]\n",
    "    except Exception as e:\n",
    "        print(ticker, str(e))\n",
    "sec.disconnect()\n",
    "market.disconnect()"
   ]
  },
  {
   "cell_type": "code",
   "execution_count": 36,
   "id": "bc29d399",
   "metadata": {},
   "outputs": [
    {
     "name": "stderr",
     "output_type": "stream",
     "text": [
      " 39%|████████████████▍                         | 197/505 [01:02<02:14,  2.28it/s]"
     ]
    },
    {
     "name": "stdout",
     "output_type": "stream",
     "text": [
      "FRC 'filed'\n"
     ]
    },
    {
     "name": "stderr",
     "output_type": "stream",
     "text": [
      " 83%|██████████████████████████████████▋       | 417/505 [02:10<00:35,  2.45it/s]"
     ]
    },
    {
     "name": "stdout",
     "output_type": "stream",
     "text": [
      "SBNY 'filed'\n"
     ]
    },
    {
     "name": "stderr",
     "output_type": "stream",
     "text": [
      "100%|██████████████████████████████████████████| 505/505 [02:36<00:00,  3.23it/s]\n"
     ]
    }
   ],
   "source": [
    "sec.connect()\n",
    "market.connect()\n",
    "for ticker in tqdm(sp5[\"Symbol\"].unique()):\n",
    "    try:\n",
    "        cik = sp5[sp5[\"Symbol\"]==ticker][\"CIK\"].item()\n",
    "        filing = sec.retrieve_filing_data(cik)\n",
    "        filing[\"ticker\"] = ticker\n",
    "        filing[\"date\"] = [datetime.strptime(str(x),\"%Y%m%d\") for x in filing[\"filed\"]]\n",
    "        filing = p.column_date_processing(filing)\n",
    "        if filing.index.size > 40:\n",
    "            market.store(\"unified_financials\",filing[centralized].fillna(method=\"ffill\"))\n",
    "    except Exception as e:\n",
    "        print(ticker, str(e))\n",
    "sec.disconnect()\n",
    "market.disconnect()"
   ]
  },
  {
   "cell_type": "code",
   "execution_count": 37,
   "id": "7b862697",
   "metadata": {},
   "outputs": [],
   "source": [
    "market.connect()\n",
    "data = market.retrieve(\"unified_financials\")\n",
    "market.disconnect()"
   ]
  },
  {
   "cell_type": "code",
   "execution_count": 38,
   "id": "6ad12496",
   "metadata": {},
   "outputs": [],
   "source": [
    "data[\"year\"] = [x.year for x in data[\"date\"]]\n",
    "data[\"quarter\"] = [x.quarter for x in data[\"date\"]]"
   ]
  },
  {
   "cell_type": "code",
   "execution_count": 39,
   "id": "1b4086bd",
   "metadata": {},
   "outputs": [
    {
     "data": {
      "text/html": [
       "<div>\n",
       "<style scoped>\n",
       "    .dataframe tbody tr th:only-of-type {\n",
       "        vertical-align: middle;\n",
       "    }\n",
       "\n",
       "    .dataframe tbody tr th {\n",
       "        vertical-align: top;\n",
       "    }\n",
       "\n",
       "    .dataframe thead th {\n",
       "        text-align: right;\n",
       "    }\n",
       "</style>\n",
       "<table border=\"1\" class=\"dataframe\">\n",
       "  <thead>\n",
       "    <tr style=\"text-align: right;\">\n",
       "      <th></th>\n",
       "      <th>assets</th>\n",
       "      <th>liabilitiesandstockholdersequity</th>\n",
       "      <th>netcashprovidedbyusedinfinancingactivities</th>\n",
       "      <th>netcashprovidedbyusedininvestingactivities</th>\n",
       "      <th>date</th>\n",
       "      <th>ticker</th>\n",
       "      <th>year</th>\n",
       "      <th>quarter</th>\n",
       "    </tr>\n",
       "  </thead>\n",
       "  <tbody>\n",
       "    <tr>\n",
       "      <th>0</th>\n",
       "      <td>2.594400e+10</td>\n",
       "      <td>2.594400e+10</td>\n",
       "      <td>-1.122000e+09</td>\n",
       "      <td>-9.210000e+08</td>\n",
       "      <td>2009-07-31</td>\n",
       "      <td>MMM</td>\n",
       "      <td>2009</td>\n",
       "      <td>3</td>\n",
       "    </tr>\n",
       "    <tr>\n",
       "      <th>1</th>\n",
       "      <td>2.594400e+10</td>\n",
       "      <td>2.594400e+10</td>\n",
       "      <td>-1.122000e+09</td>\n",
       "      <td>-9.210000e+08</td>\n",
       "      <td>2009-07-31</td>\n",
       "      <td>MMM</td>\n",
       "      <td>2009</td>\n",
       "      <td>3</td>\n",
       "    </tr>\n",
       "    <tr>\n",
       "      <th>2</th>\n",
       "      <td>2.652150e+10</td>\n",
       "      <td>2.652150e+10</td>\n",
       "      <td>-2.099333e+09</td>\n",
       "      <td>-1.832667e+09</td>\n",
       "      <td>2010-02-16</td>\n",
       "      <td>MMM</td>\n",
       "      <td>2010</td>\n",
       "      <td>1</td>\n",
       "    </tr>\n",
       "    <tr>\n",
       "      <th>3</th>\n",
       "      <td>2.652150e+10</td>\n",
       "      <td>2.652150e+10</td>\n",
       "      <td>-2.099333e+09</td>\n",
       "      <td>-1.832667e+09</td>\n",
       "      <td>2010-02-16</td>\n",
       "      <td>MMM</td>\n",
       "      <td>2010</td>\n",
       "      <td>1</td>\n",
       "    </tr>\n",
       "    <tr>\n",
       "      <th>4</th>\n",
       "      <td>2.763600e+10</td>\n",
       "      <td>2.763600e+10</td>\n",
       "      <td>-5.910000e+08</td>\n",
       "      <td>-5.025000e+08</td>\n",
       "      <td>2010-05-05</td>\n",
       "      <td>MMM</td>\n",
       "      <td>2010</td>\n",
       "      <td>2</td>\n",
       "    </tr>\n",
       "    <tr>\n",
       "      <th>...</th>\n",
       "      <td>...</td>\n",
       "      <td>...</td>\n",
       "      <td>...</td>\n",
       "      <td>...</td>\n",
       "      <td>...</td>\n",
       "      <td>...</td>\n",
       "      <td>...</td>\n",
       "      <td>...</td>\n",
       "    </tr>\n",
       "    <tr>\n",
       "      <th>22505</th>\n",
       "      <td>7.280950e+10</td>\n",
       "      <td>7.280950e+10</td>\n",
       "      <td>3.593500e+09</td>\n",
       "      <td>-4.008000e+09</td>\n",
       "      <td>2020-08-05</td>\n",
       "      <td>ZION</td>\n",
       "      <td>2020</td>\n",
       "      <td>3</td>\n",
       "    </tr>\n",
       "    <tr>\n",
       "      <th>22506</th>\n",
       "      <td>7.376450e+10</td>\n",
       "      <td>7.376450e+10</td>\n",
       "      <td>4.471500e+09</td>\n",
       "      <td>-4.892000e+09</td>\n",
       "      <td>2020-11-04</td>\n",
       "      <td>ZION</td>\n",
       "      <td>2020</td>\n",
       "      <td>4</td>\n",
       "    </tr>\n",
       "    <tr>\n",
       "      <th>22507</th>\n",
       "      <td>7.532550e+10</td>\n",
       "      <td>7.532550e+10</td>\n",
       "      <td>3.979333e+09</td>\n",
       "      <td>-4.845000e+09</td>\n",
       "      <td>2021-02-25</td>\n",
       "      <td>ZION</td>\n",
       "      <td>2021</td>\n",
       "      <td>1</td>\n",
       "    </tr>\n",
       "    <tr>\n",
       "      <th>22508</th>\n",
       "      <td>8.330000e+10</td>\n",
       "      <td>8.330000e+10</td>\n",
       "      <td>2.772000e+09</td>\n",
       "      <td>-3.061500e+09</td>\n",
       "      <td>2021-05-06</td>\n",
       "      <td>ZION</td>\n",
       "      <td>2021</td>\n",
       "      <td>2</td>\n",
       "    </tr>\n",
       "    <tr>\n",
       "      <th>22509</th>\n",
       "      <td>8.434350e+10</td>\n",
       "      <td>8.434350e+10</td>\n",
       "      <td>5.995000e+09</td>\n",
       "      <td>-6.412000e+09</td>\n",
       "      <td>2021-08-05</td>\n",
       "      <td>ZION</td>\n",
       "      <td>2021</td>\n",
       "      <td>3</td>\n",
       "    </tr>\n",
       "  </tbody>\n",
       "</table>\n",
       "<p>22510 rows × 8 columns</p>\n",
       "</div>"
      ],
      "text/plain": [
       "             assets  liabilitiesandstockholdersequity  \\\n",
       "0      2.594400e+10                      2.594400e+10   \n",
       "1      2.594400e+10                      2.594400e+10   \n",
       "2      2.652150e+10                      2.652150e+10   \n",
       "3      2.652150e+10                      2.652150e+10   \n",
       "4      2.763600e+10                      2.763600e+10   \n",
       "...             ...                               ...   \n",
       "22505  7.280950e+10                      7.280950e+10   \n",
       "22506  7.376450e+10                      7.376450e+10   \n",
       "22507  7.532550e+10                      7.532550e+10   \n",
       "22508  8.330000e+10                      8.330000e+10   \n",
       "22509  8.434350e+10                      8.434350e+10   \n",
       "\n",
       "       netcashprovidedbyusedinfinancingactivities  \\\n",
       "0                                   -1.122000e+09   \n",
       "1                                   -1.122000e+09   \n",
       "2                                   -2.099333e+09   \n",
       "3                                   -2.099333e+09   \n",
       "4                                   -5.910000e+08   \n",
       "...                                           ...   \n",
       "22505                                3.593500e+09   \n",
       "22506                                4.471500e+09   \n",
       "22507                                3.979333e+09   \n",
       "22508                                2.772000e+09   \n",
       "22509                                5.995000e+09   \n",
       "\n",
       "       netcashprovidedbyusedininvestingactivities       date ticker  year  \\\n",
       "0                                   -9.210000e+08 2009-07-31    MMM  2009   \n",
       "1                                   -9.210000e+08 2009-07-31    MMM  2009   \n",
       "2                                   -1.832667e+09 2010-02-16    MMM  2010   \n",
       "3                                   -1.832667e+09 2010-02-16    MMM  2010   \n",
       "4                                   -5.025000e+08 2010-05-05    MMM  2010   \n",
       "...                                           ...        ...    ...   ...   \n",
       "22505                               -4.008000e+09 2020-08-05   ZION  2020   \n",
       "22506                               -4.892000e+09 2020-11-04   ZION  2020   \n",
       "22507                               -4.845000e+09 2021-02-25   ZION  2021   \n",
       "22508                               -3.061500e+09 2021-05-06   ZION  2021   \n",
       "22509                               -6.412000e+09 2021-08-05   ZION  2021   \n",
       "\n",
       "       quarter  \n",
       "0            3  \n",
       "1            3  \n",
       "2            1  \n",
       "3            1  \n",
       "4            2  \n",
       "...        ...  \n",
       "22505        3  \n",
       "22506        4  \n",
       "22507        1  \n",
       "22508        2  \n",
       "22509        3  \n",
       "\n",
       "[22510 rows x 8 columns]"
      ]
     },
     "execution_count": 39,
     "metadata": {},
     "output_type": "execute_result"
    }
   ],
   "source": [
    "data"
   ]
  },
  {
   "cell_type": "code",
   "execution_count": 48,
   "id": "2371c512",
   "metadata": {},
   "outputs": [
    {
     "name": "stderr",
     "output_type": "stream",
     "text": [
      "100%|██████████████████████████████████████████████| 8/8 [00:00<00:00, 10.45it/s]\n"
     ]
    }
   ],
   "source": [
    "start = data[\"year\"].min()\n",
    "end = data[\"year\"].max()\n",
    "training_years = 4\n",
    "product.db.connect()\n",
    "the_cats = []\n",
    "for year in tqdm(range(2014,2022)):\n",
    "    try:\n",
    "#         pca_model = PCA(n_components=3)\n",
    "#         pca_model.fit(test_set)\n",
    "#         new_set = pca_model.transform(test_set)\n",
    "#         visuals = pd.DataFrame(new_set,columns=[\"pca1\",\"pca2\",\"pca3\"])\n",
    "        training_set = data[(data[\"year\"] < year) & (data[\"year\"] > year - training_years)].copy().dropna()\n",
    "        prediction_set = data[(data[\"year\"]==year)].copy().dropna()\n",
    "        non_relevant = [\"date\",\"quarter\",\"ticker\",\"year\",\"training_years\"]\n",
    "        factors = [x for x in training_set.columns if x not in non_relevant]\n",
    "        kmeans = KMeans(n_clusters=10,random_state=42).fit(training_set[factors])\n",
    "        cats = kmeans.predict(prediction_set[factors])\n",
    "        prediction_set[\"4_classification\"] = cats\n",
    "        the_cats.append(prediction_set[['year','quarter','ticker','4_classification']])\n",
    "    except Exception as e:\n",
    "        print(str(e))\n",
    "product.db.disconnect()"
   ]
  },
  {
   "cell_type": "code",
   "execution_count": 50,
   "id": "80e44497",
   "metadata": {},
   "outputs": [],
   "source": [
    "stuff = pd.concat(the_cats)\n",
    "product.db.connect()\n",
    "sim = product.db.retrieve(\"sim\")\n",
    "product.db.disconnect()"
   ]
  },
  {
   "cell_type": "code",
   "execution_count": 51,
   "id": "d843811a",
   "metadata": {},
   "outputs": [],
   "source": [
    "new_sim = sim.merge(stuff,how=\"left\",on=[\"year\",\"quarter\",\"ticker\"])"
   ]
  },
  {
   "cell_type": "code",
   "execution_count": 53,
   "id": "0262767d",
   "metadata": {},
   "outputs": [],
   "source": [
    "product.db.connect()\n",
    "product.db.store(\"sim\",new_sim)\n",
    "product.db.disconnect()"
   ]
  }
 ],
 "metadata": {
  "kernelspec": {
   "display_name": "Python 3 (ipykernel)",
   "language": "python",
   "name": "python3"
  },
  "language_info": {
   "codemirror_mode": {
    "name": "ipython",
    "version": 3
   },
   "file_extension": ".py",
   "mimetype": "text/x-python",
   "name": "python",
   "nbconvert_exporter": "python",
   "pygments_lexer": "ipython3",
   "version": "3.10.1"
  }
 },
 "nbformat": 4,
 "nbformat_minor": 5
}
