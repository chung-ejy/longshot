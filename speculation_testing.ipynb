{
 "cells": [
  {
   "cell_type": "code",
   "execution_count": 1,
   "id": "aa80f443",
   "metadata": {
    "scrolled": true
   },
   "outputs": [],
   "source": [
    "from strategy.speculation import Speculation\n",
    "from datetime import datetime, timedelta\n",
    "import pytz\n",
    "import pandas as pd\n",
    "from tqdm import tqdm\n",
    "from modeler.modeler import Modeler as m\n",
    "from processor.processor import Processor as p"
   ]
  },
  {
   "cell_type": "code",
   "execution_count": 2,
   "id": "b38d4176",
   "metadata": {
    "scrolled": true
   },
   "outputs": [],
   "source": [
    "start_date = datetime(2015,1,1)\n",
    "end_date = datetime(2021,1,1)\n",
    "spec = Speculation(start_date,end_date)"
   ]
  },
  {
   "cell_type": "code",
   "execution_count": 3,
   "id": "5cfc636a",
   "metadata": {},
   "outputs": [],
   "source": [
    "spec.subscribe()"
   ]
  },
  {
   "cell_type": "code",
   "execution_count": 4,
   "id": "55e856af",
   "metadata": {},
   "outputs": [
    {
     "data": {
      "text/plain": [
       "{'market': {'db': <database.market.Market at 0x256ffca38b0>},\n",
       " 'stock_category': {'db': <database.product.Product at 0x256ffca36d0>}}"
      ]
     },
     "execution_count": 4,
     "metadata": {},
     "output_type": "execute_result"
    }
   ],
   "source": [
    "spec.subscriptions"
   ]
  },
  {
   "cell_type": "code",
   "execution_count": 5,
   "id": "aae8fe7e",
   "metadata": {},
   "outputs": [
    {
     "data": {
      "text/plain": [
       "<database.strategy.Strategy at 0x256ffca1c90>"
      ]
     },
     "execution_count": 5,
     "metadata": {},
     "output_type": "execute_result"
    }
   ],
   "source": [
    "spec.db"
   ]
  },
  {
   "cell_type": "code",
   "execution_count": 6,
   "id": "687f556c",
   "metadata": {
    "scrolled": true
   },
   "outputs": [],
   "source": [
    "transformed = spec.initial_transform()"
   ]
  },
  {
   "cell_type": "code",
   "execution_count": 7,
   "id": "2e996bf8",
   "metadata": {
    "scrolled": true
   },
   "outputs": [],
   "source": [
    "sim = spec.create_sim()"
   ]
  },
  {
   "cell_type": "code",
   "execution_count": 9,
   "id": "756f15fc",
   "metadata": {},
   "outputs": [
    {
     "data": {
      "text/html": [
       "<div>\n",
       "<style scoped>\n",
       "    .dataframe tbody tr th:only-of-type {\n",
       "        vertical-align: middle;\n",
       "    }\n",
       "\n",
       "    .dataframe tbody tr th {\n",
       "        vertical-align: top;\n",
       "    }\n",
       "\n",
       "    .dataframe thead th {\n",
       "        text-align: right;\n",
       "    }\n",
       "</style>\n",
       "<table border=\"1\" class=\"dataframe\">\n",
       "  <thead>\n",
       "    <tr style=\"text-align: right;\">\n",
       "      <th></th>\n",
       "      <th>date</th>\n",
       "      <th>ticker</th>\n",
       "      <th>adjclose</th>\n",
       "      <th>delta</th>\n",
       "      <th>score</th>\n",
       "      <th>timeframe</th>\n",
       "      <th>score_requirement</th>\n",
       "      <th>requirement</th>\n",
       "      <th>category_training_year</th>\n",
       "      <th>model_training_year</th>\n",
       "      <th>number_of_training_weeks</th>\n",
       "      <th>value</th>\n",
       "    </tr>\n",
       "  </thead>\n",
       "  <tbody>\n",
       "    <tr>\n",
       "      <th>0</th>\n",
       "      <td>2015-01-02</td>\n",
       "      <td>AAPL</td>\n",
       "      <td>24.779987</td>\n",
       "      <td>0.011755</td>\n",
       "      <td>0.994496</td>\n",
       "      <td>weekly</td>\n",
       "      <td>70</td>\n",
       "      <td>5</td>\n",
       "      <td>4</td>\n",
       "      <td>1</td>\n",
       "      <td>14</td>\n",
       "      <td>True</td>\n",
       "    </tr>\n",
       "    <tr>\n",
       "      <th>1</th>\n",
       "      <td>2015-01-05</td>\n",
       "      <td>AAPL</td>\n",
       "      <td>24.081896</td>\n",
       "      <td>0.035121</td>\n",
       "      <td>0.994496</td>\n",
       "      <td>weekly</td>\n",
       "      <td>70</td>\n",
       "      <td>5</td>\n",
       "      <td>4</td>\n",
       "      <td>1</td>\n",
       "      <td>14</td>\n",
       "      <td>True</td>\n",
       "    </tr>\n",
       "    <tr>\n",
       "      <th>2</th>\n",
       "      <td>2015-01-06</td>\n",
       "      <td>AAPL</td>\n",
       "      <td>24.084162</td>\n",
       "      <td>0.035023</td>\n",
       "      <td>0.994496</td>\n",
       "      <td>weekly</td>\n",
       "      <td>70</td>\n",
       "      <td>5</td>\n",
       "      <td>4</td>\n",
       "      <td>1</td>\n",
       "      <td>14</td>\n",
       "      <td>True</td>\n",
       "    </tr>\n",
       "    <tr>\n",
       "      <th>3</th>\n",
       "      <td>2015-01-07</td>\n",
       "      <td>AAPL</td>\n",
       "      <td>24.421875</td>\n",
       "      <td>0.020711</td>\n",
       "      <td>0.994496</td>\n",
       "      <td>weekly</td>\n",
       "      <td>70</td>\n",
       "      <td>5</td>\n",
       "      <td>4</td>\n",
       "      <td>1</td>\n",
       "      <td>14</td>\n",
       "      <td>True</td>\n",
       "    </tr>\n",
       "    <tr>\n",
       "      <th>4</th>\n",
       "      <td>2015-01-08</td>\n",
       "      <td>AAPL</td>\n",
       "      <td>25.360219</td>\n",
       "      <td>-0.017056</td>\n",
       "      <td>0.994496</td>\n",
       "      <td>weekly</td>\n",
       "      <td>70</td>\n",
       "      <td>5</td>\n",
       "      <td>4</td>\n",
       "      <td>1</td>\n",
       "      <td>14</td>\n",
       "      <td>True</td>\n",
       "    </tr>\n",
       "    <tr>\n",
       "      <th>...</th>\n",
       "      <td>...</td>\n",
       "      <td>...</td>\n",
       "      <td>...</td>\n",
       "      <td>...</td>\n",
       "      <td>...</td>\n",
       "      <td>...</td>\n",
       "      <td>...</td>\n",
       "      <td>...</td>\n",
       "      <td>...</td>\n",
       "      <td>...</td>\n",
       "      <td>...</td>\n",
       "      <td>...</td>\n",
       "    </tr>\n",
       "    <tr>\n",
       "      <th>77257</th>\n",
       "      <td>2020-12-24</td>\n",
       "      <td>MA</td>\n",
       "      <td>334.789604</td>\n",
       "      <td>-0.021497</td>\n",
       "      <td>0.968322</td>\n",
       "      <td>weekly</td>\n",
       "      <td>70</td>\n",
       "      <td>5</td>\n",
       "      <td>4</td>\n",
       "      <td>1</td>\n",
       "      <td>14</td>\n",
       "      <td>True</td>\n",
       "    </tr>\n",
       "    <tr>\n",
       "      <th>77258</th>\n",
       "      <td>2020-12-28</td>\n",
       "      <td>MA</td>\n",
       "      <td>343.229092</td>\n",
       "      <td>0.023767</td>\n",
       "      <td>0.968322</td>\n",
       "      <td>weekly</td>\n",
       "      <td>70</td>\n",
       "      <td>5</td>\n",
       "      <td>4</td>\n",
       "      <td>1</td>\n",
       "      <td>14</td>\n",
       "      <td>True</td>\n",
       "    </tr>\n",
       "    <tr>\n",
       "      <th>77259</th>\n",
       "      <td>2020-12-29</td>\n",
       "      <td>MA</td>\n",
       "      <td>345.411203</td>\n",
       "      <td>0.017300</td>\n",
       "      <td>0.968322</td>\n",
       "      <td>weekly</td>\n",
       "      <td>70</td>\n",
       "      <td>5</td>\n",
       "      <td>4</td>\n",
       "      <td>1</td>\n",
       "      <td>14</td>\n",
       "      <td>True</td>\n",
       "    </tr>\n",
       "    <tr>\n",
       "      <th>77260</th>\n",
       "      <td>2020-12-30</td>\n",
       "      <td>MA</td>\n",
       "      <td>354.269178</td>\n",
       "      <td>-0.008136</td>\n",
       "      <td>0.968322</td>\n",
       "      <td>weekly</td>\n",
       "      <td>70</td>\n",
       "      <td>5</td>\n",
       "      <td>4</td>\n",
       "      <td>1</td>\n",
       "      <td>14</td>\n",
       "      <td>True</td>\n",
       "    </tr>\n",
       "    <tr>\n",
       "      <th>77261</th>\n",
       "      <td>2020-12-31</td>\n",
       "      <td>MA</td>\n",
       "      <td>355.654170</td>\n",
       "      <td>-0.011999</td>\n",
       "      <td>0.968322</td>\n",
       "      <td>weekly</td>\n",
       "      <td>70</td>\n",
       "      <td>5</td>\n",
       "      <td>4</td>\n",
       "      <td>1</td>\n",
       "      <td>14</td>\n",
       "      <td>True</td>\n",
       "    </tr>\n",
       "  </tbody>\n",
       "</table>\n",
       "<p>77262 rows × 12 columns</p>\n",
       "</div>"
      ],
      "text/plain": [
       "            date ticker    adjclose     delta     score timeframe  \\\n",
       "0     2015-01-02   AAPL   24.779987  0.011755  0.994496    weekly   \n",
       "1     2015-01-05   AAPL   24.081896  0.035121  0.994496    weekly   \n",
       "2     2015-01-06   AAPL   24.084162  0.035023  0.994496    weekly   \n",
       "3     2015-01-07   AAPL   24.421875  0.020711  0.994496    weekly   \n",
       "4     2015-01-08   AAPL   25.360219 -0.017056  0.994496    weekly   \n",
       "...          ...    ...         ...       ...       ...       ...   \n",
       "77257 2020-12-24     MA  334.789604 -0.021497  0.968322    weekly   \n",
       "77258 2020-12-28     MA  343.229092  0.023767  0.968322    weekly   \n",
       "77259 2020-12-29     MA  345.411203  0.017300  0.968322    weekly   \n",
       "77260 2020-12-30     MA  354.269178 -0.008136  0.968322    weekly   \n",
       "77261 2020-12-31     MA  355.654170 -0.011999  0.968322    weekly   \n",
       "\n",
       "       score_requirement  requirement  category_training_year  \\\n",
       "0                     70            5                       4   \n",
       "1                     70            5                       4   \n",
       "2                     70            5                       4   \n",
       "3                     70            5                       4   \n",
       "4                     70            5                       4   \n",
       "...                  ...          ...                     ...   \n",
       "77257                 70            5                       4   \n",
       "77258                 70            5                       4   \n",
       "77259                 70            5                       4   \n",
       "77260                 70            5                       4   \n",
       "77261                 70            5                       4   \n",
       "\n",
       "       model_training_year  number_of_training_weeks  value  \n",
       "0                        1                        14   True  \n",
       "1                        1                        14   True  \n",
       "2                        1                        14   True  \n",
       "3                        1                        14   True  \n",
       "4                        1                        14   True  \n",
       "...                    ...                       ...    ...  \n",
       "77257                    1                        14   True  \n",
       "77258                    1                        14   True  \n",
       "77259                    1                        14   True  \n",
       "77260                    1                        14   True  \n",
       "77261                    1                        14   True  \n",
       "\n",
       "[77262 rows x 12 columns]"
      ]
     },
     "execution_count": 9,
     "metadata": {},
     "output_type": "execute_result"
    }
   ],
   "source": [
    "sim"
   ]
  },
  {
   "cell_type": "code",
   "execution_count": 8,
   "id": "f6440034",
   "metadata": {},
   "outputs": [
    {
     "data": {
      "text/plain": [
       "4.1706288615140254e+30"
      ]
     },
     "execution_count": 8,
     "metadata": {},
     "output_type": "execute_result"
    }
   ],
   "source": [
    "sim[\"delta\"].mean()"
   ]
  }
 ],
 "metadata": {
  "kernelspec": {
   "display_name": "Python 3 (ipykernel)",
   "language": "python",
   "name": "python3"
  },
  "language_info": {
   "codemirror_mode": {
    "name": "ipython",
    "version": 3
   },
   "file_extension": ".py",
   "mimetype": "text/x-python",
   "name": "python",
   "nbconvert_exporter": "python",
   "pygments_lexer": "ipython3",
   "version": "3.10.0"
  }
 },
 "nbformat": 4,
 "nbformat_minor": 5
}
