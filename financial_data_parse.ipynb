{
 "cells": [
  {
   "cell_type": "code",
   "execution_count": 1,
   "id": "aa80f443",
   "metadata": {
    "scrolled": true
   },
   "outputs": [],
   "source": [
    "from database.market import Market\n",
    "from database.sec import SEC\n",
    "from database.adatabase import ADatabase\n",
    "from modeler.modeler import Modeler as m\n",
    "from processor.processor import Processor as p\n",
    "from datetime import datetime, timedelta\n",
    "import pytz\n",
    "import pandas as pd\n",
    "from tqdm import tqdm\n",
    "import matplotlib.pyplot as plt\n",
    "import numpy as np\n",
    "import pickle"
   ]
  },
  {
   "cell_type": "code",
   "execution_count": 2,
   "id": "b38d4176",
   "metadata": {
    "scrolled": true
   },
   "outputs": [],
   "source": [
    "market = Market()\n",
    "sec = SEC()"
   ]
  },
  {
   "cell_type": "code",
   "execution_count": 3,
   "id": "5cfc636a",
   "metadata": {},
   "outputs": [],
   "source": [
    "market.connect()\n",
    "sp5 = market.retrieve(\"sp500\")\n",
    "market.disconnect()"
   ]
  },
  {
   "cell_type": "code",
   "execution_count": 4,
   "id": "bb6ee718",
   "metadata": {},
   "outputs": [
    {
     "name": "stderr",
     "output_type": "stream",
     "text": [
      " 39%|██████████████████████████████████████████████████████████▉                                                                                            | 197/505 [01:04<02:18,  2.22it/s]"
     ]
    },
    {
     "name": "stdout",
     "output_type": "stream",
     "text": [
      "FRC 'date'\n"
     ]
    },
    {
     "name": "stderr",
     "output_type": "stream",
     "text": [
      " 83%|████████████████████████████████████████████████████████████████████████████████████████████████████████████████████████████▋                          | 417/505 [02:15<00:37,  2.33it/s]"
     ]
    },
    {
     "name": "stdout",
     "output_type": "stream",
     "text": [
      "SBNY 'date'\n"
     ]
    },
    {
     "name": "stderr",
     "output_type": "stream",
     "text": [
      "100%|███████████████████████████████████████████████████████████████████████████████████████████████████████████████████████████████████████████████████████| 505/505 [02:42<00:00,  3.11it/s]\n"
     ]
    }
   ],
   "source": [
    "sec.connect()\n",
    "training_data = []\n",
    "training_columns = {}\n",
    "for ticker in tqdm(list(sp5[\"Symbol\"].unique())):\n",
    "    try:\n",
    "        cik = sp5[sp5[\"Symbol\"]==ticker][\"CIK\"].item()\n",
    "        filing = sec.retrieve_filing_data(cik)\n",
    "        ticker_financials = filing.rename(columns={\"filed\":\"date\"})\n",
    "        ticker_financials[\"date\"] = [datetime.strptime(str(x),\"%Y%m%d\") for x in ticker_financials[\"date\"]]\n",
    "        ticker_financials[\"year\"] = [x.year for x in ticker_financials[\"date\"]]\n",
    "        ticker_financials[\"quarter\"] = [x.quarter for x in ticker_financials[\"date\"]]\n",
    "        ticker_financials = p.column_date_processing(ticker_financials)\n",
    "        for col in ticker_financials.columns:\n",
    "            if col in training_columns.keys():\n",
    "                training_columns[col] += 1\n",
    "            else:\n",
    "                training_columns[col] = 1\n",
    "        ticker_financials[\"ticker\"] = ticker\n",
    "    except Exception as e:\n",
    "        print(ticker,str(e))\n",
    "sec.disconnect()"
   ]
  },
  {
   "cell_type": "code",
   "execution_count": 5,
   "id": "9fc887bc",
   "metadata": {},
   "outputs": [],
   "source": [
    "unrequired = ['adsh',\n",
    " 'cik',\n",
    " 'name',\n",
    " 'sic',\n",
    " 'countryba',\n",
    " 'stprba',\n",
    " 'cityba',\n",
    " 'zipba',\n",
    " 'bas1',\n",
    " 'bas2',\n",
    " 'baph',\n",
    " 'countryma',\n",
    " 'stprma',\n",
    " 'cityma',\n",
    " 'zipma',\n",
    " 'mas1',\n",
    " 'mas2',\n",
    " 'countryinc',\n",
    " 'stprinc',\n",
    " 'ein',\n",
    " 'former',\n",
    " 'changed',\n",
    " 'afs',\n",
    " 'wksi',\n",
    " 'fye',\n",
    " 'form',\n",
    " 'period',\n",
    " 'fy',\n",
    " 'fp',\n",
    " 'date',\n",
    " 'accepted',\n",
    " 'prevrpt',\n",
    " 'detail',\n",
    " 'instance',\n",
    " 'nciks',\n",
    " 'aciks']"
   ]
  },
  {
   "cell_type": "code",
   "execution_count": 10,
   "id": "4ff3438e",
   "metadata": {},
   "outputs": [],
   "source": [
    "factors = [x for x in training_columns if x not in unrequired and training_columns[x] >= 475]"
   ]
  },
  {
   "cell_type": "code",
   "execution_count": 11,
   "id": "46147687",
   "metadata": {},
   "outputs": [
    {
     "data": {
      "text/plain": [
       "['accumulatedothercomprehensiveincomelossnetoftax',\n",
       " 'assets',\n",
       " 'cashandcashequivalentsatcarryingvalue',\n",
       " 'cashandcashequivalentsperiodincreasedecrease',\n",
       " 'deferredincometaxexpensebenefit',\n",
       " 'earningspersharebasic',\n",
       " 'earningspersharediluted',\n",
       " 'entitycommonstocksharesoutstanding',\n",
       " 'entitypublicfloat',\n",
       " 'incometaxexpensebenefit',\n",
       " 'liabilitiesandstockholdersequity',\n",
       " 'netcashprovidedbyusedinfinancingactivities',\n",
       " 'netcashprovidedbyusedininvestingactivities',\n",
       " 'netcashprovidedbyusedinoperatingactivities',\n",
       " 'netincomeloss',\n",
       " 'propertyplantandequipmentnet',\n",
       " 'retainedearningsaccumulateddeficit',\n",
       " 'stockholdersequity',\n",
       " 'weightedaveragenumberofdilutedsharesoutstanding',\n",
       " 'weightedaveragenumberofsharesoutstandingbasic',\n",
       " 'year',\n",
       " 'quarter',\n",
       " 'comprehensiveincomenetoftax',\n",
       " 'operatingleasesfutureminimumpaymentsdueintwoyears',\n",
       " 'unrecognizedtaxbenefits',\n",
       " 'cashcashequivalentsrestrictedcashandrestrictedcashequivalentsperiodincreasedecreaseincludingexchangerateeffect',\n",
       " 'lesseeoperatingleaseliabilitypaymentsdue',\n",
       " 'lesseeoperatingleaseliabilitypaymentsdueyearthree',\n",
       " 'lesseeoperatingleaseliabilityundiscountedexcessamount',\n",
       " 'operatingleaseliability',\n",
       " 'operatingleaserightofuseasset']"
      ]
     },
     "execution_count": 11,
     "metadata": {},
     "output_type": "execute_result"
    }
   ],
   "source": [
    "factors"
   ]
  },
  {
   "cell_type": "code",
   "execution_count": 22,
   "id": "92636ad8",
   "metadata": {},
   "outputs": [
    {
     "name": "stderr",
     "output_type": "stream",
     "text": [
      " 39%|██████████████████████████████████████████████████████████▉                                                                                            | 197/505 [01:04<02:19,  2.20it/s]"
     ]
    },
    {
     "name": "stdout",
     "output_type": "stream",
     "text": [
      "'date'\n"
     ]
    },
    {
     "name": "stderr",
     "output_type": "stream",
     "text": [
      " 83%|████████████████████████████████████████████████████████████████████████████████████████████████████████████████████████████▋                          | 417/505 [02:15<00:38,  2.26it/s]"
     ]
    },
    {
     "name": "stdout",
     "output_type": "stream",
     "text": [
      "'date'\n"
     ]
    },
    {
     "name": "stderr",
     "output_type": "stream",
     "text": [
      "100%|███████████████████████████████████████████████████████████████████████████████████████████████████████████████████████████████████████████████████████| 505/505 [02:42<00:00,  3.10it/s]\n"
     ]
    }
   ],
   "source": [
    "sec.connect()\n",
    "training_data = []\n",
    "training_columns = {}\n",
    "plausible_pool = []\n",
    "for ticker in tqdm(list(sp5[\"Symbol\"].unique())):\n",
    "    try:\n",
    "        cik = sp5[sp5[\"Symbol\"]==ticker][\"CIK\"].item()\n",
    "        filing = sec.retrieve_filing_data(cik)\n",
    "        ticker_financials = filing.rename(columns={\"filed\":\"date\"})\n",
    "        ticker_financials[\"date\"] = [datetime.strptime(str(x),\"%Y%m%d\") for x in ticker_financials[\"date\"]]\n",
    "        ticker_financials[\"year\"] = [x.year for x in ticker_financials[\"date\"]]\n",
    "        ticker_financials[\"quarter\"] = [x.quarter for x in ticker_financials[\"date\"]]\n",
    "        ticker_financials = p.column_date_processing(ticker_financials)\n",
    "        ticker_financials[\"ticker\"] = ticker\n",
    "        col_count = 0\n",
    "        for col in factors:\n",
    "            if col not in ticker_financials.columns:\n",
    "                continue\n",
    "            else:\n",
    "                col_count += 1\n",
    "        if col_count == len(factors):\n",
    "            plausible_pool.append(ticker)\n",
    "    except Exception as e:\n",
    "        print(str(e))\n",
    "sec.disconnect()"
   ]
  },
  {
   "cell_type": "code",
   "execution_count": 21,
   "id": "df1f38e4",
   "metadata": {},
   "outputs": [
    {
     "data": {
      "text/plain": [
       "0"
      ]
     },
     "execution_count": 21,
     "metadata": {},
     "output_type": "execute_result"
    }
   ],
   "source": [
    "len(plausible_pool)"
   ]
  },
  {
   "cell_type": "code",
   "execution_count": 27,
   "id": "46634c4a",
   "metadata": {},
   "outputs": [
    {
     "name": "stderr",
     "output_type": "stream",
     "text": [
      "100%|███████████████████████████████████████████████████████████████████████████████████████████████████████████████████████████████████████████████████████| 304/304 [01:38<00:00,  3.08it/s]\n"
     ]
    }
   ],
   "source": [
    "sec.connect()\n",
    "financial_data = []\n",
    "for ticker in tqdm(plausible_pool):\n",
    "    try:\n",
    "        cik = sp5[sp5[\"Symbol\"]==ticker][\"CIK\"].item()\n",
    "        filing = sec.retrieve_filing_data(cik)\n",
    "        ticker_financials = filing.rename(columns={\"filed\":\"date\"})\n",
    "        ticker_financials[\"date\"] = [datetime.strptime(str(x),\"%Y%m%d\") for x in ticker_financials[\"date\"]]\n",
    "        ticker_financials[\"year\"] = [x.year for x in ticker_financials[\"date\"]]\n",
    "        ticker_financials[\"quarter\"] = [x.quarter for x in ticker_financials[\"date\"]]\n",
    "        ticker_financials = p.column_date_processing(ticker_financials)\n",
    "        final_set = ticker_financials[factors]\n",
    "        final_set[\"ticker\"] = ticker\n",
    "        financial_data.extend(final_set.to_dict(\"records\"))\n",
    "    except Exception as e:\n",
    "        print(str(e))\n",
    "sec.disconnect()"
   ]
  },
  {
   "cell_type": "code",
   "execution_count": 28,
   "id": "d28151ce",
   "metadata": {},
   "outputs": [],
   "source": [
    "standardized_set = pd.DataFrame(financial_data)"
   ]
  },
  {
   "cell_type": "code",
   "execution_count": 31,
   "id": "0852dc0b",
   "metadata": {},
   "outputs": [],
   "source": [
    "dq = []\n",
    "for col in standardized_set.columns:\n",
    "    val = len([x for x in standardized_set[col].isna() if x == True]) / standardized_set.index.size\n",
    "    dq.append({\"col\":col,\"rate\":val})"
   ]
  },
  {
   "cell_type": "code",
   "execution_count": 34,
   "id": "f57a8b96",
   "metadata": {},
   "outputs": [],
   "source": [
    "column_rates = pd.DataFrame(dq).sort_values(\"rate\")"
   ]
  },
  {
   "cell_type": "code",
   "execution_count": 39,
   "id": "90ca67ad",
   "metadata": {},
   "outputs": [],
   "source": [
    "parse_two = standardized_set[column_rates[column_rates[\"rate\"] < 0.10][\"col\"]]"
   ]
  },
  {
   "cell_type": "code",
   "execution_count": 47,
   "id": "972f47a0",
   "metadata": {},
   "outputs": [],
   "source": [
    "final_parse = []\n",
    "for ticker in list(parse_two[\"ticker\"].unique()):\n",
    "    ticker_data = parse_two[parse_two[\"ticker\"]==ticker]\n",
    "    for col in ticker_data.columns:\n",
    "        try:\n",
    "            ticker_data[col].fillna(ticker_data[col].mean(),inplace=True)\n",
    "        except:\n",
    "            continue\n",
    "    final_parse.extend(ticker_data.to_dict(\"records\"))"
   ]
  },
  {
   "cell_type": "code",
   "execution_count": 48,
   "id": "5f329d9a",
   "metadata": {},
   "outputs": [],
   "source": [
    "final_set = pd.DataFrame(final_parse)"
   ]
  },
  {
   "cell_type": "code",
   "execution_count": 50,
   "id": "752f8899",
   "metadata": {},
   "outputs": [],
   "source": [
    "dq = []\n",
    "for col in final_set.columns:\n",
    "    val = len([x for x in final_set[col].isna() if x == True]) / final_set.index.size\n",
    "    dq.append({\"col\":col,\"rate\":val})"
   ]
  },
  {
   "cell_type": "code",
   "execution_count": 51,
   "id": "3e64ae49",
   "metadata": {},
   "outputs": [
    {
     "data": {
      "text/html": [
       "<div>\n",
       "<style scoped>\n",
       "    .dataframe tbody tr th:only-of-type {\n",
       "        vertical-align: middle;\n",
       "    }\n",
       "\n",
       "    .dataframe tbody tr th {\n",
       "        vertical-align: top;\n",
       "    }\n",
       "\n",
       "    .dataframe thead th {\n",
       "        text-align: right;\n",
       "    }\n",
       "</style>\n",
       "<table border=\"1\" class=\"dataframe\">\n",
       "  <thead>\n",
       "    <tr style=\"text-align: right;\">\n",
       "      <th></th>\n",
       "      <th>col</th>\n",
       "      <th>rate</th>\n",
       "    </tr>\n",
       "  </thead>\n",
       "  <tbody>\n",
       "    <tr>\n",
       "      <th>0</th>\n",
       "      <td>ticker</td>\n",
       "      <td>0.0</td>\n",
       "    </tr>\n",
       "    <tr>\n",
       "      <th>1</th>\n",
       "      <td>quarter</td>\n",
       "      <td>0.0</td>\n",
       "    </tr>\n",
       "    <tr>\n",
       "      <th>2</th>\n",
       "      <td>year</td>\n",
       "      <td>0.0</td>\n",
       "    </tr>\n",
       "    <tr>\n",
       "      <th>3</th>\n",
       "      <td>assets</td>\n",
       "      <td>0.0</td>\n",
       "    </tr>\n",
       "    <tr>\n",
       "      <th>4</th>\n",
       "      <td>liabilitiesandstockholdersequity</td>\n",
       "      <td>0.0</td>\n",
       "    </tr>\n",
       "    <tr>\n",
       "      <th>5</th>\n",
       "      <td>incometaxexpensebenefit</td>\n",
       "      <td>0.0</td>\n",
       "    </tr>\n",
       "    <tr>\n",
       "      <th>6</th>\n",
       "      <td>retainedearningsaccumulateddeficit</td>\n",
       "      <td>0.0</td>\n",
       "    </tr>\n",
       "    <tr>\n",
       "      <th>7</th>\n",
       "      <td>accumulatedothercomprehensiveincomelossnetoftax</td>\n",
       "      <td>0.0</td>\n",
       "    </tr>\n",
       "    <tr>\n",
       "      <th>8</th>\n",
       "      <td>earningspersharebasic</td>\n",
       "      <td>0.0</td>\n",
       "    </tr>\n",
       "    <tr>\n",
       "      <th>9</th>\n",
       "      <td>earningspersharediluted</td>\n",
       "      <td>0.0</td>\n",
       "    </tr>\n",
       "    <tr>\n",
       "      <th>10</th>\n",
       "      <td>propertyplantandequipmentnet</td>\n",
       "      <td>0.0</td>\n",
       "    </tr>\n",
       "    <tr>\n",
       "      <th>11</th>\n",
       "      <td>cashandcashequivalentsatcarryingvalue</td>\n",
       "      <td>0.0</td>\n",
       "    </tr>\n",
       "    <tr>\n",
       "      <th>12</th>\n",
       "      <td>entitycommonstocksharesoutstanding</td>\n",
       "      <td>0.0</td>\n",
       "    </tr>\n",
       "    <tr>\n",
       "      <th>13</th>\n",
       "      <td>weightedaveragenumberofdilutedsharesoutstanding</td>\n",
       "      <td>0.0</td>\n",
       "    </tr>\n",
       "    <tr>\n",
       "      <th>14</th>\n",
       "      <td>weightedaveragenumberofsharesoutstandingbasic</td>\n",
       "      <td>0.0</td>\n",
       "    </tr>\n",
       "    <tr>\n",
       "      <th>15</th>\n",
       "      <td>stockholdersequity</td>\n",
       "      <td>0.0</td>\n",
       "    </tr>\n",
       "  </tbody>\n",
       "</table>\n",
       "</div>"
      ],
      "text/plain": [
       "                                                col  rate\n",
       "0                                            ticker   0.0\n",
       "1                                           quarter   0.0\n",
       "2                                              year   0.0\n",
       "3                                            assets   0.0\n",
       "4                  liabilitiesandstockholdersequity   0.0\n",
       "5                           incometaxexpensebenefit   0.0\n",
       "6                retainedearningsaccumulateddeficit   0.0\n",
       "7   accumulatedothercomprehensiveincomelossnetoftax   0.0\n",
       "8                             earningspersharebasic   0.0\n",
       "9                           earningspersharediluted   0.0\n",
       "10                     propertyplantandequipmentnet   0.0\n",
       "11            cashandcashequivalentsatcarryingvalue   0.0\n",
       "12               entitycommonstocksharesoutstanding   0.0\n",
       "13  weightedaveragenumberofdilutedsharesoutstanding   0.0\n",
       "14    weightedaveragenumberofsharesoutstandingbasic   0.0\n",
       "15                               stockholdersequity   0.0"
      ]
     },
     "execution_count": 51,
     "metadata": {},
     "output_type": "execute_result"
    }
   ],
   "source": [
    "column_rates = pd.DataFrame(dq).sort_values(\"rate\")\n",
    "column_rates"
   ]
  },
  {
   "cell_type": "code",
   "execution_count": 54,
   "id": "3c3809e8",
   "metadata": {},
   "outputs": [],
   "source": [
    "market.connect()\n",
    "market.store(\"financial_set\",final_set)\n",
    "market.disconnect()"
   ]
  },
  {
   "cell_type": "code",
   "execution_count": 55,
   "id": "9ead915e",
   "metadata": {},
   "outputs": [
    {
     "data": {
      "text/plain": [
       "2022"
      ]
     },
     "execution_count": 55,
     "metadata": {},
     "output_type": "execute_result"
    }
   ],
   "source": [
    "final_set[\"year\"].max()"
   ]
  }
 ],
 "metadata": {
  "kernelspec": {
   "display_name": "Python 3 (ipykernel)",
   "language": "python",
   "name": "python3"
  },
  "language_info": {
   "codemirror_mode": {
    "name": "ipython",
    "version": 3
   },
   "file_extension": ".py",
   "mimetype": "text/x-python",
   "name": "python",
   "nbconvert_exporter": "python",
   "pygments_lexer": "ipython3",
   "version": "3.10.1"
  }
 },
 "nbformat": 4,
 "nbformat_minor": 5
}
