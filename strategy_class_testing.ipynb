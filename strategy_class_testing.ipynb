{
 "cells": [
  {
   "cell_type": "code",
   "execution_count": 1,
   "id": "aa80f443",
   "metadata": {},
   "outputs": [],
   "source": [
    "from strategy.dailybtcrollingpercent import DailyBTCRollingPercent"
   ]
  },
  {
   "cell_type": "code",
   "execution_count": 2,
   "id": "b38d4176",
   "metadata": {},
   "outputs": [],
   "source": [
    "strat = DailyBTCRollingPercent()"
   ]
  },
  {
   "cell_type": "code",
   "execution_count": 3,
   "id": "bf65a16c",
   "metadata": {},
   "outputs": [],
   "source": [
    "strat.subscribe()\n",
    "strat.load()"
   ]
  },
  {
   "cell_type": "code",
   "execution_count": 4,
   "id": "16bccabb",
   "metadata": {},
   "outputs": [
    {
     "data": {
      "text/plain": [
       "{'market': {'table': 'crypto',\n",
       "  'db': <database.market.Market at 0x1f0873881c0>,\n",
       "  'dataset':                            _id        Date         Open         High  \\\n",
       "  0     6191cf70723f1dd7e39fd20a  2014-09-17   465.864014   468.174011   \n",
       "  1     6191cf70723f1dd7e39fd20b  2014-09-18   456.859985   456.859985   \n",
       "  2     6191cf70723f1dd7e39fd20c  2014-09-19   424.102997   427.834991   \n",
       "  3     6191cf70723f1dd7e39fd20d  2014-09-20   394.673004   423.295990   \n",
       "  4     6191cf70723f1dd7e39fd20e  2014-09-21   408.084991   412.425995   \n",
       "  ...                        ...         ...          ...          ...   \n",
       "  4905  6191cf70723f1dd7e39fe533  2021-11-11  4635.453613  4778.059082   \n",
       "  4906  6191cf70723f1dd7e39fe534  2021-11-12  4724.306641  4808.738770   \n",
       "  4907  6191cf70723f1dd7e39fe535  2021-11-13  4666.719238  4702.115234   \n",
       "  4908  6191cf70723f1dd7e39fe536  2021-11-14  4648.632813  4689.842773   \n",
       "  4909  6191cf70723f1dd7e39fe537  2021-11-15  4642.238770  4717.455078   \n",
       "  \n",
       "                Low        Close    Adj Close        Volume ticker  \n",
       "  0      452.421997   457.334015   457.334015  2.105680e+07    BTC  \n",
       "  1      413.104004   424.440002   424.440002  3.448320e+07    BTC  \n",
       "  2      384.532013   394.795990   394.795990  3.791970e+07    BTC  \n",
       "  3      389.882996   408.903992   408.903992  3.686360e+07    BTC  \n",
       "  4      393.181000   398.821014   398.821014  2.658010e+07    BTC  \n",
       "  ...           ...          ...          ...           ...    ...  \n",
       "  4905  4580.990234  4730.384277  4730.384277  1.793320e+10    ETH  \n",
       "  4906  4510.920410  4667.115234  4667.115234  1.831606e+10    ETH  \n",
       "  4907  4582.180664  4651.460449  4651.460449  1.445744e+10    ETH  \n",
       "  4908  4516.935547  4626.358887  4626.358887  1.217296e+10    ETH  \n",
       "  4909  4642.238770  4692.025391  4692.025391  1.330817e+10    ETH  \n",
       "  \n",
       "  [4910 rows x 9 columns]}}"
      ]
     },
     "execution_count": 4,
     "metadata": {},
     "output_type": "execute_result"
    }
   ],
   "source": [
    "strat.subscriptions"
   ]
  }
 ],
 "metadata": {
  "kernelspec": {
   "display_name": "Python 3 (ipykernel)",
   "language": "python",
   "name": "python3"
  },
  "language_info": {
   "codemirror_mode": {
    "name": "ipython",
    "version": 3
   },
   "file_extension": ".py",
   "mimetype": "text/x-python",
   "name": "python",
   "nbconvert_exporter": "python",
   "pygments_lexer": "ipython3",
   "version": "3.9.6"
  }
 },
 "nbformat": 4,
 "nbformat_minor": 5
}
