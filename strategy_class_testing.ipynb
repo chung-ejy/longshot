{
 "cells": [
  {
   "cell_type": "code",
   "execution_count": 1,
   "id": "aa80f443",
   "metadata": {},
   "outputs": [],
   "source": [
    "from strategy.dailybtcrollingpercent import DailyBTCRollingPercent"
   ]
  },
  {
   "cell_type": "code",
   "execution_count": 2,
   "id": "b38d4176",
   "metadata": {},
   "outputs": [],
   "source": [
    "strat = DailyBTCRollingPercent()"
   ]
  },
  {
   "cell_type": "code",
   "execution_count": 3,
   "id": "08127689",
   "metadata": {},
   "outputs": [],
   "source": [
    "strat.subscribe()\n",
    "strat.load()"
   ]
  },
  {
   "cell_type": "code",
   "execution_count": 6,
   "id": "997dfecf",
   "metadata": {},
   "outputs": [
    {
     "data": {
      "text/plain": [
       "{'name': 'daily_btc_rolling_percent',\n",
       " 'subscriptions': {'market': {'table': 'crypto',\n",
       "   'db': <database.market.Market at 0x18189e9cdf0>}},\n",
       " 'timeperiod': 'daily'}"
      ]
     },
     "execution_count": 6,
     "metadata": {},
     "output_type": "execute_result"
    }
   ],
   "source": [
    "strat.subscriptions"
   ]
  },
  {
   "cell_type": "code",
   "execution_count": 5,
   "id": "c7e3d542",
   "metadata": {},
   "outputs": [
    {
     "data": {
      "text/plain": [
       "<database.market.Market at 0x18189e9cdf0>"
      ]
     },
     "execution_count": 5,
     "metadata": {},
     "output_type": "execute_result"
    }
   ],
   "source": [
    "strat"
   ]
  }
 ],
 "metadata": {
  "kernelspec": {
   "display_name": "Python 3 (ipykernel)",
   "language": "python",
   "name": "python3"
  },
  "language_info": {
   "codemirror_mode": {
    "name": "ipython",
    "version": 3
   },
   "file_extension": ".py",
   "mimetype": "text/x-python",
   "name": "python",
   "nbconvert_exporter": "python",
   "pygments_lexer": "ipython3",
   "version": "3.9.6"
  }
 },
 "nbformat": 4,
 "nbformat_minor": 5
}
