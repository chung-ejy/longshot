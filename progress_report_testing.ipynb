{
 "cells": [
  {
   "cell_type": "code",
   "execution_count": 1,
   "id": "aa80f443",
   "metadata": {
    "scrolled": true
   },
   "outputs": [],
   "source": [
    "from strategy.progressreport import ProgressReport\n",
    "from datetime import datetime, timedelta\n",
    "import pytz\n",
    "import pandas as pd\n",
    "from tqdm import tqdm"
   ]
  },
  {
   "cell_type": "code",
   "execution_count": 2,
   "id": "34dbc1c4",
   "metadata": {},
   "outputs": [
    {
     "data": {
      "text/plain": [
       "{'timeframe': 'quarterly', 'requirement': 5}"
      ]
     },
     "execution_count": 2,
     "metadata": {},
     "output_type": "execute_result"
    }
   ],
   "source": [
    "ProgressReport.required_params()"
   ]
  },
  {
   "cell_type": "code",
   "execution_count": 3,
   "id": "b38d4176",
   "metadata": {
    "scrolled": true
   },
   "outputs": [
    {
     "name": "stderr",
     "output_type": "stream",
     "text": [
      "progress_report_sim: 100%|█████████████████████████████████████████████████████████████████████████████████████████████| 501/501 [01:28<00:00,  5.63it/s]\n"
     ]
    }
   ],
   "source": [
    "start_date = datetime(2015,1,1)\n",
    "end_date = datetime(2021,1,1)\n",
    "params = {\"timeframe\":\"quarterly\",\"requirement\":10}\n",
    "strat = ProgressReport(start_date,end_date,params)\n",
    "strat.subscribe()\n",
    "sim = strat.create_sim()"
   ]
  },
  {
   "cell_type": "code",
   "execution_count": 4,
   "id": "5cfc636a",
   "metadata": {},
   "outputs": [
    {
     "data": {
      "text/html": [
       "<div>\n",
       "<style scoped>\n",
       "    .dataframe tbody tr th:only-of-type {\n",
       "        vertical-align: middle;\n",
       "    }\n",
       "\n",
       "    .dataframe tbody tr th {\n",
       "        vertical-align: top;\n",
       "    }\n",
       "\n",
       "    .dataframe thead th {\n",
       "        text-align: right;\n",
       "    }\n",
       "</style>\n",
       "<table border=\"1\" class=\"dataframe\">\n",
       "  <thead>\n",
       "    <tr style=\"text-align: right;\">\n",
       "      <th></th>\n",
       "      <th>date</th>\n",
       "      <th>adjclose</th>\n",
       "      <th>delta</th>\n",
       "      <th>ticker</th>\n",
       "      <th>timeframe</th>\n",
       "      <th>requirement</th>\n",
       "    </tr>\n",
       "  </thead>\n",
       "  <tbody>\n",
       "    <tr>\n",
       "      <th>5288</th>\n",
       "      <td>2015-01-02 00:00:00+00:00</td>\n",
       "      <td>134.954560</td>\n",
       "      <td>0.000000</td>\n",
       "      <td>MMM</td>\n",
       "      <td>quarterly</td>\n",
       "      <td>10</td>\n",
       "    </tr>\n",
       "    <tr>\n",
       "      <th>5289</th>\n",
       "      <td>2015-01-05 00:00:00+00:00</td>\n",
       "      <td>131.910967</td>\n",
       "      <td>-0.022553</td>\n",
       "      <td>MMM</td>\n",
       "      <td>quarterly</td>\n",
       "      <td>10</td>\n",
       "    </tr>\n",
       "    <tr>\n",
       "      <th>5290</th>\n",
       "      <td>2015-01-06 00:00:00+00:00</td>\n",
       "      <td>130.504333</td>\n",
       "      <td>-0.032976</td>\n",
       "      <td>MMM</td>\n",
       "      <td>quarterly</td>\n",
       "      <td>10</td>\n",
       "    </tr>\n",
       "    <tr>\n",
       "      <th>5291</th>\n",
       "      <td>2015-01-07 00:00:00+00:00</td>\n",
       "      <td>131.450315</td>\n",
       "      <td>-0.025966</td>\n",
       "      <td>MMM</td>\n",
       "      <td>quarterly</td>\n",
       "      <td>10</td>\n",
       "    </tr>\n",
       "    <tr>\n",
       "      <th>5292</th>\n",
       "      <td>2015-01-08 00:00:00+00:00</td>\n",
       "      <td>134.600845</td>\n",
       "      <td>-0.002621</td>\n",
       "      <td>MMM</td>\n",
       "      <td>quarterly</td>\n",
       "      <td>10</td>\n",
       "    </tr>\n",
       "    <tr>\n",
       "      <th>...</th>\n",
       "      <td>...</td>\n",
       "      <td>...</td>\n",
       "      <td>...</td>\n",
       "      <td>...</td>\n",
       "      <td>...</td>\n",
       "      <td>...</td>\n",
       "    </tr>\n",
       "    <tr>\n",
       "      <th>2315</th>\n",
       "      <td>2020-12-24 00:00:00+00:00</td>\n",
       "      <td>99.519734</td>\n",
       "      <td>0.217906</td>\n",
       "      <td>XYL</td>\n",
       "      <td>quarterly</td>\n",
       "      <td>10</td>\n",
       "    </tr>\n",
       "    <tr>\n",
       "      <th>2316</th>\n",
       "      <td>2020-12-28 00:00:00+00:00</td>\n",
       "      <td>99.638859</td>\n",
       "      <td>0.219364</td>\n",
       "      <td>XYL</td>\n",
       "      <td>quarterly</td>\n",
       "      <td>10</td>\n",
       "    </tr>\n",
       "    <tr>\n",
       "      <th>2317</th>\n",
       "      <td>2020-12-29 00:00:00+00:00</td>\n",
       "      <td>98.785124</td>\n",
       "      <td>0.208916</td>\n",
       "      <td>XYL</td>\n",
       "      <td>quarterly</td>\n",
       "      <td>10</td>\n",
       "    </tr>\n",
       "    <tr>\n",
       "      <th>2318</th>\n",
       "      <td>2020-12-30 00:00:00+00:00</td>\n",
       "      <td>100.045873</td>\n",
       "      <td>0.224345</td>\n",
       "      <td>XYL</td>\n",
       "      <td>quarterly</td>\n",
       "      <td>10</td>\n",
       "    </tr>\n",
       "    <tr>\n",
       "      <th>2319</th>\n",
       "      <td>2020-12-31 00:00:00+00:00</td>\n",
       "      <td>101.048516</td>\n",
       "      <td>0.236615</td>\n",
       "      <td>XYL</td>\n",
       "      <td>quarterly</td>\n",
       "      <td>10</td>\n",
       "    </tr>\n",
       "  </tbody>\n",
       "</table>\n",
       "<p>737892 rows × 6 columns</p>\n",
       "</div>"
      ],
      "text/plain": [
       "                          date    adjclose     delta ticker  timeframe  \\\n",
       "5288 2015-01-02 00:00:00+00:00  134.954560  0.000000    MMM  quarterly   \n",
       "5289 2015-01-05 00:00:00+00:00  131.910967 -0.022553    MMM  quarterly   \n",
       "5290 2015-01-06 00:00:00+00:00  130.504333 -0.032976    MMM  quarterly   \n",
       "5291 2015-01-07 00:00:00+00:00  131.450315 -0.025966    MMM  quarterly   \n",
       "5292 2015-01-08 00:00:00+00:00  134.600845 -0.002621    MMM  quarterly   \n",
       "...                        ...         ...       ...    ...        ...   \n",
       "2315 2020-12-24 00:00:00+00:00   99.519734  0.217906    XYL  quarterly   \n",
       "2316 2020-12-28 00:00:00+00:00   99.638859  0.219364    XYL  quarterly   \n",
       "2317 2020-12-29 00:00:00+00:00   98.785124  0.208916    XYL  quarterly   \n",
       "2318 2020-12-30 00:00:00+00:00  100.045873  0.224345    XYL  quarterly   \n",
       "2319 2020-12-31 00:00:00+00:00  101.048516  0.236615    XYL  quarterly   \n",
       "\n",
       "      requirement  \n",
       "5288           10  \n",
       "5289           10  \n",
       "5290           10  \n",
       "5291           10  \n",
       "5292           10  \n",
       "...           ...  \n",
       "2315           10  \n",
       "2316           10  \n",
       "2317           10  \n",
       "2318           10  \n",
       "2319           10  \n",
       "\n",
       "[737892 rows x 6 columns]"
      ]
     },
     "execution_count": 4,
     "metadata": {},
     "output_type": "execute_result"
    }
   ],
   "source": [
    "sim"
   ]
  }
 ],
 "metadata": {
  "kernelspec": {
   "display_name": "Python 3 (ipykernel)",
   "language": "python",
   "name": "python3"
  },
  "language_info": {
   "codemirror_mode": {
    "name": "ipython",
    "version": 3
   },
   "file_extension": ".py",
   "mimetype": "text/x-python",
   "name": "python",
   "nbconvert_exporter": "python",
   "pygments_lexer": "ipython3",
   "version": "3.10.0"
  }
 },
 "nbformat": 4,
 "nbformat_minor": 5
}
