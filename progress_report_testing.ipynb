{
 "cells": [
  {
   "cell_type": "code",
   "execution_count": 1,
   "id": "aa80f443",
   "metadata": {
    "scrolled": true
   },
   "outputs": [],
   "source": [
    "from strategy.progressreport import ProgressReport\n",
    "from datetime import datetime, timedelta\n",
    "import pytz\n",
    "import pandas as pd\n",
    "from tqdm import tqdm"
   ]
  },
  {
   "cell_type": "code",
   "execution_count": 2,
   "id": "34dbc1c4",
   "metadata": {},
   "outputs": [
    {
     "data": {
      "text/plain": [
       "{'timeframe': 'quarterly', 'requirement': 5}"
      ]
     },
     "execution_count": 2,
     "metadata": {},
     "output_type": "execute_result"
    }
   ],
   "source": [
    "ProgressReport.required_params()"
   ]
  },
  {
   "cell_type": "code",
   "execution_count": null,
   "id": "b38d4176",
   "metadata": {
    "scrolled": true
   },
   "outputs": [
    {
     "name": "stderr",
     "output_type": "stream",
     "text": [
      "progress_report_sim:  99%|███████████████████████████████████████████████████████████████████████████████████████████▉ | 495/501 [01:28<00:01,  5.63it/s]"
     ]
    }
   ],
   "source": [
    "start_date = datetime(2015,1,1)\n",
    "end_date = datetime(2021,1,1)\n",
    "params = {\"timeframe\":\"quarterly\",\"requirement\":10}\n",
    "strat = ProgressReport(start_date,end_date,params)\n",
    "strat.subscribe()\n",
    "sim = strat.create_sim()"
   ]
  },
  {
   "cell_type": "code",
   "execution_count": null,
   "id": "5cfc636a",
   "metadata": {},
   "outputs": [],
   "source": [
    "sim"
   ]
  },
  {
   "cell_type": "code",
   "execution_count": null,
   "id": "438abcdd",
   "metadata": {},
   "outputs": [],
   "source": [
    "a = pd.DataFrame(analysis)[[\"requirement\",\"pv\"]]\n",
    "a"
   ]
  }
 ],
 "metadata": {
  "kernelspec": {
   "display_name": "Python 3 (ipykernel)",
   "language": "python",
   "name": "python3"
  },
  "language_info": {
   "codemirror_mode": {
    "name": "ipython",
    "version": 3
   },
   "file_extension": ".py",
   "mimetype": "text/x-python",
   "name": "python",
   "nbconvert_exporter": "python",
   "pygments_lexer": "ipython3",
   "version": "3.10.0"
  }
 },
 "nbformat": 4,
 "nbformat_minor": 5
}
