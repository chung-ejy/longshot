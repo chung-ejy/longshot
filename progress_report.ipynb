{
 "cells": [
  {
   "cell_type": "code",
   "execution_count": 15,
   "id": "363c9439",
   "metadata": {},
   "outputs": [],
   "source": [
    "import pandas as pd\n",
    "import matplotlib.pyplot as plt\n",
    "from database.market import Market\n",
    "from datetime import datetime, timedelta\n",
    "from tqdm import tqdm\n",
    "from extractor.tiingo_extractor import TiingoExtractor\n",
    "import requests as r\n",
    "import pandas_datareader as pdr\n",
    "from dotenv import load_dotenv\n",
    "import os\n",
    "load_dotenv()\n",
    "token = os.getenv(\"ALPHA\")\n",
    "from time import sleep"
   ]
  },
  {
   "cell_type": "code",
   "execution_count": 2,
   "id": "0ca38ab8",
   "metadata": {},
   "outputs": [],
   "source": [
    "market = Market()\n",
    "market.connect()\n",
    "dates = market.retrieve_date_range()\n",
    "sp5 = market.retrieve(\"sp500\")\n",
    "market.disconnect()"
   ]
  },
  {
   "cell_type": "code",
   "execution_count": 3,
   "id": "55873d93",
   "metadata": {},
   "outputs": [],
   "source": [
    "stuff = pd.to_datetime(dates[\"date\"])"
   ]
  },
  {
   "cell_type": "code",
   "execution_count": 4,
   "id": "6db91ba1",
   "metadata": {},
   "outputs": [
    {
     "name": "stdout",
     "output_type": "stream",
     "text": [
      "2021-12-24 2021-12-29\n"
     ]
    }
   ],
   "source": [
    "start = (stuff.max() + timedelta(days=1)).strftime(\"%Y-%m-%d\")\n",
    "end = datetime.now().strftime(\"%Y-%m-%d\")\n",
    "print(start,end)"
   ]
  },
  {
   "cell_type": "code",
   "execution_count": 16,
   "id": "5e411956",
   "metadata": {},
   "outputs": [
    {
     "name": "stderr",
     "output_type": "stream",
     "text": [
      " 15%|██████                                   | 75/505 [16:36<1:08:13,  9.52s/it]"
     ]
    },
    {
     "name": "stdout",
     "output_type": "stream",
     "text": [
      "'Date'\n"
     ]
    },
    {
     "name": "stderr",
     "output_type": "stream",
     "text": [
      " 15%|██████▋                                    | 78/505 [17:03<58:06,  8.17s/it]"
     ]
    },
    {
     "name": "stdout",
     "output_type": "stream",
     "text": [
      "'Date'\n"
     ]
    },
    {
     "name": "stderr",
     "output_type": "stream",
     "text": [
      " 28%|███████████▉                              | 143/505 [31:21<57:09,  9.48s/it]"
     ]
    },
    {
     "name": "stdout",
     "output_type": "stream",
     "text": [
      "'Date'\n"
     ]
    },
    {
     "name": "stderr",
     "output_type": "stream",
     "text": [
      " 29%|████████████                              | 145/505 [31:35<46:07,  7.69s/it]"
     ]
    },
    {
     "name": "stdout",
     "output_type": "stream",
     "text": [
      "'Date'\n"
     ]
    },
    {
     "name": "stderr",
     "output_type": "stream",
     "text": [
      " 47%|███████████████████▊                      | 238/505 [52:59<48:50, 10.97s/it]"
     ]
    },
    {
     "name": "stdout",
     "output_type": "stream",
     "text": [
      "'Date'\n"
     ]
    },
    {
     "name": "stderr",
     "output_type": "stream",
     "text": [
      " 49%|███████████████████▍                    | 245/505 [54:50<1:18:51, 18.20s/it]"
     ]
    },
    {
     "name": "stdout",
     "output_type": "stream",
     "text": [
      "HTTPSConnectionPool(host='finance.yahoo.com', port=443): Read timed out. (read timeout=30)\n"
     ]
    },
    {
     "name": "stderr",
     "output_type": "stream",
     "text": [
      " 64%|█████████████████████████▋              | 324/505 [1:12:56<30:00,  9.95s/it]"
     ]
    },
    {
     "name": "stdout",
     "output_type": "stream",
     "text": [
      "'Date'\n"
     ]
    },
    {
     "name": "stderr",
     "output_type": "stream",
     "text": [
      " 65%|██████████████████████████              | 329/505 [1:13:48<25:39,  8.75s/it]"
     ]
    },
    {
     "name": "stdout",
     "output_type": "stream",
     "text": [
      "'Date'\n"
     ]
    },
    {
     "name": "stderr",
     "output_type": "stream",
     "text": [
      " 73%|█████████████████████████████▏          | 368/505 [1:22:42<24:46, 10.85s/it]"
     ]
    },
    {
     "name": "stdout",
     "output_type": "stream",
     "text": [
      "'Date'\n"
     ]
    },
    {
     "name": "stderr",
     "output_type": "stream",
     "text": [
      " 88%|███████████████████████████████████▏    | 444/505 [1:39:33<09:35,  9.44s/it]"
     ]
    },
    {
     "name": "stdout",
     "output_type": "stream",
     "text": [
      "'Date'\n"
     ]
    },
    {
     "name": "stderr",
     "output_type": "stream",
     "text": [
      "100%|████████████████████████████████████████| 505/505 [1:53:40<00:00, 13.51s/it]\n"
     ]
    }
   ],
   "source": [
    "market.connect()\n",
    "for ticker in tqdm(sp5[\"Symbol\"].unique()):\n",
    "    try:\n",
    "        if \".\" in ticker:\n",
    "            ticker = ticker.replace(\".\",\"-\")\n",
    "#         data = TiingoExtractor.extract(ticker,start,end)\n",
    "#         data[\"ticker\"] = ticker\n",
    "#         market.store(\"prices\",data)\n",
    "        test = pdr.yahoo.daily.YahooDailyReader(symbols=ticker\n",
    "                                                , start=start\n",
    "                                                , end=end\n",
    "                                                , retry_count=3, pause=0.1, session=None, adjust_price=True)\n",
    "        panda_reader_data = test.read()\n",
    "        panda_reader_data[\"ticker\"] = ticker\n",
    "        panda_reader_data.reset_index(inplace=True)\n",
    "        market.store(\"pdr_prices\",panda_reader_data)\n",
    "        url = 'https://www.alphavantage.co/query?function=TIME_SERIES_DAILY'\n",
    "        stuff = r.get(url,params={\"apikey\":token,\"symbol\":ticker,\"outputsize\":\"compact\"})\n",
    "        data = stuff.json()\n",
    "        example = pd.DataFrame.from_records(data[\"Time Series (Daily)\"]).T\n",
    "        for col in example.columns:\n",
    "            example.rename(columns={col:col.split(\".\")[1].strip()},inplace=True)\n",
    "        example.reset_index(inplace=True)\n",
    "        example.rename(columns={\"index\":\"date\"},inplace=True)\n",
    "        example[\"ticker\"] = ticker\n",
    "        market.store(\"alpha_prices\",example)\n",
    "        sleep(12)\n",
    "    except Exception as e:\n",
    "        print(str(e))\n",
    "market.disconnect()"
   ]
  },
  {
   "cell_type": "code",
   "execution_count": 6,
   "id": "ebc97809",
   "metadata": {},
   "outputs": [],
   "source": [
    "data"
   ]
  },
  {
   "cell_type": "code",
   "execution_count": 7,
   "id": "24e6d55c",
   "metadata": {},
   "outputs": [
    {
     "name": "stderr",
     "output_type": "stream",
     "text": [
      " 13%|█████▋                                     | 67/505 [00:04<00:33, 13.00it/s]"
     ]
    },
    {
     "name": "stdout",
     "output_type": "stream",
     "text": [
      "'date'\n",
      "'date'\n"
     ]
    },
    {
     "name": "stderr",
     "output_type": "stream",
     "text": [
      " 16%|██████▉                                    | 82/505 [00:05<00:23, 18.27it/s]"
     ]
    },
    {
     "name": "stdout",
     "output_type": "stream",
     "text": [
      "'date'\n",
      "'date'\n"
     ]
    },
    {
     "name": "stderr",
     "output_type": "stream",
     "text": [
      " 20%|████████▍                                 | 102/505 [00:07<00:22, 18.03it/s]"
     ]
    },
    {
     "name": "stdout",
     "output_type": "stream",
     "text": [
      "'date'\n"
     ]
    },
    {
     "name": "stderr",
     "output_type": "stream",
     "text": [
      " 27%|███████████▏                              | 134/505 [00:09<00:25, 14.80it/s]"
     ]
    },
    {
     "name": "stdout",
     "output_type": "stream",
     "text": [
      "'date'\n"
     ]
    },
    {
     "name": "stderr",
     "output_type": "stream",
     "text": [
      " 35%|██████████████▋                           | 176/505 [00:12<00:23, 14.07it/s]"
     ]
    },
    {
     "name": "stdout",
     "output_type": "stream",
     "text": [
      "'date'\n"
     ]
    },
    {
     "name": "stderr",
     "output_type": "stream",
     "text": [
      " 38%|███████████████▉                          | 192/505 [00:13<00:20, 15.64it/s]"
     ]
    },
    {
     "name": "stdout",
     "output_type": "stream",
     "text": [
      "'date'\n"
     ]
    },
    {
     "name": "stderr",
     "output_type": "stream",
     "text": [
      " 61%|█████████████████████████▌                | 308/505 [00:21<00:12, 15.32it/s]"
     ]
    },
    {
     "name": "stdout",
     "output_type": "stream",
     "text": [
      "'date'\n"
     ]
    },
    {
     "name": "stderr",
     "output_type": "stream",
     "text": [
      " 83%|██████████████████████████████████▉       | 420/505 [00:29<00:05, 16.01it/s]"
     ]
    },
    {
     "name": "stdout",
     "output_type": "stream",
     "text": [
      "'date'\n"
     ]
    },
    {
     "name": "stderr",
     "output_type": "stream",
     "text": [
      "\r",
      " 84%|███████████████████████████████████▏      | 423/505 [00:30<00:05, 16.34it/s]"
     ]
    },
    {
     "name": "stdout",
     "output_type": "stream",
     "text": [
      "'date'\n"
     ]
    },
    {
     "name": "stderr",
     "output_type": "stream",
     "text": [
      "100%|██████████████████████████████████████████| 505/505 [00:35<00:00, 14.15it/s]"
     ]
    },
    {
     "name": "stdout",
     "output_type": "stream",
     "text": [
      "'date'\n",
      "'date'\n",
      "'date'\n",
      "'date'\n"
     ]
    },
    {
     "name": "stderr",
     "output_type": "stream",
     "text": [
      "\n"
     ]
    }
   ],
   "source": [
    "analysis = []\n",
    "market.connect()\n",
    "for ticker in tqdm(sp5[\"Symbol\"].unique()):\n",
    "    report = {}\n",
    "    try:\n",
    "        test = market.retrieve_ticker_prices(\"prices\",ticker)\n",
    "        test[\"date\"] = pd.to_datetime(test[\"date\"])\n",
    "        test[\"year\"] = [x.year for x in test[\"date\"]]\n",
    "        test = test[test[\"year\"]==test[\"year\"].max()].sort_values(\"date\")      \n",
    "        test[\"quarter\"] = [x.quarter for x in test[\"date\"]]\n",
    "        test[\"week\"] = [x.week for x in test[\"date\"]]\n",
    "        test[\"month\"] = [x.month for x in test[\"date\"]]\n",
    "        periods = [\"year\",\"quarter\",\"month\",\"week\"]\n",
    "        ep = test.tail(1)[\"adjClose\"].item()\n",
    "        # periods = [\"year\"]\n",
    "        for period in periods:\n",
    "            current = test.tail(1)[period].item()\n",
    "            window = test[(test[period]==current)].sort_values(\"date\")\n",
    "            sp = window.iloc[0][\"adjClose\"].item()\n",
    "            gain = (ep - sp) / sp\n",
    "            report[f\"{period}_gain\"] = gain\n",
    "        report[\"day_gain\"] = (ep - test.tail(2).iloc[0][\"adjClose\"].item())/test.tail(2).iloc[0][\"adjClose\"].item()\n",
    "        report[\"ticker\"] = ticker\n",
    "        analysis.append(report)\n",
    "    except Exception as e:\n",
    "        print(str(e))\n",
    "market.disconnect()"
   ]
  },
  {
   "cell_type": "code",
   "execution_count": 17,
   "id": "21766d21",
   "metadata": {},
   "outputs": [
    {
     "data": {
      "text/html": [
       "<div>\n",
       "<style scoped>\n",
       "    .dataframe tbody tr th:only-of-type {\n",
       "        vertical-align: middle;\n",
       "    }\n",
       "\n",
       "    .dataframe tbody tr th {\n",
       "        vertical-align: top;\n",
       "    }\n",
       "\n",
       "    .dataframe thead th {\n",
       "        text-align: right;\n",
       "    }\n",
       "</style>\n",
       "<table border=\"1\" class=\"dataframe\">\n",
       "  <thead>\n",
       "    <tr style=\"text-align: right;\">\n",
       "      <th></th>\n",
       "      <th>year_gain</th>\n",
       "      <th>quarter_gain</th>\n",
       "      <th>month_gain</th>\n",
       "      <th>week_gain</th>\n",
       "      <th>day_gain</th>\n",
       "      <th>ticker</th>\n",
       "    </tr>\n",
       "  </thead>\n",
       "  <tbody>\n",
       "    <tr>\n",
       "      <th>80</th>\n",
       "      <td>-0.077290</td>\n",
       "      <td>0.053154</td>\n",
       "      <td>0.086445</td>\n",
       "      <td>0.027975</td>\n",
       "      <td>0.027975</td>\n",
       "      <td>CPB</td>\n",
       "    </tr>\n",
       "    <tr>\n",
       "      <th>59</th>\n",
       "      <td>0.058805</td>\n",
       "      <td>0.051773</td>\n",
       "      <td>0.037290</td>\n",
       "      <td>0.025892</td>\n",
       "      <td>0.025892</td>\n",
       "      <td>BLL</td>\n",
       "    </tr>\n",
       "    <tr>\n",
       "      <th>27</th>\n",
       "      <td>0.225380</td>\n",
       "      <td>-0.143649</td>\n",
       "      <td>0.138821</td>\n",
       "      <td>0.020363</td>\n",
       "      <td>0.020363</td>\n",
       "      <td>AAL</td>\n",
       "    </tr>\n",
       "    <tr>\n",
       "      <th>456</th>\n",
       "      <td>0.412870</td>\n",
       "      <td>0.025455</td>\n",
       "      <td>0.106819</td>\n",
       "      <td>0.018734</td>\n",
       "      <td>0.018734</td>\n",
       "      <td>VLO</td>\n",
       "    </tr>\n",
       "    <tr>\n",
       "      <th>5</th>\n",
       "      <td>-0.254793</td>\n",
       "      <td>-0.151025</td>\n",
       "      <td>0.163932</td>\n",
       "      <td>0.018640</td>\n",
       "      <td>0.018640</td>\n",
       "      <td>ATVI</td>\n",
       "    </tr>\n",
       "    <tr>\n",
       "      <th>378</th>\n",
       "      <td>0.348273</td>\n",
       "      <td>0.223428</td>\n",
       "      <td>0.127157</td>\n",
       "      <td>0.016251</td>\n",
       "      <td>0.016251</td>\n",
       "      <td>PHM</td>\n",
       "    </tr>\n",
       "    <tr>\n",
       "      <th>146</th>\n",
       "      <td>0.095266</td>\n",
       "      <td>0.093567</td>\n",
       "      <td>0.024822</td>\n",
       "      <td>0.016156</td>\n",
       "      <td>0.016156</td>\n",
       "      <td>DG</td>\n",
       "    </tr>\n",
       "    <tr>\n",
       "      <th>136</th>\n",
       "      <td>0.023238</td>\n",
       "      <td>-0.126708</td>\n",
       "      <td>0.181927</td>\n",
       "      <td>0.016154</td>\n",
       "      <td>0.016154</td>\n",
       "      <td>DAL</td>\n",
       "    </tr>\n",
       "    <tr>\n",
       "      <th>77</th>\n",
       "      <td>0.174126</td>\n",
       "      <td>0.235524</td>\n",
       "      <td>0.136545</td>\n",
       "      <td>0.015792</td>\n",
       "      <td>0.015792</td>\n",
       "      <td>CHRW</td>\n",
       "    </tr>\n",
       "    <tr>\n",
       "      <th>472</th>\n",
       "      <td>0.015707</td>\n",
       "      <td>0.015707</td>\n",
       "      <td>0.015707</td>\n",
       "      <td>0.015707</td>\n",
       "      <td>0.015707</td>\n",
       "      <td>DIS</td>\n",
       "    </tr>\n",
       "    <tr>\n",
       "      <th>363</th>\n",
       "      <td>0.107931</td>\n",
       "      <td>0.030914</td>\n",
       "      <td>0.076598</td>\n",
       "      <td>0.015661</td>\n",
       "      <td>0.015661</td>\n",
       "      <td>PSX</td>\n",
       "    </tr>\n",
       "    <tr>\n",
       "      <th>118</th>\n",
       "      <td>-0.024069</td>\n",
       "      <td>0.016896</td>\n",
       "      <td>0.114614</td>\n",
       "      <td>0.015560</td>\n",
       "      <td>0.015560</td>\n",
       "      <td>CAG</td>\n",
       "    </tr>\n",
       "    <tr>\n",
       "      <th>270</th>\n",
       "      <td>0.410582</td>\n",
       "      <td>0.140517</td>\n",
       "      <td>0.104700</td>\n",
       "      <td>0.015546</td>\n",
       "      <td>0.015546</td>\n",
       "      <td>KR</td>\n",
       "    </tr>\n",
       "    <tr>\n",
       "      <th>451</th>\n",
       "      <td>0.087437</td>\n",
       "      <td>-0.118231</td>\n",
       "      <td>0.158986</td>\n",
       "      <td>0.015478</td>\n",
       "      <td>0.015478</td>\n",
       "      <td>UAL</td>\n",
       "    </tr>\n",
       "    <tr>\n",
       "      <th>247</th>\n",
       "      <td>0.426622</td>\n",
       "      <td>0.044933</td>\n",
       "      <td>0.041979</td>\n",
       "      <td>0.015357</td>\n",
       "      <td>0.015357</td>\n",
       "      <td>IFF</td>\n",
       "    </tr>\n",
       "    <tr>\n",
       "      <th>455</th>\n",
       "      <td>-0.028739</td>\n",
       "      <td>-0.057336</td>\n",
       "      <td>0.122519</td>\n",
       "      <td>0.015073</td>\n",
       "      <td>0.015073</td>\n",
       "      <td>UHS</td>\n",
       "    </tr>\n",
       "    <tr>\n",
       "      <th>177</th>\n",
       "      <td>0.396224</td>\n",
       "      <td>0.171814</td>\n",
       "      <td>0.063492</td>\n",
       "      <td>0.014596</td>\n",
       "      <td>0.014596</td>\n",
       "      <td>EXC</td>\n",
       "    </tr>\n",
       "    <tr>\n",
       "      <th>69</th>\n",
       "      <td>0.016821</td>\n",
       "      <td>-0.087920</td>\n",
       "      <td>0.095329</td>\n",
       "      <td>0.014569</td>\n",
       "      <td>0.014569</td>\n",
       "      <td>BA</td>\n",
       "    </tr>\n",
       "    <tr>\n",
       "      <th>470</th>\n",
       "      <td>-0.010114</td>\n",
       "      <td>0.045947</td>\n",
       "      <td>0.045260</td>\n",
       "      <td>0.014351</td>\n",
       "      <td>0.014351</td>\n",
       "      <td>WMT</td>\n",
       "    </tr>\n",
       "    <tr>\n",
       "      <th>32</th>\n",
       "      <td>0.256577</td>\n",
       "      <td>0.109668</td>\n",
       "      <td>0.109297</td>\n",
       "      <td>0.013945</td>\n",
       "      <td>0.013945</td>\n",
       "      <td>AWK</td>\n",
       "    </tr>\n",
       "    <tr>\n",
       "      <th>182</th>\n",
       "      <td>0.402957</td>\n",
       "      <td>0.225036</td>\n",
       "      <td>0.101974</td>\n",
       "      <td>0.013932</td>\n",
       "      <td>0.013932</td>\n",
       "      <td>FFIV</td>\n",
       "    </tr>\n",
       "    <tr>\n",
       "      <th>471</th>\n",
       "      <td>0.289897</td>\n",
       "      <td>0.109524</td>\n",
       "      <td>0.176349</td>\n",
       "      <td>0.013799</td>\n",
       "      <td>0.013799</td>\n",
       "      <td>WBA</td>\n",
       "    </tr>\n",
       "    <tr>\n",
       "      <th>410</th>\n",
       "      <td>0.330307</td>\n",
       "      <td>0.042534</td>\n",
       "      <td>0.069685</td>\n",
       "      <td>0.013694</td>\n",
       "      <td>0.013694</td>\n",
       "      <td>SNA</td>\n",
       "    </tr>\n",
       "    <tr>\n",
       "      <th>151</th>\n",
       "      <td>0.095730</td>\n",
       "      <td>-0.021387</td>\n",
       "      <td>0.073351</td>\n",
       "      <td>0.013603</td>\n",
       "      <td>0.013603</td>\n",
       "      <td>DOW</td>\n",
       "    </tr>\n",
       "    <tr>\n",
       "      <th>188</th>\n",
       "      <td>0.449454</td>\n",
       "      <td>0.154835</td>\n",
       "      <td>0.086403</td>\n",
       "      <td>0.013350</td>\n",
       "      <td>0.013350</td>\n",
       "      <td>FE</td>\n",
       "    </tr>\n",
       "    <tr>\n",
       "      <th>413</th>\n",
       "      <td>0.118780</td>\n",
       "      <td>0.071385</td>\n",
       "      <td>0.090255</td>\n",
       "      <td>0.013091</td>\n",
       "      <td>0.013091</td>\n",
       "      <td>SWK</td>\n",
       "    </tr>\n",
       "    <tr>\n",
       "      <th>47</th>\n",
       "      <td>0.374601</td>\n",
       "      <td>0.106956</td>\n",
       "      <td>0.082659</td>\n",
       "      <td>0.013016</td>\n",
       "      <td>0.013016</td>\n",
       "      <td>ADM</td>\n",
       "    </tr>\n",
       "    <tr>\n",
       "      <th>28</th>\n",
       "      <td>0.120702</td>\n",
       "      <td>0.094109</td>\n",
       "      <td>0.098779</td>\n",
       "      <td>0.012977</td>\n",
       "      <td>0.012977</td>\n",
       "      <td>AEP</td>\n",
       "    </tr>\n",
       "    <tr>\n",
       "      <th>71</th>\n",
       "      <td>0.197782</td>\n",
       "      <td>0.028665</td>\n",
       "      <td>0.048319</td>\n",
       "      <td>0.012855</td>\n",
       "      <td>0.012855</td>\n",
       "      <td>BWA</td>\n",
       "    </tr>\n",
       "    <tr>\n",
       "      <th>350</th>\n",
       "      <td>0.059328</td>\n",
       "      <td>0.117107</td>\n",
       "      <td>0.072375</td>\n",
       "      <td>0.012821</td>\n",
       "      <td>0.012821</td>\n",
       "      <td>PCAR</td>\n",
       "    </tr>\n",
       "    <tr>\n",
       "      <th>475</th>\n",
       "      <td>0.099781</td>\n",
       "      <td>0.109579</td>\n",
       "      <td>0.100593</td>\n",
       "      <td>0.012804</td>\n",
       "      <td>0.012804</td>\n",
       "      <td>WEC</td>\n",
       "    </tr>\n",
       "    <tr>\n",
       "      <th>174</th>\n",
       "      <td>0.316406</td>\n",
       "      <td>0.115555</td>\n",
       "      <td>0.082357</td>\n",
       "      <td>0.012745</td>\n",
       "      <td>0.012745</td>\n",
       "      <td>EVRG</td>\n",
       "    </tr>\n",
       "    <tr>\n",
       "      <th>412</th>\n",
       "      <td>-0.061057</td>\n",
       "      <td>-0.221895</td>\n",
       "      <td>-0.006110</td>\n",
       "      <td>0.012692</td>\n",
       "      <td>0.012692</td>\n",
       "      <td>LUV</td>\n",
       "    </tr>\n",
       "    <tr>\n",
       "      <th>395</th>\n",
       "      <td>-0.113340</td>\n",
       "      <td>-0.054443</td>\n",
       "      <td>0.049468</td>\n",
       "      <td>0.012689</td>\n",
       "      <td>0.012689</td>\n",
       "      <td>ROL</td>\n",
       "    </tr>\n",
       "    <tr>\n",
       "      <th>23</th>\n",
       "      <td>0.247248</td>\n",
       "      <td>0.052979</td>\n",
       "      <td>0.123275</td>\n",
       "      <td>0.012610</td>\n",
       "      <td>0.012610</td>\n",
       "      <td>MO</td>\n",
       "    </tr>\n",
       "    <tr>\n",
       "      <th>207</th>\n",
       "      <td>0.172213</td>\n",
       "      <td>0.112608</td>\n",
       "      <td>0.088882</td>\n",
       "      <td>0.012564</td>\n",
       "      <td>0.012564</td>\n",
       "      <td>GIS</td>\n",
       "    </tr>\n",
       "    <tr>\n",
       "      <th>134</th>\n",
       "      <td>-0.033820</td>\n",
       "      <td>-0.037537</td>\n",
       "      <td>0.187968</td>\n",
       "      <td>0.012503</td>\n",
       "      <td>0.012503</td>\n",
       "      <td>DVA</td>\n",
       "    </tr>\n",
       "    <tr>\n",
       "      <th>153</th>\n",
       "      <td>0.211838</td>\n",
       "      <td>0.072350</td>\n",
       "      <td>0.082281</td>\n",
       "      <td>0.012392</td>\n",
       "      <td>0.012392</td>\n",
       "      <td>DUK</td>\n",
       "    </tr>\n",
       "    <tr>\n",
       "      <th>269</th>\n",
       "      <td>0.092412</td>\n",
       "      <td>-0.011243</td>\n",
       "      <td>0.090633</td>\n",
       "      <td>0.012137</td>\n",
       "      <td>0.012137</td>\n",
       "      <td>KHC</td>\n",
       "    </tr>\n",
       "    <tr>\n",
       "      <th>479</th>\n",
       "      <td>0.203140</td>\n",
       "      <td>0.100718</td>\n",
       "      <td>0.088704</td>\n",
       "      <td>0.012079</td>\n",
       "      <td>0.012079</td>\n",
       "      <td>WDC</td>\n",
       "    </tr>\n",
       "    <tr>\n",
       "      <th>212</th>\n",
       "      <td>-0.344297</td>\n",
       "      <td>-0.152869</td>\n",
       "      <td>0.148938</td>\n",
       "      <td>0.012056</td>\n",
       "      <td>0.012056</td>\n",
       "      <td>GPN</td>\n",
       "    </tr>\n",
       "    <tr>\n",
       "      <th>364</th>\n",
       "      <td>-0.079350</td>\n",
       "      <td>-0.020813</td>\n",
       "      <td>0.088355</td>\n",
       "      <td>0.012048</td>\n",
       "      <td>0.012048</td>\n",
       "      <td>PNW</td>\n",
       "    </tr>\n",
       "    <tr>\n",
       "      <th>385</th>\n",
       "      <td>0.645534</td>\n",
       "      <td>0.079742</td>\n",
       "      <td>0.077126</td>\n",
       "      <td>0.011978</td>\n",
       "      <td>0.011978</td>\n",
       "      <td>RJF</td>\n",
       "    </tr>\n",
       "    <tr>\n",
       "      <th>486</th>\n",
       "      <td>0.058870</td>\n",
       "      <td>0.089556</td>\n",
       "      <td>0.060370</td>\n",
       "      <td>0.011972</td>\n",
       "      <td>0.011972</td>\n",
       "      <td>XEL</td>\n",
       "    </tr>\n",
       "    <tr>\n",
       "      <th>414</th>\n",
       "      <td>0.139671</td>\n",
       "      <td>0.027896</td>\n",
       "      <td>0.063593</td>\n",
       "      <td>0.011819</td>\n",
       "      <td>0.011819</td>\n",
       "      <td>SBUX</td>\n",
       "    </tr>\n",
       "    <tr>\n",
       "      <th>218</th>\n",
       "      <td>0.582774</td>\n",
       "      <td>0.038238</td>\n",
       "      <td>0.140308</td>\n",
       "      <td>0.011782</td>\n",
       "      <td>0.011782</td>\n",
       "      <td>HCA</td>\n",
       "    </tr>\n",
       "    <tr>\n",
       "      <th>379</th>\n",
       "      <td>0.078577</td>\n",
       "      <td>-0.019753</td>\n",
       "      <td>-0.009896</td>\n",
       "      <td>0.011766</td>\n",
       "      <td>0.011766</td>\n",
       "      <td>PVH</td>\n",
       "    </tr>\n",
       "    <tr>\n",
       "      <th>103</th>\n",
       "      <td>0.140649</td>\n",
       "      <td>0.143415</td>\n",
       "      <td>0.189687</td>\n",
       "      <td>0.011762</td>\n",
       "      <td>0.011762</td>\n",
       "      <td>CI</td>\n",
       "    </tr>\n",
       "    <tr>\n",
       "      <th>19</th>\n",
       "      <td>0.237593</td>\n",
       "      <td>0.095585</td>\n",
       "      <td>0.096098</td>\n",
       "      <td>0.011502</td>\n",
       "      <td>0.011502</td>\n",
       "      <td>LNT</td>\n",
       "    </tr>\n",
       "    <tr>\n",
       "      <th>411</th>\n",
       "      <td>0.189123</td>\n",
       "      <td>0.108539</td>\n",
       "      <td>0.107785</td>\n",
       "      <td>0.011499</td>\n",
       "      <td>0.011499</td>\n",
       "      <td>SO</td>\n",
       "    </tr>\n",
       "  </tbody>\n",
       "</table>\n",
       "</div>"
      ],
      "text/plain": [
       "     year_gain  quarter_gain  month_gain  week_gain  day_gain ticker\n",
       "80   -0.077290      0.053154    0.086445   0.027975  0.027975    CPB\n",
       "59    0.058805      0.051773    0.037290   0.025892  0.025892    BLL\n",
       "27    0.225380     -0.143649    0.138821   0.020363  0.020363    AAL\n",
       "456   0.412870      0.025455    0.106819   0.018734  0.018734    VLO\n",
       "5    -0.254793     -0.151025    0.163932   0.018640  0.018640   ATVI\n",
       "378   0.348273      0.223428    0.127157   0.016251  0.016251    PHM\n",
       "146   0.095266      0.093567    0.024822   0.016156  0.016156     DG\n",
       "136   0.023238     -0.126708    0.181927   0.016154  0.016154    DAL\n",
       "77    0.174126      0.235524    0.136545   0.015792  0.015792   CHRW\n",
       "472   0.015707      0.015707    0.015707   0.015707  0.015707    DIS\n",
       "363   0.107931      0.030914    0.076598   0.015661  0.015661    PSX\n",
       "118  -0.024069      0.016896    0.114614   0.015560  0.015560    CAG\n",
       "270   0.410582      0.140517    0.104700   0.015546  0.015546     KR\n",
       "451   0.087437     -0.118231    0.158986   0.015478  0.015478    UAL\n",
       "247   0.426622      0.044933    0.041979   0.015357  0.015357    IFF\n",
       "455  -0.028739     -0.057336    0.122519   0.015073  0.015073    UHS\n",
       "177   0.396224      0.171814    0.063492   0.014596  0.014596    EXC\n",
       "69    0.016821     -0.087920    0.095329   0.014569  0.014569     BA\n",
       "470  -0.010114      0.045947    0.045260   0.014351  0.014351    WMT\n",
       "32    0.256577      0.109668    0.109297   0.013945  0.013945    AWK\n",
       "182   0.402957      0.225036    0.101974   0.013932  0.013932   FFIV\n",
       "471   0.289897      0.109524    0.176349   0.013799  0.013799    WBA\n",
       "410   0.330307      0.042534    0.069685   0.013694  0.013694    SNA\n",
       "151   0.095730     -0.021387    0.073351   0.013603  0.013603    DOW\n",
       "188   0.449454      0.154835    0.086403   0.013350  0.013350     FE\n",
       "413   0.118780      0.071385    0.090255   0.013091  0.013091    SWK\n",
       "47    0.374601      0.106956    0.082659   0.013016  0.013016    ADM\n",
       "28    0.120702      0.094109    0.098779   0.012977  0.012977    AEP\n",
       "71    0.197782      0.028665    0.048319   0.012855  0.012855    BWA\n",
       "350   0.059328      0.117107    0.072375   0.012821  0.012821   PCAR\n",
       "475   0.099781      0.109579    0.100593   0.012804  0.012804    WEC\n",
       "174   0.316406      0.115555    0.082357   0.012745  0.012745   EVRG\n",
       "412  -0.061057     -0.221895   -0.006110   0.012692  0.012692    LUV\n",
       "395  -0.113340     -0.054443    0.049468   0.012689  0.012689    ROL\n",
       "23    0.247248      0.052979    0.123275   0.012610  0.012610     MO\n",
       "207   0.172213      0.112608    0.088882   0.012564  0.012564    GIS\n",
       "134  -0.033820     -0.037537    0.187968   0.012503  0.012503    DVA\n",
       "153   0.211838      0.072350    0.082281   0.012392  0.012392    DUK\n",
       "269   0.092412     -0.011243    0.090633   0.012137  0.012137    KHC\n",
       "479   0.203140      0.100718    0.088704   0.012079  0.012079    WDC\n",
       "212  -0.344297     -0.152869    0.148938   0.012056  0.012056    GPN\n",
       "364  -0.079350     -0.020813    0.088355   0.012048  0.012048    PNW\n",
       "385   0.645534      0.079742    0.077126   0.011978  0.011978    RJF\n",
       "486   0.058870      0.089556    0.060370   0.011972  0.011972    XEL\n",
       "414   0.139671      0.027896    0.063593   0.011819  0.011819   SBUX\n",
       "218   0.582774      0.038238    0.140308   0.011782  0.011782    HCA\n",
       "379   0.078577     -0.019753   -0.009896   0.011766  0.011766    PVH\n",
       "103   0.140649      0.143415    0.189687   0.011762  0.011762     CI\n",
       "19    0.237593      0.095585    0.096098   0.011502  0.011502    LNT\n",
       "411   0.189123      0.108539    0.107785   0.011499  0.011499     SO"
      ]
     },
     "execution_count": 17,
     "metadata": {},
     "output_type": "execute_result"
    }
   ],
   "source": [
    "period = \"day\"\n",
    "a = pd.DataFrame(analysis)\n",
    "a.sort_values(f\"{period}_gain\",ascending=False).head(50)"
   ]
  },
  {
   "cell_type": "code",
   "execution_count": 18,
   "id": "50ccea9f",
   "metadata": {},
   "outputs": [
    {
     "ename": "KeyError",
     "evalue": "'GICS Sector'",
     "output_type": "error",
     "traceback": [
      "\u001b[1;31m---------------------------------------------------------------------------\u001b[0m",
      "\u001b[1;31mKeyError\u001b[0m                                  Traceback (most recent call last)",
      "\u001b[1;32m~\\AppData\\Local\\Temp/ipykernel_992/3289799553.py\u001b[0m in \u001b[0;36m<module>\u001b[1;34m\u001b[0m\n\u001b[1;32m----> 1\u001b[1;33m \u001b[0ma\u001b[0m\u001b[1;33m.\u001b[0m\u001b[0mgroupby\u001b[0m\u001b[1;33m(\u001b[0m\u001b[1;34m\"GICS Sector\"\u001b[0m\u001b[1;33m)\u001b[0m\u001b[1;33m.\u001b[0m\u001b[0mmean\u001b[0m\u001b[1;33m(\u001b[0m\u001b[1;33m)\u001b[0m\u001b[1;33m.\u001b[0m\u001b[0msort_values\u001b[0m\u001b[1;33m(\u001b[0m\u001b[1;34m\"day_gain\"\u001b[0m\u001b[1;33m,\u001b[0m\u001b[0mascending\u001b[0m\u001b[1;33m=\u001b[0m\u001b[1;32mFalse\u001b[0m\u001b[1;33m)\u001b[0m\u001b[1;33m.\u001b[0m\u001b[0mhead\u001b[0m\u001b[1;33m(\u001b[0m\u001b[1;36m20\u001b[0m\u001b[1;33m)\u001b[0m\u001b[1;33m\u001b[0m\u001b[1;33m\u001b[0m\u001b[0m\n\u001b[0m",
      "\u001b[1;32m~\\AppData\\Local\\Programs\\Python\\Python310\\lib\\site-packages\\pandas\\core\\frame.py\u001b[0m in \u001b[0;36mgroupby\u001b[1;34m(self, by, axis, level, as_index, sort, group_keys, squeeze, observed, dropna)\u001b[0m\n\u001b[0;32m   7629\u001b[0m         \u001b[1;31m# error: Argument \"squeeze\" to \"DataFrameGroupBy\" has incompatible type\u001b[0m\u001b[1;33m\u001b[0m\u001b[1;33m\u001b[0m\u001b[0m\n\u001b[0;32m   7630\u001b[0m         \u001b[1;31m# \"Union[bool, NoDefault]\"; expected \"bool\"\u001b[0m\u001b[1;33m\u001b[0m\u001b[1;33m\u001b[0m\u001b[0m\n\u001b[1;32m-> 7631\u001b[1;33m         return DataFrameGroupBy(\n\u001b[0m\u001b[0;32m   7632\u001b[0m             \u001b[0mobj\u001b[0m\u001b[1;33m=\u001b[0m\u001b[0mself\u001b[0m\u001b[1;33m,\u001b[0m\u001b[1;33m\u001b[0m\u001b[1;33m\u001b[0m\u001b[0m\n\u001b[0;32m   7633\u001b[0m             \u001b[0mkeys\u001b[0m\u001b[1;33m=\u001b[0m\u001b[0mby\u001b[0m\u001b[1;33m,\u001b[0m\u001b[1;33m\u001b[0m\u001b[1;33m\u001b[0m\u001b[0m\n",
      "\u001b[1;32m~\\AppData\\Local\\Programs\\Python\\Python310\\lib\\site-packages\\pandas\\core\\groupby\\groupby.py\u001b[0m in \u001b[0;36m__init__\u001b[1;34m(self, obj, keys, axis, level, grouper, exclusions, selection, as_index, sort, group_keys, squeeze, observed, mutated, dropna)\u001b[0m\n\u001b[0;32m    887\u001b[0m             \u001b[1;32mfrom\u001b[0m \u001b[0mpandas\u001b[0m\u001b[1;33m.\u001b[0m\u001b[0mcore\u001b[0m\u001b[1;33m.\u001b[0m\u001b[0mgroupby\u001b[0m\u001b[1;33m.\u001b[0m\u001b[0mgrouper\u001b[0m \u001b[1;32mimport\u001b[0m \u001b[0mget_grouper\u001b[0m\u001b[1;33m\u001b[0m\u001b[1;33m\u001b[0m\u001b[0m\n\u001b[0;32m    888\u001b[0m \u001b[1;33m\u001b[0m\u001b[0m\n\u001b[1;32m--> 889\u001b[1;33m             grouper, exclusions, obj = get_grouper(\n\u001b[0m\u001b[0;32m    890\u001b[0m                 \u001b[0mobj\u001b[0m\u001b[1;33m,\u001b[0m\u001b[1;33m\u001b[0m\u001b[1;33m\u001b[0m\u001b[0m\n\u001b[0;32m    891\u001b[0m                 \u001b[0mkeys\u001b[0m\u001b[1;33m,\u001b[0m\u001b[1;33m\u001b[0m\u001b[1;33m\u001b[0m\u001b[0m\n",
      "\u001b[1;32m~\\AppData\\Local\\Programs\\Python\\Python310\\lib\\site-packages\\pandas\\core\\groupby\\grouper.py\u001b[0m in \u001b[0;36mget_grouper\u001b[1;34m(obj, key, axis, level, sort, observed, mutated, validate, dropna)\u001b[0m\n\u001b[0;32m    860\u001b[0m                 \u001b[0min_axis\u001b[0m\u001b[1;33m,\u001b[0m \u001b[0mlevel\u001b[0m\u001b[1;33m,\u001b[0m \u001b[0mgpr\u001b[0m \u001b[1;33m=\u001b[0m \u001b[1;32mFalse\u001b[0m\u001b[1;33m,\u001b[0m \u001b[0mgpr\u001b[0m\u001b[1;33m,\u001b[0m \u001b[1;32mNone\u001b[0m\u001b[1;33m\u001b[0m\u001b[1;33m\u001b[0m\u001b[0m\n\u001b[0;32m    861\u001b[0m             \u001b[1;32melse\u001b[0m\u001b[1;33m:\u001b[0m\u001b[1;33m\u001b[0m\u001b[1;33m\u001b[0m\u001b[0m\n\u001b[1;32m--> 862\u001b[1;33m                 \u001b[1;32mraise\u001b[0m \u001b[0mKeyError\u001b[0m\u001b[1;33m(\u001b[0m\u001b[0mgpr\u001b[0m\u001b[1;33m)\u001b[0m\u001b[1;33m\u001b[0m\u001b[1;33m\u001b[0m\u001b[0m\n\u001b[0m\u001b[0;32m    863\u001b[0m         \u001b[1;32melif\u001b[0m \u001b[0misinstance\u001b[0m\u001b[1;33m(\u001b[0m\u001b[0mgpr\u001b[0m\u001b[1;33m,\u001b[0m \u001b[0mGrouper\u001b[0m\u001b[1;33m)\u001b[0m \u001b[1;32mand\u001b[0m \u001b[0mgpr\u001b[0m\u001b[1;33m.\u001b[0m\u001b[0mkey\u001b[0m \u001b[1;32mis\u001b[0m \u001b[1;32mnot\u001b[0m \u001b[1;32mNone\u001b[0m\u001b[1;33m:\u001b[0m\u001b[1;33m\u001b[0m\u001b[1;33m\u001b[0m\u001b[0m\n\u001b[0;32m    864\u001b[0m             \u001b[1;31m# Add key to exclusions\u001b[0m\u001b[1;33m\u001b[0m\u001b[1;33m\u001b[0m\u001b[0m\n",
      "\u001b[1;31mKeyError\u001b[0m: 'GICS Sector'"
     ]
    }
   ],
   "source": [
    "a.groupby(\"GICS Sector\").mean().sort_values(\"day_gain\",ascending=False).head(20)"
   ]
  },
  {
   "cell_type": "code",
   "execution_count": null,
   "id": "be10b131",
   "metadata": {},
   "outputs": [],
   "source": []
  }
 ],
 "metadata": {
  "kernelspec": {
   "display_name": "Python 3 (ipykernel)",
   "language": "python",
   "name": "python3"
  },
  "language_info": {
   "codemirror_mode": {
    "name": "ipython",
    "version": 3
   },
   "file_extension": ".py",
   "mimetype": "text/x-python",
   "name": "python",
   "nbconvert_exporter": "python",
   "pygments_lexer": "ipython3",
   "version": "3.10.1"
  }
 },
 "nbformat": 4,
 "nbformat_minor": 5
}
