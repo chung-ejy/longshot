{
 "cells": [
  {
   "cell_type": "code",
   "execution_count": 1,
   "id": "aa80f443",
   "metadata": {
    "scrolled": true
   },
   "outputs": [],
   "source": [
    "from datetime import datetime, timedelta\n",
    "import pytz\n",
    "import pandas as pd\n",
    "from tqdm import tqdm\n",
    "from modeler.modeler import Modeler as m\n",
    "from processor.processor import Processor as p\n",
    "from database.market import Market\n",
    "from database.adatabase import ADatabase\n",
    "import numpy as np\n",
    "import matplotlib.pyplot as plt\n",
    "import pickle"
   ]
  },
  {
   "cell_type": "code",
   "execution_count": 2,
   "id": "b38d4176",
   "metadata": {
    "scrolled": true
   },
   "outputs": [],
   "source": [
    "start_date = datetime(2016,1,1)\n",
    "end_date = datetime(2021,1,1)"
   ]
  },
  {
   "cell_type": "code",
   "execution_count": 3,
   "id": "e5adbebb",
   "metadata": {},
   "outputs": [],
   "source": [
    "market = Market()\n",
    "speculation_db = ADatabase(\"strategy_speculation\")"
   ]
  },
  {
   "cell_type": "code",
   "execution_count": 4,
   "id": "235a8676",
   "metadata": {},
   "outputs": [],
   "source": [
    "market.connect()\n",
    "prices = market.retrieve(\"prices\")\n",
    "sp5 = market.retrieve(\"sp500\")\n",
    "market.disconnect()"
   ]
  },
  {
   "cell_type": "code",
   "execution_count": 5,
   "id": "4a1d71da",
   "metadata": {},
   "outputs": [],
   "source": [
    "prices = p.column_date_processing(prices)"
   ]
  },
  {
   "cell_type": "code",
   "execution_count": 6,
   "id": "8bd7689f",
   "metadata": {},
   "outputs": [],
   "source": [
    "prices[\"year\"] = [x.year for x in prices[\"date\"]]\n",
    "prices[\"week\"] = [x.week for x in prices[\"date\"]]\n",
    "prices[\"quarter\"] = [x.quarter for x in prices[\"date\"]]"
   ]
  },
  {
   "cell_type": "code",
   "execution_count": 7,
   "id": "26526c95",
   "metadata": {},
   "outputs": [
    {
     "name": "stderr",
     "output_type": "stream",
     "text": [
      "100%|██████████████████████████████████████████████████████████████████████████████████████████████████████████████| 505/505 [01:50<00:00,  4.59it/s]\n"
     ]
    }
   ],
   "source": [
    "data = []\n",
    "for ticker in tqdm(sp5[\"Symbol\"]):\n",
    "    ticker_data = prices[prices[\"ticker\"]==ticker]\n",
    "    ticker_data.sort_values(\"date\",ascending=True)\n",
    "    ticker_data = ticker_data.groupby([\"year\",\"week\"]).mean().reset_index()\n",
    "    for i in range(14):\n",
    "        ticker_data[str(i)] = ticker_data[\"adjclose\"].shift(i)\n",
    "    ticker_data[\"d1\"] = ticker_data[\"adjclose\"].pct_change(periods=7)\n",
    "    ticker_data[\"d2\"] = ticker_data[\"d1\"].pct_change(periods=1)\n",
    "    ticker_data[\"d3\"] = ticker_data[\"d2\"].pct_change(periods=1)\n",
    "    ticker_data.dropna(inplace=True)\n",
    "    ticker_data[\"ticker\"] = ticker\n",
    "    data.append(ticker_data)\n",
    "    "
   ]
  },
  {
   "cell_type": "code",
   "execution_count": 8,
   "id": "5b2570a1",
   "metadata": {},
   "outputs": [],
   "source": [
    "final_data = pd.concat(data)"
   ]
  },
  {
   "cell_type": "code",
   "execution_count": 9,
   "id": "70b80e11",
   "metadata": {},
   "outputs": [
    {
     "data": {
      "text/html": [
       "<div>\n",
       "<style scoped>\n",
       "    .dataframe tbody tr th:only-of-type {\n",
       "        vertical-align: middle;\n",
       "    }\n",
       "\n",
       "    .dataframe tbody tr th {\n",
       "        vertical-align: top;\n",
       "    }\n",
       "\n",
       "    .dataframe thead th {\n",
       "        text-align: right;\n",
       "    }\n",
       "</style>\n",
       "<table border=\"1\" class=\"dataframe\">\n",
       "  <thead>\n",
       "    <tr style=\"text-align: right;\">\n",
       "      <th></th>\n",
       "      <th>year</th>\n",
       "      <th>week</th>\n",
       "      <th>close</th>\n",
       "      <th>high</th>\n",
       "      <th>low</th>\n",
       "      <th>open</th>\n",
       "      <th>volume</th>\n",
       "      <th>adjclose</th>\n",
       "      <th>adjhigh</th>\n",
       "      <th>adjlow</th>\n",
       "      <th>...</th>\n",
       "      <th>8</th>\n",
       "      <th>9</th>\n",
       "      <th>10</th>\n",
       "      <th>11</th>\n",
       "      <th>12</th>\n",
       "      <th>13</th>\n",
       "      <th>d1</th>\n",
       "      <th>d2</th>\n",
       "      <th>d3</th>\n",
       "      <th>ticker</th>\n",
       "    </tr>\n",
       "  </thead>\n",
       "  <tbody>\n",
       "    <tr>\n",
       "      <th>13</th>\n",
       "      <td>1994</td>\n",
       "      <td>14</td>\n",
       "      <td>99.702</td>\n",
       "      <td>100.228</td>\n",
       "      <td>98.750</td>\n",
       "      <td>99.026</td>\n",
       "      <td>390940.0</td>\n",
       "      <td>11.634235</td>\n",
       "      <td>11.695614</td>\n",
       "      <td>11.523146</td>\n",
       "      <td>...</td>\n",
       "      <td>12.162794</td>\n",
       "      <td>12.295876</td>\n",
       "      <td>12.662951</td>\n",
       "      <td>12.810846</td>\n",
       "      <td>12.686328</td>\n",
       "      <td>12.359292</td>\n",
       "      <td>-0.065907</td>\n",
       "      <td>0.337379</td>\n",
       "      <td>1.867036</td>\n",
       "      <td>MMM</td>\n",
       "    </tr>\n",
       "    <tr>\n",
       "      <th>14</th>\n",
       "      <td>1994</td>\n",
       "      <td>15</td>\n",
       "      <td>50.252</td>\n",
       "      <td>51.002</td>\n",
       "      <td>50.002</td>\n",
       "      <td>50.528</td>\n",
       "      <td>636460.0</td>\n",
       "      <td>11.727821</td>\n",
       "      <td>11.902856</td>\n",
       "      <td>11.669476</td>\n",
       "      <td>...</td>\n",
       "      <td>12.455112</td>\n",
       "      <td>12.162794</td>\n",
       "      <td>12.295876</td>\n",
       "      <td>12.662951</td>\n",
       "      <td>12.810846</td>\n",
       "      <td>12.686328</td>\n",
       "      <td>-0.057694</td>\n",
       "      <td>-0.124612</td>\n",
       "      <td>-1.369352</td>\n",
       "      <td>MMM</td>\n",
       "    </tr>\n",
       "    <tr>\n",
       "      <th>15</th>\n",
       "      <td>1994</td>\n",
       "      <td>16</td>\n",
       "      <td>48.000</td>\n",
       "      <td>48.728</td>\n",
       "      <td>47.502</td>\n",
       "      <td>48.428</td>\n",
       "      <td>647380.0</td>\n",
       "      <td>11.202249</td>\n",
       "      <td>11.372149</td>\n",
       "      <td>11.086025</td>\n",
       "      <td>...</td>\n",
       "      <td>12.445873</td>\n",
       "      <td>12.455112</td>\n",
       "      <td>12.162794</td>\n",
       "      <td>12.295876</td>\n",
       "      <td>12.662951</td>\n",
       "      <td>12.810846</td>\n",
       "      <td>-0.075376</td>\n",
       "      <td>0.306480</td>\n",
       "      <td>-3.459481</td>\n",
       "      <td>MMM</td>\n",
       "    </tr>\n",
       "    <tr>\n",
       "      <th>16</th>\n",
       "      <td>1994</td>\n",
       "      <td>17</td>\n",
       "      <td>48.625</td>\n",
       "      <td>49.190</td>\n",
       "      <td>48.005</td>\n",
       "      <td>48.815</td>\n",
       "      <td>950700.0</td>\n",
       "      <td>11.348111</td>\n",
       "      <td>11.479971</td>\n",
       "      <td>11.203415</td>\n",
       "      <td>...</td>\n",
       "      <td>12.115465</td>\n",
       "      <td>12.445873</td>\n",
       "      <td>12.455112</td>\n",
       "      <td>12.162794</td>\n",
       "      <td>12.295876</td>\n",
       "      <td>12.662951</td>\n",
       "      <td>-0.069841</td>\n",
       "      <td>-0.073435</td>\n",
       "      <td>-1.239608</td>\n",
       "      <td>MMM</td>\n",
       "    </tr>\n",
       "    <tr>\n",
       "      <th>17</th>\n",
       "      <td>1994</td>\n",
       "      <td>18</td>\n",
       "      <td>49.602</td>\n",
       "      <td>49.804</td>\n",
       "      <td>49.054</td>\n",
       "      <td>49.452</td>\n",
       "      <td>642860.0</td>\n",
       "      <td>11.576124</td>\n",
       "      <td>11.623266</td>\n",
       "      <td>11.448231</td>\n",
       "      <td>...</td>\n",
       "      <td>12.200182</td>\n",
       "      <td>12.115465</td>\n",
       "      <td>12.445873</td>\n",
       "      <td>12.455112</td>\n",
       "      <td>12.162794</td>\n",
       "      <td>12.295876</td>\n",
       "      <td>-0.033589</td>\n",
       "      <td>-0.519061</td>\n",
       "      <td>6.068273</td>\n",
       "      <td>MMM</td>\n",
       "    </tr>\n",
       "  </tbody>\n",
       "</table>\n",
       "<p>5 rows × 33 columns</p>\n",
       "</div>"
      ],
      "text/plain": [
       "    year  week   close     high     low    open    volume   adjclose  \\\n",
       "13  1994    14  99.702  100.228  98.750  99.026  390940.0  11.634235   \n",
       "14  1994    15  50.252   51.002  50.002  50.528  636460.0  11.727821   \n",
       "15  1994    16  48.000   48.728  47.502  48.428  647380.0  11.202249   \n",
       "16  1994    17  48.625   49.190  48.005  48.815  950700.0  11.348111   \n",
       "17  1994    18  49.602   49.804  49.054  49.452  642860.0  11.576124   \n",
       "\n",
       "      adjhigh     adjlow  ...          8          9         10         11  \\\n",
       "13  11.695614  11.523146  ...  12.162794  12.295876  12.662951  12.810846   \n",
       "14  11.902856  11.669476  ...  12.455112  12.162794  12.295876  12.662951   \n",
       "15  11.372149  11.086025  ...  12.445873  12.455112  12.162794  12.295876   \n",
       "16  11.479971  11.203415  ...  12.115465  12.445873  12.455112  12.162794   \n",
       "17  11.623266  11.448231  ...  12.200182  12.115465  12.445873  12.455112   \n",
       "\n",
       "           12         13        d1        d2        d3  ticker  \n",
       "13  12.686328  12.359292 -0.065907  0.337379  1.867036     MMM  \n",
       "14  12.810846  12.686328 -0.057694 -0.124612 -1.369352     MMM  \n",
       "15  12.662951  12.810846 -0.075376  0.306480 -3.459481     MMM  \n",
       "16  12.295876  12.662951 -0.069841 -0.073435 -1.239608     MMM  \n",
       "17  12.162794  12.295876 -0.033589 -0.519061  6.068273     MMM  \n",
       "\n",
       "[5 rows x 33 columns]"
      ]
     },
     "execution_count": 9,
     "metadata": {},
     "output_type": "execute_result"
    }
   ],
   "source": [
    "final_data.head()"
   ]
  },
  {
   "cell_type": "code",
   "execution_count": 12,
   "id": "5e6f48f8",
   "metadata": {
    "scrolled": true
   },
   "outputs": [
    {
     "name": "stderr",
     "output_type": "stream",
     "text": [
      "100%|█████████████████████████████████████████████████████████████████████████████████████████████████████████████████████████████████████████████████████████████████████████████████████████████████████████████████████████████████| 505/505 [44:15<00:00,  5.26s/it]Custom logger is already specified. Specify more than one logger at same time is not thread safe.\n"
     ]
    }
   ],
   "source": [
    "start_year = 2022\n",
    "end_year = 2023\n",
    "speculation_db.connect()\n",
    "for year in range(start_year,end_year):\n",
    "    for ticker in tqdm(sp5[\"Symbol\"]):\n",
    "        try:\n",
    "            ticker_data = final_data[final_data[\"ticker\"]==ticker]\n",
    "            factors = [str(i) for i in range(14)]\n",
    "            training_data = ticker_data[(ticker_data[\"year\"]<year) & (ticker_data[\"year\"]>=year-5)].reset_index(drop=True)\n",
    "            prediction_data = ticker_data[ticker_data[\"year\"]==year]\n",
    "            if training_data.index.size > 100:\n",
    "                refined_data = {\"X\":training_data[factors],\"y\":training_data[[\"adjclose\"]].rename(columns={\"adjclose\":\"y\"})}\n",
    "                models = m.regression(refined_data)\n",
    "                models[\"model\"] = [pickle.dumps(x) for x in models[\"model\"]]\n",
    "                models[\"ticker\"] = ticker\n",
    "                models[\"year\"] = year\n",
    "                speculation_db.store(\"models\",models)\n",
    "            else:\n",
    "                continue\n",
    "        except Exception as e:\n",
    "            print(year,ticker,str(e))\n",
    "speculation_db.disconnect()"
   ]
  },
  {
   "cell_type": "code",
   "execution_count": 18,
   "id": "9f1a477f",
   "metadata": {},
   "outputs": [
    {
     "name": "stderr",
     "output_type": "stream",
     "text": [
      " 13%|██████████████████████████████▍                                                                                                                                                                                                   | 68/505 [00:03<00:23, 18.30it/s]"
     ]
    },
    {
     "name": "stdout",
     "output_type": "stream",
     "text": [
      "strategy_speculation predictions documents must be a non-empty list\n"
     ]
    },
    {
     "name": "stderr",
     "output_type": "stream",
     "text": [
      " 16%|█████████████████████████████████████▏                                                                                                                                                                                            | 83/505 [00:04<00:22, 18.98it/s]"
     ]
    },
    {
     "name": "stdout",
     "output_type": "stream",
     "text": [
      "strategy_speculation predictions documents must be a non-empty list\n"
     ]
    },
    {
     "name": "stderr",
     "output_type": "stream",
     "text": [
      " 99%|█████████████████████████████████████████████████████████████████████████████████████████████████████████████████████████████████████████████████████████████████████████████████████████████████████████████████████████████▉   | 498/505 [00:28<00:00, 17.77it/s]"
     ]
    },
    {
     "name": "stdout",
     "output_type": "stream",
     "text": [
      "2022 WLTW Found array with 0 sample(s) (shape=(0, 14)) while a minimum of 1 is required.\n"
     ]
    },
    {
     "name": "stderr",
     "output_type": "stream",
     "text": [
      "100%|█████████████████████████████████████████████████████████████████████████████████████████████████████████████████████████████████████████████████████████████████████████████████████████████████████████████████████████████████| 505/505 [00:28<00:00, 17.51it/s]"
     ]
    },
    {
     "name": "stdout",
     "output_type": "stream",
     "text": [
      "strategy_speculation predictions documents must be a non-empty list\n",
      "strategy_speculation predictions documents must be a non-empty list\n",
      "strategy_speculation predictions documents must be a non-empty list\n",
      "strategy_speculation predictions documents must be a non-empty list\n"
     ]
    },
    {
     "name": "stderr",
     "output_type": "stream",
     "text": [
      "\n"
     ]
    }
   ],
   "source": [
    "start_year = 2022\n",
    "end_year = 2023\n",
    "speculation_db.connect()\n",
    "models = speculation_db.retrieve(\"models\")\n",
    "models[\"model\"] = [pickle.loads(x) for x in models[\"model\"]]\n",
    "for year in range(start_year,end_year):\n",
    "    for ticker in tqdm(sp5[\"Symbol\"]):\n",
    "        try:\n",
    "            ticker_data = final_data[final_data[\"ticker\"]==ticker]\n",
    "            factors = [str(i) for i in range(14)]\n",
    "            prediction_data = ticker_data[ticker_data[\"year\"]==year]\n",
    "            ticker_model_data = models[(models[\"ticker\"]==ticker) & (models[\"year\"]==year)]\n",
    "            for row in ticker_model_data.iterrows():\n",
    "                model = row[1][\"model\"]\n",
    "                api = row[1][\"api\"]\n",
    "                score = row[1][\"score\"]\n",
    "                prediction_data[f\"{api}_prediction\"] = model.predict(prediction_data[factors])\n",
    "                prediction_data[f\"{api}_score\"] = score\n",
    "            included_columns = [\"year\",\"week\",\"ticker\"]\n",
    "            included_columns.extend([x for x in prediction_data.columns if \"score\" in x or \"prediction\" in x])\n",
    "            speculation_db.store(\"predictions\",prediction_data[included_columns].tail(1))\n",
    "        except Exception as e:\n",
    "            print(year,ticker,str(e))\n",
    "speculation_db.disconnect()"
   ]
  }
 ],
 "metadata": {
  "kernelspec": {
   "display_name": "Python 3 (ipykernel)",
   "language": "python",
   "name": "python3"
  },
  "language_info": {
   "codemirror_mode": {
    "name": "ipython",
    "version": 3
   },
   "file_extension": ".py",
   "mimetype": "text/x-python",
   "name": "python",
   "nbconvert_exporter": "python",
   "pygments_lexer": "ipython3",
   "version": "3.10.1"
  }
 },
 "nbformat": 4,
 "nbformat_minor": 5
}
